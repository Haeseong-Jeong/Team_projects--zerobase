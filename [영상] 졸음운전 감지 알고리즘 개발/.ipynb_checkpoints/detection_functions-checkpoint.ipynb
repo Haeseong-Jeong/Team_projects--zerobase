{
 "cells": [
  {
   "cell_type": "markdown",
   "id": "c83f7597",
   "metadata": {
    "ExecuteTime": {
     "end_time": "2023-11-15T05:35:01.096510Z",
     "start_time": "2023-11-15T05:35:01.087509Z"
    }
   },
   "source": [
    "# time 모듈 설명\n",
    "\n",
    "https://ctkim.tistory.com/entry/%ED%8C%8C%EC%9D%B4%EC%8D%AC-time-%EB%AA%A8%EB%93%88"
   ]
  },
  {
   "cell_type": "code",
   "execution_count": 1,
   "id": "f214c06f",
   "metadata": {
    "ExecuteTime": {
     "end_time": "2023-11-15T05:27:43.510469Z",
     "start_time": "2023-11-15T05:27:37.077048Z"
    },
    "scrolled": true
   },
   "outputs": [
    {
     "name": "stdout",
     "output_type": "stream",
     "text": [
      "시간을 입력하세요.(초):5\n",
      "5\n",
      "4.5\n",
      "4.0\n",
      "3.5\n",
      "3.0\n",
      "2.5\n",
      "2.0\n",
      "1.5\n",
      "1.0\n",
      "0.5\n",
      "0.0\n"
     ]
    }
   ],
   "source": [
    "import time\n",
    "\n",
    "in_sec = input(\"시간을 입력하세요.(초):\")\n",
    "\n",
    "sec = int(in_sec)\n",
    "print(sec)\n",
    "\n",
    "#while은 반복문으로 sec가 0이 되면 반복을 멈춰라\n",
    "temp = 0.5\n",
    "while (sec != 0 ):\n",
    "    sec = sec-temp\n",
    "    time.sleep(temp)\n",
    "    print(sec)"
   ]
  },
  {
   "cell_type": "code",
   "execution_count": 10,
   "id": "56a5a59d",
   "metadata": {
    "ExecuteTime": {
     "end_time": "2023-11-15T05:38:47.702094Z",
     "start_time": "2023-11-15T05:38:45.634881Z"
    },
    "scrolled": false
   },
   "outputs": [
    {
     "name": "stdout",
     "output_type": "stream",
     "text": [
      "현재 : 1700026725.6378832\n",
      "현재 : 1700026726.1378832\n",
      "현재 : 1700026726.6378832\n",
      "현재 : 1700026727.1378832\n"
     ]
    }
   ],
   "source": [
    "import time\n",
    "\n",
    "during = 2.0\n",
    "temp = 0.5\n",
    "repeat = int(during/temp)\n",
    "\n",
    "check_time = time.time()\n",
    "\n",
    "end = check_time + during\n",
    "\n",
    "for t in range(repeat):\n",
    "    print(\"현재 :\",check_time)\n",
    "    time.sleep(temp)\n",
    "    check_time = check_time + temp\n",
    "\n",
    "    "
   ]
  },
  {
   "cell_type": "code",
   "execution_count": 6,
   "id": "ac24932d",
   "metadata": {
    "ExecuteTime": {
     "end_time": "2023-11-15T06:24:57.140462Z",
     "start_time": "2023-11-15T06:24:47.026078Z"
    }
   },
   "outputs": [
    {
     "name": "stdout",
     "output_type": "stream",
     "text": [
      "perclos 감지 중 : 1700029487.0310833\n",
      "perclos 감지 중 : 1700029488.0310833\n",
      "recovery 감지 중 : 1700029489.0310833\n",
      "recovery 감지 중 : 1700029490.0310833\n",
      "recovery 감지 중 : 1700029491.0310833\n",
      "recovery 감지 중 : 1700029492.0310833\n",
      "recovery 감지 중 : 1700029493.0310833\n",
      "recovery 감지 중 : 1700029494.0310833\n",
      "recovery 감지 중 : 1700029495.0310833\n",
      "recovery 감지 중 : 1700029496.0310833\n"
     ]
    }
   ],
   "source": [
    "import time\n",
    "default_perclos_time = 2\n",
    "default_perclos_ratio = 0.1\n",
    "default_longblink_time = 3\n",
    "\n",
    "default_recovery_time = 10\n",
    "default_temp = 1\n",
    "\n",
    "def detection():\n",
    "    \n",
    "    pre = time.time()\n",
    "    detect_recovorey = pre + default_recovery_time\n",
    "    detect_perclos = pre + default_perclos_time\n",
    "    \n",
    "    while pre < detect_recovorey: # 140초 동안\n",
    "        \n",
    "        while pre < detect_perclos: # 60초 동안 \n",
    "            print('perclos 감지 중 :',pre)\n",
    "            time.sleep(default_temp)\n",
    "            pre = pre + default_temp\n",
    "            \n",
    "        print('recovery 감지 중 :',pre)\n",
    "        time.sleep(default_temp)\n",
    "        pre = pre + default_temp\n",
    "detection()"
   ]
  },
  {
   "cell_type": "code",
   "execution_count": null,
   "id": "4117aea0",
   "metadata": {},
   "outputs": [],
   "source": [
    "def detect_blink():\n",
    "    \n",
    "    "
   ]
  }
 ],
 "metadata": {
  "kernelspec": {
   "display_name": "new_dsm",
   "language": "python",
   "name": "new_dsm"
  },
  "language_info": {
   "codemirror_mode": {
    "name": "ipython",
    "version": 3
   },
   "file_extension": ".py",
   "mimetype": "text/x-python",
   "name": "python",
   "nbconvert_exporter": "python",
   "pygments_lexer": "ipython3",
   "version": "3.8.18"
  }
 },
 "nbformat": 4,
 "nbformat_minor": 5
}
