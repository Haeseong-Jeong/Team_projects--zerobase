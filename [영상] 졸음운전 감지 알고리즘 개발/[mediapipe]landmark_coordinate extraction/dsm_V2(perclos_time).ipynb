{
 "cells": [
  {
   "cell_type": "code",
   "execution_count": 1,
   "id": "bd0c5379",
   "metadata": {
    "ExecuteTime": {
     "end_time": "2023-11-18T16:51:51.120783Z",
     "start_time": "2023-11-18T16:51:47.167300Z"
    }
   },
   "outputs": [],
   "source": [
    "import utils\n",
    "\n",
    "import cv2\n",
    "import math\n",
    "import time\n",
    "import numpy as np\n",
    "import mediapipe as mp\n",
    "from scipy.spatial import distance as dist"
   ]
  },
  {
   "cell_type": "markdown",
   "id": "c6434c46",
   "metadata": {},
   "source": [
    "### model class "
   ]
  },
  {
   "cell_type": "code",
   "execution_count": 25,
   "id": "a3481fc4",
   "metadata": {
    "ExecuteTime": {
     "end_time": "2023-11-18T17:08:30.761112Z",
     "start_time": "2023-11-18T17:08:30.724082Z"
    }
   },
   "outputs": [],
   "source": [
    "class detections:\n",
    "    \n",
    "    def __init__(self):\n",
    "       \n",
    "        ### 변수\n",
    "        self.blink_flag = 0                # 눈 깜빡임 flag    \n",
    "        self.left_ear = 0                  # 현재 left_ear\n",
    "        self.right_ear = 0                 # 현재 right_ear\n",
    "        self.moment_change_flag = 0        # blink_flag 0 -> 1로 변하는 시점\n",
    "        self.moment_check = round((time.time()),4)    # 매 센싱 시각\n",
    "        self.PERCLOS = 0\n",
    "        self.level_change_flag = False\n",
    "\n",
    "        self.total_list = [[self.moment_check, self.left_ear, self.right_ear, self.blink_flag]]  # 커맨드 리스트\n",
    "            \n",
    "        self.level = 0        # 현재 레벨\n",
    "        self.level_max = 4    # max 레벨\n",
    "        self.level_min = 0    # min 레벨\n",
    "                \n",
    "        self.default_blink = 0.5              # 눈 감은 시간 0.5 이하면 버림\n",
    "        self.default_EAR_ratio = 0.25         # EAR 기준\n",
    "        self.default_perclos_time = 60        # perclos 기준 시간\n",
    "        self.default_perclos_ratio = 0.1      # perclos 비율 기준\n",
    "        self.default_recovery_time = 140      # recovery 기준 시간\n",
    "        self.default_longblink_time = 2       # longblink 기준 시간\n",
    "        self.default_sensing_temp = 1         # 몇 초 단위로 센싱할지\n",
    "\n",
    "\n",
    "    def index_2d(self, myList, value):\n",
    "        for i in range(len(myList)):\n",
    "            if myList[i][0] == value:\n",
    "                return i\n",
    "        \n",
    "        \n",
    "    def total_list_append(self,):\n",
    "        tmp_list = [self.moment_check, self.left_ear, self.right_ear, self.blink_flag]\n",
    "        self.total_list.append(tmp_list)\n",
    "        return\n",
    "    \n",
    "    \n",
    "    def landmarks_detection(self, img, results, landmark='All', draw=False):\n",
    "\n",
    "        img_height, img_width = img.shape[:2]\n",
    "        mesh_coord = [(int(point.x * img_width), int(point.y * img_height)) for point in results.multi_face_landmarks[0].landmark]\n",
    "\n",
    "        if landmark == 'All':\n",
    "            if draw:\n",
    "                [cv2.circle(img, p, 2, utils.GREEN, -1) for p in mesh_coord]\n",
    "            return mesh_coord\n",
    "\n",
    "        else:\n",
    "            mark_coords = [mesh_coord[p] for p in landmark]\n",
    "            if draw:\n",
    "                [cv2.circle(img, p, 2, utils.RED, -1) for p in mark_coords]\n",
    "            return mark_coords\n",
    "             \n",
    "                              \n",
    "    def calculate_ear(self, left_eye_coords, right_eye_coords):\n",
    "\n",
    "        # 눈 종횡비 계산\n",
    "        import math\n",
    "        from scipy.spatial import distance as dist\n",
    "\n",
    "        left_v = dist.euclidean(left_eye_coords[4], left_eye_coords[12])\n",
    "        right_v = dist.euclidean(right_eye_coords[4], right_eye_coords[12])\n",
    "        \n",
    "        left_h = dist.euclidean(left_eye_coords[0], left_eye_coords[8])\n",
    "        right_h = dist.euclidean(right_eye_coords[0], right_eye_coords[8])\n",
    "\n",
    "        left_ear = round((left_v/left_h),4); right_ear = round((right_v/right_h),4)\n",
    "\n",
    "        # 눈 떴을 때 0, 감으면 1\n",
    "        if (left_ear < self.default_EAR_ratio and right_ear < self.default_EAR_ratio):\n",
    "            self.moment_check = round(time.time(),4)\n",
    "            self.left_ear = left_ear\n",
    "            self.right_ear = right_ear\n",
    "            self.blink_flag = 1\n",
    "            self.total_list_append()\n",
    "            return\n",
    "        else:\n",
    "            self.moment_check = round(time.time(),4)\n",
    "            self.left_ear = left_ear\n",
    "            self.right_ear = right_ear\n",
    "            self.blink_flag = 0\n",
    "            self.total_list_append()\n",
    "            return\n",
    "        \n",
    "\n",
    "    def manage_drowsy(self):\n",
    "        \n",
    "        # 기존 flag vs 현재 flag 비교\n",
    "        now_flag = self.total_list[-1][-1]\n",
    "        before_flag = self.total_list[-2][-1]\n",
    "        \n",
    "        # case 4개 \n",
    "        # 0 -> 0 recovery 판단. -> 140초동안 아무일이 없었냐...\n",
    "        # 0 -> 1 그 순간 체크 (total_list 맨 처음 요소)\n",
    "        # 1 -> 1 롱블링크 판단.   ( 롱블링크가 안됬다면 -> perclos 판단 )\n",
    "        # 1 -> 0 블링크 0.5 판단, 롱블링크 판단. perclos 판단.\n",
    "    \n",
    "        if before_flag == 0 and now_flag == 0:\n",
    "            self.judge_recovery()\n",
    "            return\n",
    "        \n",
    "        elif before_flag == 0 and now_flag == 1:\n",
    "            self.moment_change_flag = self.total_list[-1][0]\n",
    "            return\n",
    "            \n",
    "        elif before_flag == 1 and now_flag == 1:\n",
    "            close_time = self.total_list[-1][0] - self.moment_change_flag\n",
    "            if close_time >= self.default_longblink_time:\n",
    "                print('롱 블링크 발생, 즉시 레벨업')\n",
    "                self.level_up()\n",
    "            return\n",
    "        \n",
    "        else: # 1 -> 0\n",
    "            close_time = self.total_list[-1][0] - self.moment_change_flag\n",
    "            if close_time <= self.default_blink:\n",
    "                #이때 1인 애들은 다  0으로 바꿔도 무방.. 하다?\n",
    "                start_idx = self.index_2d(self.total_list, self.moment_change_flag)\n",
    "                for i in range(start_idx,len(self.total_list),1):\n",
    "                    self.total_list[i][-1] = 0\n",
    "                    \n",
    "            elif close_time >= self.default_longblink_time:\n",
    "                print('롱 블링크 발생, 즉시 레벨업')\n",
    "                self.level_up()\n",
    "            \n",
    "            self.calculate_perclos()\n",
    "            return\n",
    "    \n",
    "\n",
    "    def sum_blink_time(self, idx):\n",
    "        \n",
    "        tmp_list = self.total_list[idx:]\n",
    "        tmp_list.insert(0, [0,0,0,0])\n",
    "        \n",
    "        total_time = 0\n",
    "        checkss = 0\n",
    "        \n",
    "        #print('현재 누적 리스트')\n",
    "        #for zzzzz in tmp_list:\n",
    "        #    print(zzzzz)\n",
    "            \n",
    "        #print(\"리스트 총 길이 :\",len(tmp_list))\n",
    "        for idx in range(1, (len(tmp_list)), 1):\n",
    "            \n",
    "            before = tmp_list[idx-1][-1]\n",
    "            now = tmp_list[idx][-1]\n",
    "            \n",
    "            if before == 0 and now == 0 :\n",
    "                continue\n",
    "            elif before == 1 and now == 1 :\n",
    "                continue\n",
    "            elif before == 0 and now == 1 :\n",
    "                checkss = tmp_list[idx][0]\n",
    "                #print(\"체크 시각 :\",checkss)\n",
    "                continue\n",
    "            else: # 1 -> 0\n",
    "                tmp_time = round((tmp_list[idx-1][0] - checkss), 4)\n",
    "                #print(\"눈 감은 시간 계산 :\",tmp_time)\n",
    "\n",
    "                total_time = round((total_time + tmp_time),4)\n",
    "                #print(\"총 눈 감은 시간 계산 :\",total_time)\n",
    "\n",
    "        return total_time\n",
    "    \n",
    "    \n",
    "    def calculate_perclos(self):\n",
    "\n",
    "        now = self.total_list[-1][0]\n",
    "        \n",
    "        for n in range((len(self.total_list)-2),-1,-1):\n",
    "            if (now - self.total_list[n][0]) <= self.default_perclos_time:\n",
    "                pass\n",
    "            else:\n",
    "                break\n",
    "        \n",
    "        standard = self.total_list[n][0]\n",
    "        \n",
    "        #print(\"시작 시각 :\",standard)\n",
    "        #print(\"지금 시각 :\",now)\n",
    "        \n",
    "        start_idx = self.index_2d(self.total_list, standard)\n",
    "        \n",
    "        total_clos_time = self.sum_blink_time(idx=start_idx)\n",
    "        \n",
    "        print(\"총 눈 감은 시간 :\",total_clos_time)\n",
    "\n",
    "        self.PERCLOS = round((total_clos_time / self.default_perclos_time),2) # perclos 계산\n",
    "        \n",
    "        if self.PERCLOS > self.default_perclos_ratio :\n",
    "            print('Perclos 초과, 레벨업')\n",
    "            self.level_up()\n",
    "\n",
    "        return\n",
    "       \n",
    "        \n",
    "    # recovery는 지금부터 140초 이상 됬는데 레벨업이 없었다면 한단계 회복하면 된다.\n",
    "    def judge_recovery(self):\n",
    "        \n",
    "        now = self.total_list[-1][0]\n",
    "        first = self.total_list[0][0]\n",
    "        \n",
    "        if (now - first >= self.default_recovery_time):\n",
    "            print('정상상태 지속됨, 레벨 다운')\n",
    "            self.level_down()\n",
    "        return    \n",
    "\n",
    "    def level_down(self):# 레벨 0까지 안내려가도록 레벨다운\n",
    "        if self.level == self.level_min :\n",
    "            print('[안전] 이미 MIN 레벨')\n",
    "            self.level = self.level_min\n",
    "            self.reset()\n",
    "        else:\n",
    "            now_level = self.level - 1\n",
    "            self.reset()\n",
    "            self.level = now_level\n",
    "        return\n",
    "\n",
    "\n",
    "    def level_up(self):\n",
    "        if self.level == self.level_max :\n",
    "            print('[경고] MAX 레벨을 넘어섬!!!!!')\n",
    "            self.reset()\n",
    "            self.level = self.level_max\n",
    "        else:\n",
    "            now_level = self.level + 1\n",
    "            self.reset()\n",
    "            self.level = now_level\n",
    "        return\n",
    "    \n",
    "    def reset(self):\n",
    "        self.__init__()\n",
    "        return\n",
    "    \n",
    "    "
   ]
  },
  {
   "cell_type": "code",
   "execution_count": null,
   "id": "8d22ce74",
   "metadata": {},
   "outputs": [],
   "source": []
  },
  {
   "cell_type": "code",
   "execution_count": null,
   "id": "1c9282aa",
   "metadata": {},
   "outputs": [],
   "source": []
  },
  {
   "cell_type": "markdown",
   "id": "1eaa63ae",
   "metadata": {},
   "source": [
    "### main 문"
   ]
  },
  {
   "cell_type": "code",
   "execution_count": 26,
   "id": "b4582043",
   "metadata": {
    "ExecuteTime": {
     "end_time": "2023-11-18T17:08:32.208120Z",
     "start_time": "2023-11-18T17:08:31.869517Z"
    }
   },
   "outputs": [],
   "source": [
    "mp_face_mesh = mp.solutions.face_mesh\n",
    "\n",
    "frame_counter = 0\n",
    "\n",
    "cap = cv2.VideoCapture(0)\n",
    "\n",
    "FONTS = cv2.FONT_HERSHEY_COMPLEX\n",
    "\n",
    "dsm_model = detections()\n",
    "\n",
    "# 총 16\n",
    "left_eye = [362,382,381,380,374,373,390,249,263,466,388,387,386,385,384,398]\n",
    "right_eye = [33,7,163,144,145,153,154,155,133,173,157,158,159,160,161,246] "
   ]
  },
  {
   "cell_type": "code",
   "execution_count": 27,
   "id": "f2fc9409",
   "metadata": {
    "ExecuteTime": {
     "end_time": "2023-11-18T17:09:05.724391Z",
     "start_time": "2023-11-18T17:08:32.568371Z"
    },
    "scrolled": false
   },
   "outputs": [
    {
     "name": "stdout",
     "output_type": "stream",
     "text": [
      "총 눈 감은 시간 : 0\n",
      "총 눈 감은 시간 : 0\n",
      "총 눈 감은 시간 : 0\n",
      "총 눈 감은 시간 : 0\n",
      "총 눈 감은 시간 : 0.4845\n",
      "총 눈 감은 시간 : 1.2238\n",
      "총 눈 감은 시간 : 2.0679\n",
      "총 눈 감은 시간 : 2.8838\n",
      "총 눈 감은 시간 : 3.6058\n",
      "총 눈 감은 시간 : 3.6058\n",
      "총 눈 감은 시간 : 3.6058\n",
      "총 눈 감은 시간 : 4.2142\n",
      "총 눈 감은 시간 : 5.0707\n",
      "총 눈 감은 시간 : 5.0707\n",
      "총 눈 감은 시간 : 6.6102\n",
      "Perclos 초과, 레벨업\n",
      "총 눈 감은 시간 : 0.9431\n",
      "총 눈 감은 시간 : 0.9431\n",
      "총 눈 감은 시간 : 0.9431\n",
      "총 눈 감은 시간 : 1.9021\n",
      "총 눈 감은 시간 : 2.3891\n",
      "총 눈 감은 시간 : 2.3891\n",
      "총 눈 감은 시간 : 2.3891\n",
      "총 눈 감은 시간 : 2.3891\n",
      "롱 블링크 발생, 즉시 레벨업\n",
      "총 눈 감은 시간 : 0\n",
      "총 눈 감은 시간 : 0\n",
      "총 눈 감은 시간 : 0\n"
     ]
    }
   ],
   "source": [
    "with mp_face_mesh.FaceMesh(min_detection_confidence=0.5, min_tracking_confidence=0.5) as face_mesh:\n",
    "    \n",
    "    start_time = time.time()\n",
    "    \n",
    "    while True:\n",
    "        \n",
    "        frame_counter += 1\n",
    "        \n",
    "        ret, frame = cap.read()\n",
    "        if not ret:\n",
    "            break\n",
    "        \n",
    "        \n",
    "        rgb_frame = cv2.cvtColor(frame, cv2.COLOR_RGB2BGR)\n",
    "        results = face_mesh.process(rgb_frame)\n",
    "        parameter_img = np.zeros((512, 512, 3), np.uint8)\n",
    "        \n",
    "        \n",
    "        if results.multi_face_landmarks:\n",
    "            # 눈 색 채워서 표시하기\n",
    "            #frame = utils.fillPolyTrans(frame, [all_mesh_coords[p] for p in left_eye], utils.GREEN, opacity=0.8)\n",
    "            #frame = utils.fillPolyTrans(frame, [all_mesh_coords[p] for p in right_eye], utils.GREEN, opacity=0.8)\n",
    "            \n",
    "            \n",
    "            ########################################## 튜닝 공간  ##########################################\n",
    "            ################################################################################################\n",
    "            ################################################################################################\n",
    "            \n",
    "            # 1. 눈 좌표 추출            \n",
    "            left_eye_coords = dsm_model.landmarks_detection(frame, results, landmark=left_eye, draw=True)\n",
    "            right_eye_coords = dsm_model.landmarks_detection(frame, results, landmark=right_eye, draw=True)\n",
    "            \n",
    "            # 2. ear계산 및 눈 깜빡임 판단\n",
    "            dsm_model.calculate_ear(left_eye_coords,right_eye_coords)\n",
    "            \n",
    "            # 3. 눈 깜빡임 변수로 졸음 판단.\n",
    "            dsm_model.manage_drowsy()        \n",
    "            \n",
    "            \n",
    "            #for zz in dsm_model.total_list:\n",
    "            #    print(zz)\n",
    "            \n",
    "            # 띄울 파라미터들\n",
    "            level = \"Level : {}\".format(dsm_model.level)\n",
    "            now_left_ear = \"left_ear : {}\".format(dsm_model.left_ear)\n",
    "            now_right_ear = \"right_ear : {}\".format(dsm_model.right_ear)\n",
    "            perclos = \"PERCLOS : {}\".format(dsm_model.PERCLOS)\n",
    "            #blink = \"blink time :{}\".format(ds_model.total_blink_time[-1])\n",
    "\n",
    "            \n",
    "\n",
    "            # 네모박스에 파라미터 띄우기\n",
    "            # 방법 : cv2.putText(image_original, text, (cx, cy),cv2.FONT_HERSHEY_DUPLEX, 0.5, (255, 255, 255))\n",
    "            \n",
    "            cv2.putText(parameter_img, level, (0, 50), cv2.FONT_HERSHEY_DUPLEX, 1.5, (255, 255, 255),1)\n",
    "            cv2.putText(parameter_img, now_left_ear, (0, 150), cv2.FONT_HERSHEY_DUPLEX, 1.5, (255, 255, 255),1)\n",
    "            cv2.putText(parameter_img, now_right_ear, (0, 250), cv2.FONT_HERSHEY_DUPLEX, 1.5, (255, 255, 255),1)\n",
    "            cv2.putText(parameter_img, perclos, (0, 350), cv2.FONT_HERSHEY_DUPLEX, 1.5, (255, 255, 255),1)\n",
    "            #cv2.putText(parameter_img, blink, (0, 450), cv2.FONT_HERSHEY_DUPLEX, 1.5, (255, 255, 255),1)\n",
    "                        \n",
    "            \n",
    "            \n",
    "            ################################################################################################\n",
    "            ################################################################################################\n",
    "            ################################################################################################\n",
    "            \n",
    "        \n",
    "        end_time = time.time() - start_time\n",
    "        fps = frame_counter/end_time\n",
    "        \n",
    "        frame = utils.textWithBackground(frame, f'FPS: {round(fps,1)}', FONTS, 1.0, (20,50), bgOpacity=0.9)\n",
    "        \n",
    "        cv2.imshow('Face mesh', frame)\n",
    "        cv2.imshow('parameter', parameter_img)\n",
    "        \n",
    "        key = cv2.waitKey(1)\n",
    "        if key==ord('q') or key==ord('Q'):\n",
    "            break\n",
    "    \n",
    "    cv2.destroyAllWindows()\n",
    "    "
   ]
  },
  {
   "cell_type": "code",
   "execution_count": null,
   "id": "aa206bc3",
   "metadata": {},
   "outputs": [],
   "source": []
  },
  {
   "cell_type": "code",
   "execution_count": 23,
   "id": "3dfebab1",
   "metadata": {
    "ExecuteTime": {
     "end_time": "2023-11-18T17:07:02.676910Z",
     "start_time": "2023-11-18T17:07:02.658938Z"
    }
   },
   "outputs": [
    {
     "name": "stdout",
     "output_type": "stream",
     "text": [
      "1700327222.661912\n",
      "1700327222.6619\n"
     ]
    }
   ],
   "source": [
    "print(time.time())\n",
    "print(round(time.time(),4))"
   ]
  },
  {
   "cell_type": "code",
   "execution_count": 19,
   "id": "e7423d9f",
   "metadata": {
    "ExecuteTime": {
     "end_time": "2023-11-18T08:01:46.142592Z",
     "start_time": "2023-11-18T08:01:46.124600Z"
    }
   },
   "outputs": [
    {
     "name": "stdout",
     "output_type": "stream",
     "text": [
      "3\n"
     ]
    }
   ],
   "source": [
    "lista = [[0,1],\n",
    "         [1.13,0],\n",
    "         [2.3,1],\n",
    "         [2.34,1],\n",
    "         [4,1],\n",
    "         [5,0],\n",
    "         [6,0],\n",
    "         [7,1],\n",
    "         [8,1],\n",
    "         [9,1],\n",
    "         [10,0],\n",
    "         [11,0]]\n",
    "\n",
    "#lista.index(5, start) \n",
    "\n",
    "def index_2d(myList,v):\n",
    "    for i in range(len(myList)):\n",
    "        if myList[i][0] == v:\n",
    "            return i\n",
    "        \n",
    "myList = [[1,2],[3,4],[5,6]]\n",
    "\n",
    "#print(index_2d(lista,3))\n",
    "\n",
    "start_idx = index_2d(lista,2.34)\n",
    "print(start_idx)\n",
    "\n",
    "#tmp_list = lista.copy()\n",
    "\n",
    "#print(tmp_list)\n",
    "#for i in range(start_idx,len(tmp_list),1):\n",
    "    #tmp_list[i][1] = 0\n",
    "    \n",
    "#print(tmp_list)"
   ]
  },
  {
   "cell_type": "code",
   "execution_count": 37,
   "id": "65e5cb27",
   "metadata": {
    "ExecuteTime": {
     "end_time": "2023-11-16T08:55:09.981242Z",
     "start_time": "2023-11-16T08:55:09.963243Z"
    }
   },
   "outputs": [
    {
     "name": "stdout",
     "output_type": "stream",
     "text": [
      "0 0\n",
      "1 4\n",
      "0 0\n"
     ]
    }
   ],
   "source": [
    "zzz = test()\n",
    "\n",
    "print(zzz.a, zzz.b)\n",
    "\n",
    "zzz.inputs(1,4)\n",
    "\n",
    "print(zzz.a, zzz.b)\n",
    "\n",
    "zzz.reset()\n",
    "\n",
    "print(zzz.a, zzz.b)\n"
   ]
  },
  {
   "cell_type": "code",
   "execution_count": 7,
   "id": "9b93fb7f",
   "metadata": {
    "ExecuteTime": {
     "end_time": "2023-11-18T07:36:36.667424Z",
     "start_time": "2023-11-18T07:36:36.651422Z"
    }
   },
   "outputs": [
    {
     "name": "stdout",
     "output_type": "stream",
     "text": [
      "4\n",
      "3\n",
      "2\n",
      "1\n",
      "0\n"
     ]
    }
   ],
   "source": [
    "for n in range(5-1,-1,-1):\n",
    "    print(n)"
   ]
  },
  {
   "cell_type": "code",
   "execution_count": 2,
   "id": "15868c0c",
   "metadata": {
    "ExecuteTime": {
     "end_time": "2023-11-18T12:26:47.619286Z",
     "start_time": "2023-11-18T12:26:47.609286Z"
    }
   },
   "outputs": [
    {
     "name": "stdout",
     "output_type": "stream",
     "text": [
      "[[0, 0, 0, 0], [2, 9, 3], [2, 9, 3], [2, 9, 3], [2, 9, 3], [2, 9, 3], [2, 9, 3], [2, 9, 3]]\n",
      "[[2, 9, 3], [2, 9, 3], [2, 9, 3], [2, 9, 3], [2, 9, 3], [2, 9, 3], [2, 9, 3]]\n"
     ]
    }
   ],
   "source": [
    "list = [[2, 9, 3],\n",
    "        [2, 9, 3],\n",
    "        [2, 9, 3],\n",
    "        [2, 9, 3],\n",
    "        [2, 9, 3],\n",
    "        [2, 9, 3],\n",
    "        [2, 9, 3]]\n",
    "list.insert(0, [0,0,0,0])\n",
    "print(list)\n",
    "\n",
    "list.pop(0)\n",
    "print(list)\n"
   ]
  },
  {
   "cell_type": "code",
   "execution_count": null,
   "id": "102c8dd2",
   "metadata": {},
   "outputs": [],
   "source": []
  }
 ],
 "metadata": {
  "kernelspec": {
   "display_name": "new_dsm",
   "language": "python",
   "name": "new_dsm"
  },
  "language_info": {
   "codemirror_mode": {
    "name": "ipython",
    "version": 3
   },
   "file_extension": ".py",
   "mimetype": "text/x-python",
   "name": "python",
   "nbconvert_exporter": "python",
   "pygments_lexer": "ipython3",
   "version": "3.8.18"
  }
 },
 "nbformat": 4,
 "nbformat_minor": 5
}
