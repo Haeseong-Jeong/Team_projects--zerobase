{
 "cells": [
  {
   "cell_type": "code",
   "execution_count": null,
   "id": "52064809",
   "metadata": {},
   "outputs": [],
   "source": []
  },
  {
   "cell_type": "code",
   "execution_count": 4,
   "id": "5fcca30d",
   "metadata": {
    "ExecuteTime": {
     "end_time": "2023-11-24T04:27:36.811941Z",
     "start_time": "2023-11-24T04:27:36.740824Z"
    }
   },
   "outputs": [
    {
     "name": "stdout",
     "output_type": "stream",
     "text": [
      "Drowsy  파일 길이 :  3\n",
      "NonDrowsy  파일 길이 :  3\n"
     ]
    }
   ],
   "source": [
    "from PIL import Image\n",
    "import os, glob, numpy as np\n",
    "from sklearn.model_selection import train_test_split\n",
    "\n",
    "groups_folder_path = '../Data/image2npy_test'\n",
    "categories = [\"Drowsy\",\"NonDrowsy\"] # 이미지가 클래스명으로 되어있어야 하네;\n",
    "nb_classes = len(categories) #카테고리갯수: 2개\n",
    "\n",
    "#image_w = 227 #이미지의 크기를 모두 통일해준다\n",
    "#image_h = 227\n",
    "\n",
    "X = []\n",
    "y = []\n",
    "for idx, cat in enumerate(categories):\n",
    "    \n",
    "    #one-hot 돌리기.\n",
    "    label = [0 for i in range(nb_classes)] # one-hot으로 라벨을 붙혀줌\n",
    "    label[idx] = 1\n",
    "\n",
    "    image_dir = groups_folder_path + \"/\" + cat\n",
    "    #print(image_dir)\n",
    "    files = glob.glob(image_dir+\"/*.png\")\n",
    "    #print(files)\n",
    "    print(cat, \" 파일 길이 : \", len(files))\n",
    "    for i, f in enumerate(files):\n",
    "        img = Image.open(f)      #폴더를 열어주고 이미지를 읽음\n",
    "        #img = img.convert(\"RGB\")   #RGB로 바꿈\n",
    "        #img = img.resize((image_w, image_h)) #이미지 크기를 모두 학습시키기 쉽게 64x64크기고\n",
    "        data = np.asarray(img) #숫자로\n",
    "\n",
    "        X.append(data) #리스트에 추가 \n",
    "        y.append(label)\n"
   ]
  },
  {
   "cell_type": "code",
   "execution_count": 16,
   "id": "0f39af13",
   "metadata": {
    "ExecuteTime": {
     "end_time": "2023-11-24T04:36:23.195190Z",
     "start_time": "2023-11-24T04:36:23.179317Z"
    }
   },
   "outputs": [
    {
     "data": {
      "text/plain": [
       "(6, 227, 227, 3)"
      ]
     },
     "execution_count": 16,
     "metadata": {},
     "output_type": "execute_result"
    }
   ],
   "source": [
    "testx = np.array(X)\n",
    "testx.shape\n",
    "\n",
    "# 총 이미지 개수, 이미지 H, 이미지 W, RGB 채널"
   ]
  },
  {
   "cell_type": "code",
   "execution_count": null,
   "id": "e35a739f",
   "metadata": {},
   "outputs": [],
   "source": []
  },
  {
   "cell_type": "code",
   "execution_count": 17,
   "id": "6fb75ab5",
   "metadata": {
    "ExecuteTime": {
     "end_time": "2023-11-24T04:36:27.759841Z",
     "start_time": "2023-11-24T04:36:27.751863Z"
    }
   },
   "outputs": [
    {
     "data": {
      "text/plain": [
       "(6, 2)"
      ]
     },
     "execution_count": 17,
     "metadata": {},
     "output_type": "execute_result"
    }
   ],
   "source": [
    "testy = np.array(y)\n",
    "testy.shape"
   ]
  },
  {
   "cell_type": "code",
   "execution_count": null,
   "id": "4d8b8eab",
   "metadata": {},
   "outputs": [],
   "source": []
  },
  {
   "cell_type": "code",
   "execution_count": 18,
   "id": "202371b9",
   "metadata": {
    "ExecuteTime": {
     "end_time": "2023-11-24T04:40:31.094250Z",
     "start_time": "2023-11-24T04:40:31.082287Z"
    }
   },
   "outputs": [],
   "source": [
    "scence = (1000, 3, 400, 400)\n",
    "cate = (6, 1, 1000, 1)"
   ]
  },
  {
   "cell_type": "code",
   "execution_count": 21,
   "id": "77a909d0",
   "metadata": {
    "ExecuteTime": {
     "end_time": "2023-11-24T04:40:42.757716Z",
     "start_time": "2023-11-24T04:40:42.743533Z"
    }
   },
   "outputs": [],
   "source": [
    "zz = (np.array([scence]), cate)"
   ]
  },
  {
   "cell_type": "code",
   "execution_count": 22,
   "id": "97413ad9",
   "metadata": {
    "ExecuteTime": {
     "end_time": "2023-11-24T04:40:44.567205Z",
     "start_time": "2023-11-24T04:40:44.555254Z"
    }
   },
   "outputs": [
    {
     "data": {
      "text/plain": [
       "(array([[1000,    3,  400,  400]]), (6, 1, 1000, 1))"
      ]
     },
     "execution_count": 22,
     "metadata": {},
     "output_type": "execute_result"
    }
   ],
   "source": [
    "zz"
   ]
  },
  {
   "cell_type": "code",
   "execution_count": null,
   "id": "a305ad08",
   "metadata": {},
   "outputs": [],
   "source": []
  },
  {
   "cell_type": "code",
   "execution_count": 11,
   "id": "5edaf9f3",
   "metadata": {
    "ExecuteTime": {
     "end_time": "2023-11-24T04:35:45.226665Z",
     "start_time": "2023-11-24T04:35:45.217643Z"
    }
   },
   "outputs": [
    {
     "name": "stdout",
     "output_type": "stream",
     "text": [
      "ok 6\n"
     ]
    }
   ],
   "source": [
    "X = np.array(X)\n",
    "y = np.array(y)\n",
    "#1 0 0 0 이면 느타리버섯\n",
    "#0 1 0 0 이면 새송이버섯\n",
    "\n",
    "#X_train, X_test, y_train, y_test = train_test_split(X, y) #데이터를 훈련셋과 시험셋으로 나눠주는 함수이용\n",
    "#xy = (X_train, X_test, y_train, y_test)\n",
    "\n",
    "xy = (X, y)\n",
    "\n",
    "#np.save(\"multi_image_data.npy\", xy) #그렇게 xy를 multi_image_data.npy로 저장\n",
    "\n",
    "print(\"ok\", len(y))"
   ]
  },
  {
   "cell_type": "code",
   "execution_count": 2,
   "id": "8b8910c2",
   "metadata": {
    "ExecuteTime": {
     "end_time": "2023-11-24T04:58:32.696913Z",
     "start_time": "2023-11-24T04:58:32.396785Z"
    }
   },
   "outputs": [
    {
     "name": "stdout",
     "output_type": "stream",
     "text": [
      "(50, 5)\n",
      "(50, 4)\n",
      "(50,)\n"
     ]
    }
   ],
   "source": [
    "import numpy as np\n",
    "dataset = [\n",
    "    [11, 9, 2, 10,  8],\n",
    "    [11, 9, 2, 10,  8],\n",
    "    [11, 9, 2, 10,  8],\n",
    "    [11, 9, 2, 10,  8],\n",
    "    [11, 9, 2, 10,  8],\n",
    "    [11, 9, 2, 10,  8],\n",
    "    [11, 9, 2, 10,  8],\n",
    "    [11, 9, 2, 10,  8],\n",
    "    [11, 9, 2, 10,  8],\n",
    "    [11, 9, 2, 10,  8],\n",
    "    [11, 9, 2, 10,  8],\n",
    "    [11, 9, 2, 10,  8],\n",
    "    [11, 9, 2, 10,  8],\n",
    "    [11, 9, 2, 10,  8],\n",
    "    [11, 9, 2, 10,  8],\n",
    "    [11, 9, 2, 10,  8],\n",
    "    [11, 9, 2, 10,  8],\n",
    "    [11, 9, 2, 10,  8],\n",
    "    [11, 9, 2, 10,  8],\n",
    "    [11, 9, 2, 10,  8],\n",
    "    [11, 9, 2, 10,  8],\n",
    "    [11, 9, 2, 10,  8],\n",
    "    [11, 9, 2, 10,  8],\n",
    "    [11, 9, 2, 10,  8],\n",
    "    [11, 9, 2, 10,  8],\n",
    "    [11, 9, 2, 10,  8],\n",
    "    [11, 9, 2, 10,  8],\n",
    "    [11, 9, 2, 10,  8],\n",
    "    [11, 9, 2, 10,  8],\n",
    "    [11, 9, 2, 10,  8],\n",
    "    [11, 9, 2, 10,  8],\n",
    "    [11, 9, 2, 10,  8],\n",
    "    [11, 9, 2, 10,  8],\n",
    "    [11, 9, 2, 10,  8],\n",
    "    [11, 9, 2, 10,  8],\n",
    "    [11, 9, 2, 10,  8],\n",
    "    [11, 9, 2, 10,  8],\n",
    "    [11, 9, 2, 10,  8],\n",
    "    [11, 9, 2, 10,  8],\n",
    "    [11, 9, 2, 10,  8],\n",
    "    [11, 9, 2, 10,  8],\n",
    "    [11, 9, 2, 10,  8],\n",
    "    [11, 9, 2, 10,  8],\n",
    "    [11, 9, 2, 10,  8],\n",
    "    [11, 9, 2, 10,  8],\n",
    "    [11, 9, 2, 10,  8],\n",
    "    [11, 9, 2, 10,  8],\n",
    "    [11, 9, 2, 10,  8],\n",
    "    [11, 9, 2, 10,  8],\n",
    "    [11, 9, 2, 10,  8]\n",
    "]\n",
    "dataset2 = np.array(dataset)    \n",
    "print(dataset2.shape)\n",
    "\n",
    "x_train = dataset2[:,0:4]\n",
    "y_train = dataset2[:,4]\n",
    "\n",
    "\n",
    "print(x_train.shape)\n",
    "print(y_train.shape)\n"
   ]
  },
  {
   "cell_type": "code",
   "execution_count": 3,
   "id": "8c18c913",
   "metadata": {
    "ExecuteTime": {
     "end_time": "2023-11-24T04:58:34.547872Z",
     "start_time": "2023-11-24T04:58:34.536889Z"
    }
   },
   "outputs": [
    {
     "data": {
      "text/plain": [
       "array([8, 8, 8, 8, 8, 8, 8, 8, 8, 8, 8, 8, 8, 8, 8, 8, 8, 8, 8, 8, 8, 8,\n",
       "       8, 8, 8, 8, 8, 8, 8, 8, 8, 8, 8, 8, 8, 8, 8, 8, 8, 8, 8, 8, 8, 8,\n",
       "       8, 8, 8, 8, 8, 8])"
      ]
     },
     "execution_count": 3,
     "metadata": {},
     "output_type": "execute_result"
    }
   ],
   "source": [
    "y_train"
   ]
  },
  {
   "cell_type": "code",
   "execution_count": 4,
   "id": "7696ce1e",
   "metadata": {
    "ExecuteTime": {
     "end_time": "2023-11-24T04:58:42.850743Z",
     "start_time": "2023-11-24T04:58:36.299070Z"
    }
   },
   "outputs": [],
   "source": [
    "import keras\n",
    "from keras.utils import np_utils\n",
    "\n",
    "y_train2 = np_utils.to_categorical(y_train)"
   ]
  },
  {
   "cell_type": "code",
   "execution_count": 5,
   "id": "943f7f55",
   "metadata": {
    "ExecuteTime": {
     "end_time": "2023-11-24T04:58:45.315815Z",
     "start_time": "2023-11-24T04:58:45.287574Z"
    }
   },
   "outputs": [
    {
     "data": {
      "text/plain": [
       "array([[0., 0., 0., 0., 0., 0., 0., 0., 1.],\n",
       "       [0., 0., 0., 0., 0., 0., 0., 0., 1.],\n",
       "       [0., 0., 0., 0., 0., 0., 0., 0., 1.],\n",
       "       [0., 0., 0., 0., 0., 0., 0., 0., 1.],\n",
       "       [0., 0., 0., 0., 0., 0., 0., 0., 1.],\n",
       "       [0., 0., 0., 0., 0., 0., 0., 0., 1.],\n",
       "       [0., 0., 0., 0., 0., 0., 0., 0., 1.],\n",
       "       [0., 0., 0., 0., 0., 0., 0., 0., 1.],\n",
       "       [0., 0., 0., 0., 0., 0., 0., 0., 1.],\n",
       "       [0., 0., 0., 0., 0., 0., 0., 0., 1.],\n",
       "       [0., 0., 0., 0., 0., 0., 0., 0., 1.],\n",
       "       [0., 0., 0., 0., 0., 0., 0., 0., 1.],\n",
       "       [0., 0., 0., 0., 0., 0., 0., 0., 1.],\n",
       "       [0., 0., 0., 0., 0., 0., 0., 0., 1.],\n",
       "       [0., 0., 0., 0., 0., 0., 0., 0., 1.],\n",
       "       [0., 0., 0., 0., 0., 0., 0., 0., 1.],\n",
       "       [0., 0., 0., 0., 0., 0., 0., 0., 1.],\n",
       "       [0., 0., 0., 0., 0., 0., 0., 0., 1.],\n",
       "       [0., 0., 0., 0., 0., 0., 0., 0., 1.],\n",
       "       [0., 0., 0., 0., 0., 0., 0., 0., 1.],\n",
       "       [0., 0., 0., 0., 0., 0., 0., 0., 1.],\n",
       "       [0., 0., 0., 0., 0., 0., 0., 0., 1.],\n",
       "       [0., 0., 0., 0., 0., 0., 0., 0., 1.],\n",
       "       [0., 0., 0., 0., 0., 0., 0., 0., 1.],\n",
       "       [0., 0., 0., 0., 0., 0., 0., 0., 1.],\n",
       "       [0., 0., 0., 0., 0., 0., 0., 0., 1.],\n",
       "       [0., 0., 0., 0., 0., 0., 0., 0., 1.],\n",
       "       [0., 0., 0., 0., 0., 0., 0., 0., 1.],\n",
       "       [0., 0., 0., 0., 0., 0., 0., 0., 1.],\n",
       "       [0., 0., 0., 0., 0., 0., 0., 0., 1.],\n",
       "       [0., 0., 0., 0., 0., 0., 0., 0., 1.],\n",
       "       [0., 0., 0., 0., 0., 0., 0., 0., 1.],\n",
       "       [0., 0., 0., 0., 0., 0., 0., 0., 1.],\n",
       "       [0., 0., 0., 0., 0., 0., 0., 0., 1.],\n",
       "       [0., 0., 0., 0., 0., 0., 0., 0., 1.],\n",
       "       [0., 0., 0., 0., 0., 0., 0., 0., 1.],\n",
       "       [0., 0., 0., 0., 0., 0., 0., 0., 1.],\n",
       "       [0., 0., 0., 0., 0., 0., 0., 0., 1.],\n",
       "       [0., 0., 0., 0., 0., 0., 0., 0., 1.],\n",
       "       [0., 0., 0., 0., 0., 0., 0., 0., 1.],\n",
       "       [0., 0., 0., 0., 0., 0., 0., 0., 1.],\n",
       "       [0., 0., 0., 0., 0., 0., 0., 0., 1.],\n",
       "       [0., 0., 0., 0., 0., 0., 0., 0., 1.],\n",
       "       [0., 0., 0., 0., 0., 0., 0., 0., 1.],\n",
       "       [0., 0., 0., 0., 0., 0., 0., 0., 1.],\n",
       "       [0., 0., 0., 0., 0., 0., 0., 0., 1.],\n",
       "       [0., 0., 0., 0., 0., 0., 0., 0., 1.],\n",
       "       [0., 0., 0., 0., 0., 0., 0., 0., 1.],\n",
       "       [0., 0., 0., 0., 0., 0., 0., 0., 1.],\n",
       "       [0., 0., 0., 0., 0., 0., 0., 0., 1.]], dtype=float32)"
      ]
     },
     "execution_count": 5,
     "metadata": {},
     "output_type": "execute_result"
    }
   ],
   "source": [
    "y_train2"
   ]
  },
  {
   "cell_type": "code",
   "execution_count": 7,
   "id": "99531b49",
   "metadata": {
    "ExecuteTime": {
     "end_time": "2023-11-24T04:59:20.976929Z",
     "start_time": "2023-11-24T04:59:20.969896Z"
    }
   },
   "outputs": [
    {
     "data": {
      "text/plain": [
       "9"
      ]
     },
     "execution_count": 7,
     "metadata": {},
     "output_type": "execute_result"
    }
   ],
   "source": [
    "one_hot_vec_size = y_train2.shape[1]\n",
    "one_hot_vec_size"
   ]
  },
  {
   "cell_type": "code",
   "execution_count": 1,
   "id": "aedd627e",
   "metadata": {
    "ExecuteTime": {
     "end_time": "2023-11-24T04:11:00.148076Z",
     "start_time": "2023-11-24T04:10:56.656032Z"
    }
   },
   "outputs": [],
   "source": [
    "from PIL import Image\n",
    "import os, glob, numpy as np\n",
    "from sklearn.model_selection import train_test_split"
   ]
  },
  {
   "cell_type": "code",
   "execution_count": 2,
   "id": "189ec367",
   "metadata": {
    "ExecuteTime": {
     "end_time": "2023-11-24T04:12:02.920479Z",
     "start_time": "2023-11-24T04:12:02.516978Z"
    }
   },
   "outputs": [],
   "source": [
    "img = Image.open('../Data/Driver Drowsiness Dataset (DDD)/Original_dataset/Drowsy/A0001.png')"
   ]
  },
  {
   "cell_type": "code",
   "execution_count": 5,
   "id": "f1ad8b09",
   "metadata": {
    "ExecuteTime": {
     "end_time": "2023-11-24T04:13:04.886659Z",
     "start_time": "2023-11-24T04:13:04.870484Z"
    }
   },
   "outputs": [
    {
     "data": {
      "text/plain": [
       "array([[[ 63,  49,  31],\n",
       "        [ 62,  48,  31],\n",
       "        [ 62,  48,  29],\n",
       "        ...,\n",
       "        [ 87,  67,  48],\n",
       "        [ 87,  67,  48],\n",
       "        [ 88,  68,  49]],\n",
       "\n",
       "       [[ 63,  50,  32],\n",
       "        [ 62,  49,  31],\n",
       "        [ 60,  47,  29],\n",
       "        ...,\n",
       "        [ 88,  68,  49],\n",
       "        [ 88,  68,  49],\n",
       "        [ 88,  68,  49]],\n",
       "\n",
       "       [[ 63,  51,  32],\n",
       "        [ 62,  49,  31],\n",
       "        [ 60,  47,  29],\n",
       "        ...,\n",
       "        [ 88,  68,  49],\n",
       "        [ 88,  68,  49],\n",
       "        [ 88,  68,  49]],\n",
       "\n",
       "       ...,\n",
       "\n",
       "       [[255, 255, 239],\n",
       "        [255, 255, 239],\n",
       "        [255, 255, 240],\n",
       "        ...,\n",
       "        [255, 255, 254],\n",
       "        [255, 255, 254],\n",
       "        [255, 255, 255]],\n",
       "\n",
       "       [[254, 251, 237],\n",
       "        [254, 251, 237],\n",
       "        [254, 251, 239],\n",
       "        ...,\n",
       "        [254, 253, 250],\n",
       "        [254, 253, 250],\n",
       "        [254, 252, 250]],\n",
       "\n",
       "       [[251, 243, 233],\n",
       "        [252, 244, 234],\n",
       "        [252, 244, 235],\n",
       "        ...,\n",
       "        [254, 251, 244],\n",
       "        [252, 248, 242],\n",
       "        [252, 245, 241]]], dtype=uint8)"
      ]
     },
     "execution_count": 5,
     "metadata": {},
     "output_type": "execute_result"
    }
   ],
   "source": [
    "pimg = np.array(img)\n",
    "pimg"
   ]
  },
  {
   "cell_type": "code",
   "execution_count": 1,
   "id": "a06d123f",
   "metadata": {
    "ExecuteTime": {
     "end_time": "2023-11-24T04:14:34.675899Z",
     "start_time": "2023-11-24T04:14:33.815153Z"
    }
   },
   "outputs": [
    {
     "name": "stdout",
     "output_type": "stream",
     "text": [
      "img.shape  (227, 227, 3)\n",
      "height  227\n",
      "width  227\n",
      "channel  3\n"
     ]
    }
   ],
   "source": [
    "import numpy as np\n",
    "import cv2\n",
    "\n",
    "\n",
    "img = cv2.imread('../Data/Driver Drowsiness Dataset (DDD)/Original_dataset/Drowsy/A0001.png', cv2.IMREAD_COLOR)\n",
    "#img = Image.open('../Data/Driver Drowsiness Dataset (DDD)/Original_dataset/Drowsy/A0001.png')\n",
    "\n",
    "print('img.shape ', img.shape)\n",
    "\n",
    "\n",
    "h, w, c = img.shape\n",
    "\n",
    "print('height ', h)\n",
    "print('width ', w)\n",
    "print('channel ', c)"
   ]
  },
  {
   "cell_type": "code",
   "execution_count": null,
   "id": "9ff99435",
   "metadata": {},
   "outputs": [],
   "source": []
  }
 ],
 "metadata": {
  "kernelspec": {
   "display_name": "GPU",
   "language": "python",
   "name": "gpu"
  },
  "language_info": {
   "codemirror_mode": {
    "name": "ipython",
    "version": 3
   },
   "file_extension": ".py",
   "mimetype": "text/x-python",
   "name": "python",
   "nbconvert_exporter": "python",
   "pygments_lexer": "ipython3",
   "version": "3.8.18"
  }
 },
 "nbformat": 4,
 "nbformat_minor": 5
}
