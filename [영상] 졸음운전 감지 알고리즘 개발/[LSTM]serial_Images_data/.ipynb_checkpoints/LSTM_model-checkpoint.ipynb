{
 "cells": [
  {
   "cell_type": "code",
   "execution_count": 1,
   "id": "39c3754a",
   "metadata": {
    "ExecuteTime": {
     "end_time": "2023-11-24T03:56:26.597432Z",
     "start_time": "2023-11-24T03:56:26.569443Z"
    }
   },
   "outputs": [],
   "source": [
    "def My_ConvLSTM_Model(frames, channels, pixels_x, pixels_y, categories):\n",
    "  \n",
    "    trailer_input  = Input(shape=(frames, channels, pixels_x, pixels_y)\n",
    "                    , name='trailer_input')\n",
    "    \n",
    "    first_ConvLSTM = ConvLSTM2D(filters=20, kernel_size=(3, 3)\n",
    "                       , data_format='channels_first'\n",
    "                       , recurrent_activation='hard_sigmoid'\n",
    "                       , activation='tanh'\n",
    "                       , padding='same', return_sequences=True)(trailer_input)\n",
    "    first_BatchNormalization = BatchNormalization()(first_ConvLSTM)\n",
    "    first_Pooling = MaxPooling3D(pool_size=(1, 2, 2), padding='same', data_format='channels_first')(first_BatchNormalization)\n",
    "    \n",
    "    second_ConvLSTM = ConvLSTM2D(filters=10, kernel_size=(3, 3)\n",
    "                        , data_format='channels_first'\n",
    "                        , padding='same', return_sequences=True)(first_Pooling)\n",
    "    second_BatchNormalization = BatchNormalization()(second_ConvLSTM)\n",
    "    second_Pooling = MaxPooling3D(pool_size=(1, 3, 3), padding='same', data_format='channels_first')(second_BatchNormalization)\n",
    "    \n",
    "    outputs = [branch(second_Pooling, 'cat_{}'.format(category)) for category in categories]\n",
    "    \n",
    "    seq = Model(inputs=trailer_input, outputs=outputs, name='Model ')\n",
    "    \n",
    "    return seq"
   ]
  },
  {
   "cell_type": "code",
   "execution_count": null,
   "id": "78a9e578",
   "metadata": {},
   "outputs": [],
   "source": []
  },
  {
   "cell_type": "code",
   "execution_count": null,
   "id": "cc51fc4d",
   "metadata": {},
   "outputs": [],
   "source": []
  },
  {
   "cell_type": "code",
   "execution_count": 3,
   "id": "ee5722ac",
   "metadata": {
    "ExecuteTime": {
     "end_time": "2023-11-24T03:58:32.738228Z",
     "start_time": "2023-11-24T03:58:30.541704Z"
    }
   },
   "outputs": [],
   "source": [
    "from tensorflow import keras\n",
    "from tensorflow.keras import layers\n",
    "import numpy as np\n",
    "import pylab as plt"
   ]
  },
  {
   "cell_type": "code",
   "execution_count": 4,
   "id": "d7baa14e",
   "metadata": {
    "ExecuteTime": {
     "end_time": "2023-11-24T03:59:39.474566Z",
     "start_time": "2023-11-24T03:59:34.275831Z"
    }
   },
   "outputs": [],
   "source": [
    "seq = keras.Sequential(\n",
    "    [\n",
    "        keras.Input(\n",
    "            shape=(None, 227, 227, 1)  \n",
    "            # (time, rows, cols, channels)\n",
    "            # 이 중, time을 지정하지 가변으로 두고, (None, 40,40,1) shape의 프레임을 입력받습니다.\n",
    "        ),  # 40x40에 1채널을 가지는 프레임입니다.\n",
    "        layers.ConvLSTM2D(\n",
    "            filters=40, kernel_size=(3, 3), padding=\"same\", return_sequences=True\n",
    "        ),\n",
    "        layers.BatchNormalization(),\n",
    "        layers.ConvLSTM2D(\n",
    "            filters=40, kernel_size=(3, 3), padding=\"same\", return_sequences=True\n",
    "        ),\n",
    "        layers.BatchNormalization(),\n",
    "        layers.ConvLSTM2D(\n",
    "            filters=40, kernel_size=(3, 3), padding=\"same\", return_sequences=True\n",
    "        ),\n",
    "        layers.BatchNormalization(),\n",
    "        layers.ConvLSTM2D(\n",
    "            filters=40, kernel_size=(3, 3), padding=\"same\", return_sequences=True\n",
    "        ),\n",
    "        layers.BatchNormalization(),\n",
    "        layers.Conv3D(\n",
    "            filters=1, kernel_size=(3, 3, 3), activation=\"sigmoid\", padding=\"same\"\n",
    "        ),\n",
    "    ]\n",
    ")\n",
    "seq.compile(loss=\"binary_crossentropy\", optimizer=\"adadelta\")"
   ]
  },
  {
   "cell_type": "code",
   "execution_count": 5,
   "id": "0e0eaf0e",
   "metadata": {
    "ExecuteTime": {
     "end_time": "2023-11-24T03:59:51.361630Z",
     "start_time": "2023-11-24T03:59:51.296738Z"
    }
   },
   "outputs": [
    {
     "name": "stdout",
     "output_type": "stream",
     "text": [
      "Model: \"sequential\"\n",
      "_________________________________________________________________\n",
      " Layer (type)                Output Shape              Param #   \n",
      "=================================================================\n",
      " conv_lstm2d (ConvLSTM2D)    (None, None, 227, 227, 4  59200     \n",
      "                             0)                                  \n",
      "                                                                 \n",
      " batch_normalization (BatchN  (None, None, 227, 227, 4  160      \n",
      " ormalization)               0)                                  \n",
      "                                                                 \n",
      " conv_lstm2d_1 (ConvLSTM2D)  (None, None, 227, 227, 4  115360    \n",
      "                             0)                                  \n",
      "                                                                 \n",
      " batch_normalization_1 (Batc  (None, None, 227, 227, 4  160      \n",
      " hNormalization)             0)                                  \n",
      "                                                                 \n",
      " conv_lstm2d_2 (ConvLSTM2D)  (None, None, 227, 227, 4  115360    \n",
      "                             0)                                  \n",
      "                                                                 \n",
      " batch_normalization_2 (Batc  (None, None, 227, 227, 4  160      \n",
      " hNormalization)             0)                                  \n",
      "                                                                 \n",
      " conv_lstm2d_3 (ConvLSTM2D)  (None, None, 227, 227, 4  115360    \n",
      "                             0)                                  \n",
      "                                                                 \n",
      " batch_normalization_3 (Batc  (None, None, 227, 227, 4  160      \n",
      " hNormalization)             0)                                  \n",
      "                                                                 \n",
      " conv3d (Conv3D)             (None, None, 227, 227, 1  1081      \n",
      "                             )                                   \n",
      "                                                                 \n",
      "=================================================================\n",
      "Total params: 407,001\n",
      "Trainable params: 406,681\n",
      "Non-trainable params: 320\n",
      "_________________________________________________________________\n"
     ]
    }
   ],
   "source": [
    "seq.summary()"
   ]
  },
  {
   "cell_type": "code",
   "execution_count": null,
   "id": "2a18c28e",
   "metadata": {},
   "outputs": [],
   "source": []
  }
 ],
 "metadata": {
  "kernelspec": {
   "display_name": "GPU",
   "language": "python",
   "name": "gpu"
  },
  "language_info": {
   "codemirror_mode": {
    "name": "ipython",
    "version": 3
   },
   "file_extension": ".py",
   "mimetype": "text/x-python",
   "name": "python",
   "nbconvert_exporter": "python",
   "pygments_lexer": "ipython3",
   "version": "3.8.18"
  }
 },
 "nbformat": 4,
 "nbformat_minor": 5
}
