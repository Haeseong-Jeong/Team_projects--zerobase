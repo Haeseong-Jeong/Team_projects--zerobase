{
 "cells": [
  {
   "cell_type": "code",
   "execution_count": 5,
   "id": "be82150b",
   "metadata": {
    "ExecuteTime": {
     "end_time": "2023-11-23T09:00:29.001524Z",
     "start_time": "2023-11-23T09:00:28.897569Z"
    }
   },
   "outputs": [],
   "source": [
    "import cv2\n",
    "import time\n",
    "import utils"
   ]
  },
  {
   "cell_type": "code",
   "execution_count": 6,
   "id": "e457c340",
   "metadata": {
    "ExecuteTime": {
     "end_time": "2023-11-23T09:00:33.650047Z",
     "start_time": "2023-11-23T09:00:29.858345Z"
    }
   },
   "outputs": [],
   "source": [
    "import cv2\n",
    "\n",
    "cap= cv2.VideoCapture(0)\n",
    "if cap.isOpened():\n",
    "    \n",
    "    while True:\n",
    "        ret,frame = cap.read()\n",
    "        \n",
    "        if ret:\n",
    "            cv2.imshow('camera', frame)\n",
    "\n",
    "            if cv2.waitKey(1) != -1:\n",
    "                cv2.imwrite('photo.jpg', frame)\n",
    "                break\n",
    "            \n",
    "        else:\n",
    "            print('no frame')\n",
    "            break\n",
    "else:\n",
    "    print('no camera!')\n",
    "cap.release()\n",
    "cv2.destroyAllWindows()"
   ]
  },
  {
   "cell_type": "code",
   "execution_count": null,
   "id": "6349ac98",
   "metadata": {},
   "outputs": [],
   "source": []
  },
  {
   "cell_type": "code",
   "execution_count": null,
   "id": "1c32f18d",
   "metadata": {},
   "outputs": [],
   "source": []
  },
  {
   "cell_type": "code",
   "execution_count": null,
   "id": "aeca0617",
   "metadata": {},
   "outputs": [],
   "source": []
  },
  {
   "cell_type": "code",
   "execution_count": null,
   "id": "506b7637",
   "metadata": {},
   "outputs": [],
   "source": []
  },
  {
   "cell_type": "code",
   "execution_count": null,
   "id": "bb404e7e",
   "metadata": {},
   "outputs": [],
   "source": []
  },
  {
   "cell_type": "code",
   "execution_count": null,
   "id": "58abb673",
   "metadata": {},
   "outputs": [],
   "source": []
  },
  {
   "cell_type": "code",
   "execution_count": null,
   "id": "014bfec2",
   "metadata": {},
   "outputs": [],
   "source": []
  },
  {
   "cell_type": "code",
   "execution_count": 3,
   "id": "0def6da2",
   "metadata": {
    "ExecuteTime": {
     "end_time": "2023-11-23T08:59:43.946671Z",
     "start_time": "2023-11-23T08:59:43.184163Z"
    }
   },
   "outputs": [
    {
     "ename": "NameError",
     "evalue": "name 'utils' is not defined",
     "output_type": "error",
     "traceback": [
      "\u001b[1;31m---------------------------------------------------------------------------\u001b[0m",
      "\u001b[1;31mNameError\u001b[0m                                 Traceback (most recent call last)",
      "Cell \u001b[1;32mIn[3], line 23\u001b[0m\n\u001b[0;32m     20\u001b[0m end_time \u001b[38;5;241m=\u001b[39m time\u001b[38;5;241m.\u001b[39mtime() \u001b[38;5;241m-\u001b[39m start_time\n\u001b[0;32m     21\u001b[0m fps \u001b[38;5;241m=\u001b[39m frame_counter\u001b[38;5;241m/\u001b[39mend_time\n\u001b[1;32m---> 23\u001b[0m frame \u001b[38;5;241m=\u001b[39m \u001b[43mutils\u001b[49m\u001b[38;5;241m.\u001b[39mtextWithBackground(frame, \u001b[38;5;124mf\u001b[39m\u001b[38;5;124m'\u001b[39m\u001b[38;5;124mFPS: \u001b[39m\u001b[38;5;132;01m{\u001b[39;00m\u001b[38;5;28mround\u001b[39m(fps,\u001b[38;5;241m1\u001b[39m)\u001b[38;5;132;01m}\u001b[39;00m\u001b[38;5;124m'\u001b[39m, FONTS, \u001b[38;5;241m1.0\u001b[39m, (\u001b[38;5;241m20\u001b[39m,\u001b[38;5;241m50\u001b[39m), bgOpacity\u001b[38;5;241m=\u001b[39m\u001b[38;5;241m0.9\u001b[39m)\n\u001b[0;32m     25\u001b[0m cv2\u001b[38;5;241m.\u001b[39mimshow(\u001b[38;5;124m'\u001b[39m\u001b[38;5;124mFace mesh\u001b[39m\u001b[38;5;124m'\u001b[39m, frame)\n\u001b[0;32m     27\u001b[0m key \u001b[38;5;241m=\u001b[39m cv2\u001b[38;5;241m.\u001b[39mwaitKey(\u001b[38;5;241m1\u001b[39m)\n",
      "\u001b[1;31mNameError\u001b[0m: name 'utils' is not defined"
     ]
    }
   ],
   "source": [
    "\n",
    "\n",
    "frame_counter = 0\n",
    "\n",
    "cap = cv2.VideoCapture(0)\n",
    "\n",
    "start_time = time.time()\n",
    "\n",
    "while True:\n",
    "\n",
    "    frame_counter += 1\n",
    "\n",
    "    ret, frame = cap.read()\n",
    "    if not ret:\n",
    "        break\n",
    "\n",
    "\n",
    "    rgb_frame = cv2.cvtColor(frame, cv2.COLOR_RGB2BGR)\n",
    "\n",
    "    end_time = time.time() - start_time\n",
    "    fps = frame_counter/end_time\n",
    "\n",
    "    frame = utils.textWithBackground(frame, f'FPS: {round(fps,1)}', FONTS, 1.0, (20,50), bgOpacity=0.9)\n",
    "\n",
    "    cv2.imshow('Face mesh', frame)\n",
    "\n",
    "    key = cv2.waitKey(1)\n",
    "    if key==ord('q') or key==ord('Q'):\n",
    "        break\n",
    "\n",
    "cv2.destroyAllWindows()\n"
   ]
  },
  {
   "cell_type": "code",
   "execution_count": null,
   "id": "ed947a3b",
   "metadata": {},
   "outputs": [],
   "source": []
  }
 ],
 "metadata": {
  "kernelspec": {
   "display_name": "new_dsm",
   "language": "python",
   "name": "new_dsm"
  },
  "language_info": {
   "codemirror_mode": {
    "name": "ipython",
    "version": 3
   },
   "file_extension": ".py",
   "mimetype": "text/x-python",
   "name": "python",
   "nbconvert_exporter": "python",
   "pygments_lexer": "ipython3",
   "version": "3.8.18"
  }
 },
 "nbformat": 4,
 "nbformat_minor": 5
}
