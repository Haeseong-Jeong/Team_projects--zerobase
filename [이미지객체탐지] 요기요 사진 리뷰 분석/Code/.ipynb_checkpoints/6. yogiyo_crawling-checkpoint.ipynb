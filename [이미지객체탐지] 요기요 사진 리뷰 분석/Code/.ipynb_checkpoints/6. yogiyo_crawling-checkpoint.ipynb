{
 "cells": [
  {
   "cell_type": "code",
   "execution_count": 1,
   "id": "c454eacc",
   "metadata": {
    "ExecuteTime": {
     "end_time": "2023-10-28T07:08:05.089397Z",
     "start_time": "2023-10-28T07:08:01.820519Z"
    }
   },
   "outputs": [],
   "source": [
    "import os\n",
    "import ssl\n",
    "import time\n",
    "import socket\n",
    "import requests\n",
    "import urllib.request\n",
    "import pandas as pd\n",
    "import numpy as np\n",
    "import matplotlib.pyplot as plt\n",
    "\n",
    "from urllib import parse\n",
    "from tqdm.notebook import tqdm\n",
    "\n",
    "from bs4 import BeautifulSoup\n",
    "from fake_useragent import UserAgent\n",
    "\n",
    "from selenium import webdriver\n",
    "from selenium.webdriver import ActionChains\n",
    "from selenium.webdriver.common.by import By\n",
    "from selenium.webdriver.common.keys import Keys\n",
    "from selenium.webdriver.chrome.service import Service\n",
    "from selenium.webdriver.chrome.service import Service as ChromeService\n",
    "from webdriver_manager.chrome import ChromeDriverManager #!pip install webdriver-manager\n",
    "\n",
    "# 한글대응\n",
    "from matplotlib import rc\n",
    "%matplotlib inline\n",
    "plt.rcParams['axes.unicode_minus'] = False\n",
    "rc('font',family='Malgun Gothic')\n",
    "\n",
    "ssl._create_default_https_context = ssl._create_unverified_context"
   ]
  },
  {
   "cell_type": "code",
   "execution_count": 2,
   "id": "bcd2cea2",
   "metadata": {
    "ExecuteTime": {
     "end_time": "2023-10-28T07:08:08.541665Z",
     "start_time": "2023-10-28T07:08:08.531715Z"
    }
   },
   "outputs": [],
   "source": [
    "def create_folder(directory):\n",
    "    import os\n",
    "    \n",
    "    if not os.path.exists(directory):\n",
    "        os.mkdir(directory)"
   ]
  },
  {
   "cell_type": "code",
   "execution_count": 3,
   "id": "bd70fd4a",
   "metadata": {
    "ExecuteTime": {
     "end_time": "2023-10-22T13:09:30.614610Z",
     "start_time": "2023-10-22T13:09:30.610211Z"
    }
   },
   "outputs": [],
   "source": [
    "category_dict = {\n",
    "    '치킨' : 5,\n",
    "    '피자/양식' : 6,\n",
    "    '중국집' : 7,\n",
    "    '한식' : 8,\n",
    "    '일식/돈까스' : 9,\n",
    "    '족발/보쌈' : 10,\n",
    "    '야식' : 11,\n",
    "    '분식' : 12,\n",
    "    '카페/디저트' : 13,\n",
    "}"
   ]
  },
  {
   "cell_type": "code",
   "execution_count": 4,
   "id": "d5b01db7",
   "metadata": {
    "ExecuteTime": {
     "end_time": "2023-10-22T13:09:32.092218Z",
     "start_time": "2023-10-22T13:09:32.082312Z"
    }
   },
   "outputs": [
    {
     "name": "stdout",
     "output_type": "stream",
     "text": [
      "치킨\n",
      "피자양식\n",
      "중국집\n",
      "한식\n",
      "일식돈까스\n",
      "족발보쌈\n",
      "야식\n",
      "분식\n",
      "카페디저트\n"
     ]
    }
   ],
   "source": [
    "for i in category_dict:\n",
    "    print(i.replace('/',''))"
   ]
  },
  {
   "cell_type": "code",
   "execution_count": 5,
   "id": "1727a8eb",
   "metadata": {
    "ExecuteTime": {
     "end_time": "2023-10-22T13:09:35.119988Z",
     "start_time": "2023-10-22T13:09:35.104349Z"
    }
   },
   "outputs": [],
   "source": [
    "def yogiyo_crawling(store_rank, get_review_num, save_dir, menu='치킨'):\n",
    "    url = 'https://www.yogiyo.co.kr/mobile/#/'\n",
    "    driver = webdriver.Chrome(service=ChromeService(ChromeDriverManager().install()))\n",
    "    driver.get(url); action = ActionChains(driver); time.sleep(1)\n",
    "\n",
    "    driver.maximize_window(); time.sleep(1)\n",
    "    \n",
    "    category_tag = 'body > div.category-list > div > div:nth-child(' + str(category_dict[menu]) +') > a > div'\n",
    "    cate = driver.find_element(By.CSS_SELECTOR, category_tag)\n",
    "    cate_name = cate.text\n",
    "    print(f'크롤링 메뉴 : [{cate_name}]')\n",
    "    cate.click()\n",
    "\n",
    "    # 리뷰 많은 순으로 정렬 -> 이게 알맞지 않은 가게를 보여줌\n",
    "    sort_btn = driver.find_element(By.CSS_SELECTOR, '#content > div > div.row.restaurant-list-info > div.list-option > div > select')\n",
    "    sort_btn.click(); time.sleep(1)\n",
    "    review_many = driver.find_element(By.CSS_SELECTOR,'#content > div > div.row.restaurant-list-info > div.list-option > div > select > option:nth-child(3)')\n",
    "    review_many.click(); time.sleep(1)\n",
    "    \n",
    "    # 중식 4번째 -> 금룡\n",
    "    store_tag = '#content > div > div:nth-child(5) > div > div > div:nth-child('+str(store_rank)+') > div > table > tbody > tr > td:nth-child(2) > div > div.restaurant-name.ng-binding'\n",
    "    store = driver.find_element(By.CSS_SELECTOR, store_tag)\n",
    "    print(f'크롤링 가게 리뷰순 : {store_rank}위 [{store.text}]')\n",
    "    store.click(); time.sleep(1)\n",
    "\n",
    "    # 리뷰탭 클릭\n",
    "    review_btn = driver.find_element(By.CSS_SELECTOR, '#content > div.restaurant-detail.row.ng-scope > div.col-sm-8 > ul > li:nth-child(2) > a').click()\n",
    "    time.sleep(1)\n",
    "    \n",
    "    # 사진 리뷰만 보기\n",
    "    review_img = driver.find_element(By.CSS_SELECTOR, '#content > div.restaurant-detail.row.ng-scope > div.col-sm-8 > div:nth-child(6) > div.review-count > div > div > div > label').click()\n",
    "    time.sleep(1)\n",
    "    \n",
    "    # 스크롤 맨 아래로\n",
    "    driver.execute_script(\"window.scrollTo(0, document.body.scrollHeight);\"); time.sleep(1)  # 브라우저 끝까지 스크롤을 내림\n",
    "    \n",
    "    review_num = len(driver.find_elements(By.XPATH, '//*[@id=\"review\"]/li'))\n",
    "    \n",
    "    while (review_num < get_review_num):\n",
    "        driver.execute_script(\"window.scrollTo(0, document.body.scrollHeight);\")  # 브라우저 끝까지 스크롤을 내림\n",
    "        time.sleep(1)\n",
    "        driver.find_element(By.CSS_SELECTOR, '#review > li.list-group-item.btn-more > a').click()\n",
    "        time.sleep(1)\n",
    "        review_num = len(driver.find_elements(By.XPATH, '//*[@id=\"review\"]/li'))\n",
    "        \n",
    "    # 현재 화면의 html 코드를 가져와서 뷰숲으로 작업하기\n",
    "    req = driver.page_source\n",
    "    soup = BeautifulSoup(req, 'html.parser')\n",
    "    \n",
    "    # 리뷰 목록 불러오기\n",
    "    review_tables = soup.select('#review>li')[1:get_review_num+1]\n",
    "    \n",
    "    make_save_folder = save_dir + 'reviews_data'\n",
    "    create_folder(make_save_folder)\n",
    "\n",
    "    for n, review in enumerate(review_tables):\n",
    "        img_tag = review.select('table>tbody>tr>td>div>img')\n",
    "        image_urls = [each['data-url'] for each in img_tag]\n",
    "\n",
    "        make_user_folder = make_save_folder+'/'+cate_name.replace('/','')+'reviewer'+str(n+1)\n",
    "        create_folder(make_user_folder)\n",
    "\n",
    "        for idx, url in enumerate(image_urls):\n",
    "            response = requests.get(url)\n",
    "\n",
    "            if response.status_code == 200:\n",
    "                image_file = os.path.join(make_user_folder, f'img{idx+1}.jpg')\n",
    "                with open(image_file, 'wb') as file:\n",
    "                    file.write(response.content)\n",
    "                #print('이미지 저장', image_file)\n",
    "            else:\n",
    "                print('이미지 저장 실패')\n",
    "    \n",
    "    print(f'[{cate_name}] 크롤링 완료')\n",
    "    driver.quit()"
   ]
  },
  {
   "cell_type": "code",
   "execution_count": 6,
   "id": "34924d7d",
   "metadata": {
    "ExecuteTime": {
     "end_time": "2023-10-22T13:15:00.612093Z",
     "start_time": "2023-10-22T13:09:38.146579Z"
    }
   },
   "outputs": [
    {
     "name": "stdout",
     "output_type": "stream",
     "text": [
      "크롤링 메뉴 : [치킨]\n",
      "크롤링 가게 리뷰순 : 4위 [멕시카나-안산고잔점]\n",
      "[치킨] 크롤링 완료\n",
      "크롤링 메뉴 : [피자/양식]\n",
      "크롤링 가게 리뷰순 : 4위 [굽네치킨&피자-안산한양대점]\n",
      "[피자/양식] 크롤링 완료\n",
      "크롤링 메뉴 : [중국집]\n",
      "크롤링 가게 리뷰순 : 4위 [손오공마라탕-안산점]\n",
      "[중국집] 크롤링 완료\n",
      "크롤링 메뉴 : [한식]\n",
      "크롤링 가게 리뷰순 : 4위 [떡순튀-안산점]\n",
      "[한식] 크롤링 완료\n",
      "크롤링 메뉴 : [일식/돈까스]\n",
      "크롤링 가게 리뷰순 : 4위 [돈까스튀기는형-본점]\n",
      "[일식/돈까스] 크롤링 완료\n",
      "크롤링 메뉴 : [족발/보쌈]\n",
      "크롤링 가게 리뷰순 : 4위 [제주총각족발보쌈-안산본점]\n",
      "[족발/보쌈] 크롤링 완료\n",
      "크롤링 메뉴 : [야식]\n",
      "크롤링 가게 리뷰순 : 4위 [지코바치킨-안산고잔1호점]\n",
      "[야식] 크롤링 완료\n",
      "크롤링 메뉴 : [분식]\n",
      "크롤링 가게 리뷰순 : 4위 [신할매국물떡뽀끼]\n",
      "[분식] 크롤링 완료\n",
      "크롤링 메뉴 : [카페/디저트]\n",
      "크롤링 가게 리뷰순 : 4위 [봉명동내커피-안산1호점]\n",
      "[카페/디저트] 크롤링 완료\n"
     ]
    }
   ],
   "source": [
    "for menu in category_dict:\n",
    "    yogiyo_crawling(menu=menu, store_rank=4, get_review_num=20, save_dir='../Data_total/')"
   ]
  }
 ],
 "metadata": {
  "kernelspec": {
   "display_name": "ds_study",
   "language": "python",
   "name": "ds_study"
  },
  "language_info": {
   "codemirror_mode": {
    "name": "ipython",
    "version": 3
   },
   "file_extension": ".py",
   "mimetype": "text/x-python",
   "name": "python",
   "nbconvert_exporter": "python",
   "pygments_lexer": "ipython3",
   "version": "3.8.18"
  },
  "toc": {
   "base_numbering": 1,
   "nav_menu": {},
   "number_sections": true,
   "sideBar": true,
   "skip_h1_title": false,
   "title_cell": "Table of Contents",
   "title_sidebar": "Contents",
   "toc_cell": false,
   "toc_position": {},
   "toc_section_display": true,
   "toc_window_display": false
  }
 },
 "nbformat": 4,
 "nbformat_minor": 5
}
