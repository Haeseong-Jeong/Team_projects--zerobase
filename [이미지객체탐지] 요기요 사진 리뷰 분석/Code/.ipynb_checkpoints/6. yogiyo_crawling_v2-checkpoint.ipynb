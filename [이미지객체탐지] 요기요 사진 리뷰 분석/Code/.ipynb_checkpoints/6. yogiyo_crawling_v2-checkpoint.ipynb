{
 "cells": [
  {
   "cell_type": "code",
   "execution_count": 1,
   "id": "31f387d2",
   "metadata": {
    "ExecuteTime": {
     "end_time": "2023-10-29T14:43:45.129738Z",
     "start_time": "2023-10-29T14:43:44.314991Z"
    }
   },
   "outputs": [],
   "source": [
    "import os\n",
    "import ssl\n",
    "import time\n",
    "import socket\n",
    "import requests\n",
    "import urllib.request\n",
    "import pandas as pd\n",
    "import numpy as np\n",
    "import matplotlib.pyplot as plt\n",
    "\n",
    "from urllib import parse\n",
    "from tqdm.notebook import tqdm\n",
    "\n",
    "from bs4 import BeautifulSoup\n",
    "from fake_useragent import UserAgent\n",
    "\n",
    "from selenium import webdriver\n",
    "from selenium.webdriver import ActionChains\n",
    "from selenium.webdriver.common.by import By\n",
    "from selenium.webdriver.common.keys import Keys\n",
    "from selenium.webdriver.chrome.service import Service\n",
    "from selenium.webdriver.chrome.service import Service as ChromeService\n",
    "from webdriver_manager.chrome import ChromeDriverManager #!pip install webdriver-manager\n",
    "\n",
    "# 한글대응\n",
    "from matplotlib import rc\n",
    "%matplotlib inline\n",
    "plt.rcParams['axes.unicode_minus'] = False\n",
    "rc('font',family='Malgun Gothic')\n",
    "\n",
    "ssl._create_default_https_context = ssl._create_unverified_context"
   ]
  },
  {
   "cell_type": "code",
   "execution_count": 2,
   "id": "8192b7dc",
   "metadata": {
    "ExecuteTime": {
     "end_time": "2023-10-29T12:40:42.230209Z",
     "start_time": "2023-10-29T12:40:42.227212Z"
    }
   },
   "outputs": [],
   "source": [
    "def create_folder(directory):\n",
    "    import os\n",
    "    \n",
    "    if not os.path.exists(directory):\n",
    "        os.mkdir(directory)"
   ]
  },
  {
   "cell_type": "code",
   "execution_count": 3,
   "id": "83d0389a",
   "metadata": {
    "ExecuteTime": {
     "end_time": "2023-10-29T12:40:44.266649Z",
     "start_time": "2023-10-29T12:40:44.251163Z"
    }
   },
   "outputs": [],
   "source": [
    "def yogiyo_crawling(get_review_num, save_dir, menu='치킨'):\n",
    "    # 사이트 접속\n",
    "    url = 'https://www.yogiyo.co.kr/mobile/#/'\n",
    "    driver = webdriver.Chrome(service=ChromeService(ChromeDriverManager().install()))\n",
    "    driver.get(url); action = ActionChains(driver); time.sleep(1)\n",
    "    driver.maximize_window(); time.sleep(1)\n",
    "    \n",
    "    ##----------- 지정 주소 검색 -----------\n",
    "    search_addr = driver.find_element(By.CSS_SELECTOR, '#search > div > form > input')\n",
    "    search_addr.send_keys(Keys.CONTROL + \"A\")\n",
    "    search_addr.send_keys(\"서초대로38길 12, 마제스타시티\")\n",
    "\n",
    "    driver.find_element(By.CSS_SELECTOR, \"#button_search_address > button.btn.btn-default.ico-pick\").click()\n",
    "    time.sleep(1)\n",
    "    driver.find_element(By.CSS_SELECTOR, \"#search > div > form > ul > li:nth-child(3) > a\").click()\n",
    "    time.sleep(1)\n",
    "\n",
    "    ##----------- 메뉴 검색 -----------\n",
    "    # 돋보기 클릭\n",
    "    driver.find_element(By.CSS_SELECTOR, \"#category > ul > li.hidden-xs.menu-search > a\").click()\n",
    "    time.sleep(1)\n",
    "\n",
    "    search_menu = driver.find_element(By.CSS_SELECTOR, \"#category > ul > li.main-search > form > div > input\")\n",
    "    search_menu.send_keys(menu)\n",
    "    time.sleep(1)\n",
    "    \n",
    "    driver.find_element(By.CSS_SELECTOR, \"#category_search_button\").click()\n",
    "    time.sleep(1)\n",
    "\n",
    "    ##----------- 가게 검색 -----------\n",
    "    #가게이름 클릭\n",
    "    driver.find_element(By.CSS_SELECTOR, \"#content > div > div:nth-child(5) > div > div > div > div\").click()\n",
    "    time.sleep(1)\n",
    "    \n",
    "    # 리뷰탭 클릭\n",
    "    driver.find_element(By.CSS_SELECTOR, '#content > div.restaurant-detail.row.ng-scope > div.col-sm-8 > ul > li:nth-child(2) > a').click()\n",
    "    time.sleep(1)\n",
    "    \n",
    "    # 사진 리뷰만 보기\n",
    "    driver.find_element(By.CSS_SELECTOR, '#content > div.restaurant-detail.row.ng-scope > div.col-sm-8 > div:nth-child(6) > div.review-count > div > div > div > label').click()\n",
    "    time.sleep(1)\n",
    "    \n",
    "    \n",
    "    ##----------- 이미지 크롤링  -----------\n",
    "    # 스크롤 맨 아래로\n",
    "    driver.execute_script(\"window.scrollTo(0, document.body.scrollHeight);\"); time.sleep(1)  # 브라우저 끝까지 스크롤을 내림\n",
    "    \n",
    "    review_num = len(driver.find_elements(By.XPATH, '//*[@id=\"review\"]/li'))\n",
    "    \n",
    "    while (review_num < get_review_num):\n",
    "        driver.execute_script(\"window.scrollTo(0, document.body.scrollHeight);\")  # 브라우저 끝까지 스크롤을 내림\n",
    "        time.sleep(1)\n",
    "        driver.find_element(By.CSS_SELECTOR, '#review > li.list-group-item.btn-more > a').click()\n",
    "        time.sleep(1)\n",
    "        review_num = len(driver.find_elements(By.XPATH, '//*[@id=\"review\"]/li'))\n",
    "        \n",
    "    # 현재 화면의 html 코드를 가져와서 뷰숲으로 작업하기\n",
    "    req = driver.page_source\n",
    "    soup = BeautifulSoup(req, 'html.parser')\n",
    "    \n",
    "    # 리뷰 목록 불러오기\n",
    "    review_tables = soup.select('#review>li')[1:get_review_num+1]\n",
    "    \n",
    "    make_save_folder = save_dir + 'reviews_data'\n",
    "    create_folder(make_save_folder)\n",
    "\n",
    "    for n, review in enumerate(review_tables):\n",
    "        img_tag = review.select('table>tbody>tr>td>div>img')\n",
    "        image_urls = [each['data-url'] for each in img_tag]\n",
    "\n",
    "        make_user_folder = make_save_folder+'/'+menu+'reviewer'+str(n+1)\n",
    "        create_folder(make_user_folder)\n",
    "\n",
    "        for idx, url in enumerate(image_urls):\n",
    "            response = requests.get(url)\n",
    "\n",
    "            if response.status_code == 200:\n",
    "                image_file = os.path.join(make_user_folder, f'img{idx+1}.jpg')\n",
    "                with open(image_file, 'wb') as file:\n",
    "                    file.write(response.content)\n",
    "                #print('이미지 저장', image_file)\n",
    "            else:\n",
    "                print('이미지 저장 실패')\n",
    "    \n",
    "    print(f'[{menu}] 크롤링 완료')\n",
    "    driver.quit()"
   ]
  },
  {
   "cell_type": "code",
   "execution_count": 4,
   "id": "c97effa5",
   "metadata": {
    "ExecuteTime": {
     "end_time": "2023-10-29T12:45:01.402312Z",
     "start_time": "2023-10-29T12:40:49.293152Z"
    }
   },
   "outputs": [
    {
     "name": "stdout",
     "output_type": "stream",
     "text": [
      "[짜장면] 크롤링 완료\n",
      "[짬뽕] 크롤링 완료\n",
      "[탕수육] 크롤링 완료\n"
     ]
    }
   ],
   "source": [
    "my_menu = ['짜장면', '짬뽕', '탕수육']\n",
    "\n",
    "for menu in my_menu:\n",
    "    yogiyo_crawling(get_review_num=100, save_dir='../Data_total/', menu=menu)"
   ]
  },
  {
   "cell_type": "code",
   "execution_count": null,
   "id": "30ba5a4f",
   "metadata": {},
   "outputs": [],
   "source": []
  },
  {
   "cell_type": "code",
   "execution_count": null,
   "id": "de3557da",
   "metadata": {},
   "outputs": [],
   "source": []
  },
  {
   "cell_type": "code",
   "execution_count": null,
   "id": "3bf74dee",
   "metadata": {},
   "outputs": [],
   "source": []
  }
 ],
 "metadata": {
  "kernelspec": {
   "display_name": "ds_study",
   "language": "python",
   "name": "ds_study"
  },
  "language_info": {
   "codemirror_mode": {
    "name": "ipython",
    "version": 3
   },
   "file_extension": ".py",
   "mimetype": "text/x-python",
   "name": "python",
   "nbconvert_exporter": "python",
   "pygments_lexer": "ipython3",
   "version": "3.8.18"
  },
  "toc": {
   "base_numbering": 1,
   "nav_menu": {},
   "number_sections": true,
   "sideBar": true,
   "skip_h1_title": false,
   "title_cell": "Table of Contents",
   "title_sidebar": "Contents",
   "toc_cell": false,
   "toc_position": {},
   "toc_section_display": true,
   "toc_window_display": false
  }
 },
 "nbformat": 4,
 "nbformat_minor": 5
}
