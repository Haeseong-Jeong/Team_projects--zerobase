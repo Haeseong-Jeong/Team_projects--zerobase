{
 "cells": [
  {
   "cell_type": "markdown",
   "id": "0e8de388",
   "metadata": {},
   "source": [
    "## 기초 모듈 불러오기"
   ]
  },
  {
   "cell_type": "code",
   "execution_count": 1,
   "id": "ee9de0ad",
   "metadata": {
    "ExecuteTime": {
     "end_time": "2023-09-19T15:52:53.447629Z",
     "start_time": "2023-09-19T15:52:46.168414Z"
    }
   },
   "outputs": [],
   "source": [
    "# Basics\n",
    "import numpy as np\n",
    "import pandas as pd\n",
    "import matplotlib.pyplot as plt\n",
    "import seaborn as sns\n",
    "\n",
    "# NLP\n",
    "import nltk\n",
    "from soynlp.normalizer import *\n",
    "from hanspell import spell_checker\n",
    "from konlpy.tag import Okt\n",
    "\n",
    "# ML\n",
    "from sklearn.feature_extraction.text import TfidfVectorizer\n",
    "from sklearn.feature_extraction.text import CountVectorizer\n",
    "from sklearn.model_selection import train_test_split\n",
    "from sklearn.linear_model import LogisticRegression\n",
    "from sklearn.metrics import accuracy_score, roc_curve\n",
    "from sklearn.pipeline import Pipeline\n",
    "from sklearn.preprocessing import StandardScaler\n",
    "from sklearn.tree import DecisionTreeClassifier\n"
   ]
  },
  {
   "cell_type": "markdown",
   "id": "54829ede",
   "metadata": {},
   "source": [
    "##### 시각화 한글화 "
   ]
  },
  {
   "cell_type": "code",
   "execution_count": 2,
   "id": "c1ae992e",
   "metadata": {
    "ExecuteTime": {
     "end_time": "2023-09-19T15:52:54.504330Z",
     "start_time": "2023-09-19T15:52:54.459488Z"
    }
   },
   "outputs": [
    {
     "name": "stdout",
     "output_type": "stream",
     "text": [
      "Hangul set complete in your Windows!\n"
     ]
    }
   ],
   "source": [
    "import platform\n",
    "import matplotlib.pyplot as plt\n",
    "from matplotlib import font_manager, rc\n",
    "import koreanize_matplotlib \n",
    "path = \"C:/Windows/Fonts/malgun.ttf\"\n",
    "\n",
    "if platform.system() == \"Darwin\":\n",
    "    print(\"Hangul set complete in your MAC!\")\n",
    "    rc(\"font\", family = \"Arial Unicode MS\")\n",
    "    \n",
    "elif platform.system() == \"Windows\":\n",
    "    print(\"Hangul set complete in your Windows!\")\n",
    "    font_name = font_manager.FontProperties(fname=path).get_name()\n",
    "    rc(\"font\", family = font_name)\n",
    "\n",
    "else:\n",
    "    print(\"Unknown your system....\")\n",
    "    \n",
    "plt.rcParams[\"axes.unicode_minus\"] = False\n",
    "\n",
    "def seaborn_Hangul():\n",
    "    ## seaborn 한글\n",
    "    plt.rc(\"font\", family = \"Malgun Gothic\")\n",
    "    sns.set(font=\"Malgun Gothic\", \n",
    "    rc={\"axes.unicode_minus\":False}, style='white')\n",
    "seaborn_Hangul();"
   ]
  },
  {
   "cell_type": "markdown",
   "id": "43cbacfc",
   "metadata": {},
   "source": [
    "## 리뷰 전처리 데이터 가져오기"
   ]
  },
  {
   "cell_type": "code",
   "execution_count": 3,
   "id": "db4db046",
   "metadata": {
    "ExecuteTime": {
     "end_time": "2023-09-19T15:52:56.669258Z",
     "start_time": "2023-09-19T15:52:56.524222Z"
    }
   },
   "outputs": [
    {
     "data": {
      "text/html": [
       "<div>\n",
       "<style scoped>\n",
       "    .dataframe tbody tr th:only-of-type {\n",
       "        vertical-align: middle;\n",
       "    }\n",
       "\n",
       "    .dataframe tbody tr th {\n",
       "        vertical-align: top;\n",
       "    }\n",
       "\n",
       "    .dataframe thead th {\n",
       "        text-align: right;\n",
       "    }\n",
       "</style>\n",
       "<table border=\"1\" class=\"dataframe\">\n",
       "  <thead>\n",
       "    <tr style=\"text-align: right;\">\n",
       "      <th></th>\n",
       "      <th>date</th>\n",
       "      <th>review</th>\n",
       "      <th>tokenized_review</th>\n",
       "      <th>tokenized_removed_review</th>\n",
       "      <th>reviews_for_vectorize</th>\n",
       "      <th>noun_tokenized_review</th>\n",
       "      <th>noun_tokenized_removed_review</th>\n",
       "      <th>noun_reviews_for_vectorize</th>\n",
       "      <th>rating</th>\n",
       "      <th>label</th>\n",
       "    </tr>\n",
       "  </thead>\n",
       "  <tbody>\n",
       "    <tr>\n",
       "      <th>0</th>\n",
       "      <td>2023-09-10</td>\n",
       "      <td>상세 설명에 들어가지 않아도 검색 결과에서 중량과 가격이 바로 확인되면 더 편리하겠습니다</td>\n",
       "      <td>['상세', '설명', '에', '들어가지', '않아도', '검색', '결과', '...</td>\n",
       "      <td>['상세', '설명', '들어가지', '않아도', '검색', '결과', '중량', ...</td>\n",
       "      <td>상세 설명 들어가지 않아도 검색 결과 중량 가격 확인 되면 더 편리하겠습니다</td>\n",
       "      <td>['상세', '설명', '검색', '결과', '중량', '가격', '바로', '확인...</td>\n",
       "      <td>['상세', '설명', '검색', '결과', '중량', '가격', '확인', '더']</td>\n",
       "      <td>상세 설명 검색 결과 중량 가격 확인 더</td>\n",
       "      <td>5</td>\n",
       "      <td>1.0</td>\n",
       "    </tr>\n",
       "    <tr>\n",
       "      <th>1</th>\n",
       "      <td>2023-09-09</td>\n",
       "      <td>필터 기능 잘 되어있어 편하게 쇼핑함</td>\n",
       "      <td>['필터', '기능', '잘', '되어있어', '편하게', '쇼핑', '함']</td>\n",
       "      <td>['필터', '기능', '잘', '되어있어', '편하게', '쇼핑', '함']</td>\n",
       "      <td>필터 기능 잘 되어있어 편하게 쇼핑 함</td>\n",
       "      <td>['필터', '기능', '쇼핑', '함']</td>\n",
       "      <td>['필터', '기능', '쇼핑', '함']</td>\n",
       "      <td>필터 기능 쇼핑 함</td>\n",
       "      <td>5</td>\n",
       "      <td>1.0</td>\n",
       "    </tr>\n",
       "    <tr>\n",
       "      <th>2</th>\n",
       "      <td>2023-09-09</td>\n",
       "      <td>배송이 빨라요 그리고 할인이 많아요</td>\n",
       "      <td>['배송', '이', '빨라요', '그리고', '할인', '이', '많아요']</td>\n",
       "      <td>['배송', '빨라요', '할인', '많아요']</td>\n",
       "      <td>배송 빨라요 할인 많아요</td>\n",
       "      <td>['배송', '할인']</td>\n",
       "      <td>['배송', '할인']</td>\n",
       "      <td>배송 할인</td>\n",
       "      <td>5</td>\n",
       "      <td>1.0</td>\n",
       "    </tr>\n",
       "    <tr>\n",
       "      <th>3</th>\n",
       "      <td>2023-09-09</td>\n",
       "      <td>50퍼 쿠폰 만원 빵빵하게 주는 곳 처음 봄 주문하면 6시간 만에 옴 이 앱 뭐지</td>\n",
       "      <td>['50', '퍼', '쿠폰', '만원', '빵빵', '하게', '주는', '곳',...</td>\n",
       "      <td>['50', '퍼', '쿠폰', '만원', '빵빵', '하게', '주는', '곳',...</td>\n",
       "      <td>50 퍼 쿠폰 만원 빵빵 하게 주는 곳 처음 봄 주문 하면 6시간 만에 옴 앱 뭐</td>\n",
       "      <td>['쿠폰', '만원', '빵빵', '곳', '처음', '봄', '주문', '옴', ...</td>\n",
       "      <td>['쿠폰', '만원', '빵빵', '곳', '처음', '봄', '주문', '옴', ...</td>\n",
       "      <td>쿠폰 만원 빵빵 곳 처음 봄 주문 옴 앱 뭐</td>\n",
       "      <td>5</td>\n",
       "      <td>1.0</td>\n",
       "    </tr>\n",
       "    <tr>\n",
       "      <th>4</th>\n",
       "      <td>2023-09-09</td>\n",
       "      <td>빠른 배송</td>\n",
       "      <td>['빠른', '배송']</td>\n",
       "      <td>['빠른', '배송']</td>\n",
       "      <td>빠른 배송</td>\n",
       "      <td>['배송']</td>\n",
       "      <td>['배송']</td>\n",
       "      <td>배송</td>\n",
       "      <td>5</td>\n",
       "      <td>1.0</td>\n",
       "    </tr>\n",
       "  </tbody>\n",
       "</table>\n",
       "</div>"
      ],
      "text/plain": [
       "         date                                             review  \\\n",
       "0  2023-09-10  상세 설명에 들어가지 않아도 검색 결과에서 중량과 가격이 바로 확인되면 더 편리하겠습니다   \n",
       "1  2023-09-09                               필터 기능 잘 되어있어 편하게 쇼핑함   \n",
       "2  2023-09-09                                배송이 빨라요 그리고 할인이 많아요   \n",
       "3  2023-09-09      50퍼 쿠폰 만원 빵빵하게 주는 곳 처음 봄 주문하면 6시간 만에 옴 이 앱 뭐지   \n",
       "4  2023-09-09                                              빠른 배송   \n",
       "\n",
       "                                    tokenized_review  \\\n",
       "0  ['상세', '설명', '에', '들어가지', '않아도', '검색', '결과', '...   \n",
       "1        ['필터', '기능', '잘', '되어있어', '편하게', '쇼핑', '함']   \n",
       "2        ['배송', '이', '빨라요', '그리고', '할인', '이', '많아요']   \n",
       "3  ['50', '퍼', '쿠폰', '만원', '빵빵', '하게', '주는', '곳',...   \n",
       "4                                       ['빠른', '배송']   \n",
       "\n",
       "                            tokenized_removed_review  \\\n",
       "0  ['상세', '설명', '들어가지', '않아도', '검색', '결과', '중량', ...   \n",
       "1        ['필터', '기능', '잘', '되어있어', '편하게', '쇼핑', '함']   \n",
       "2                         ['배송', '빨라요', '할인', '많아요']   \n",
       "3  ['50', '퍼', '쿠폰', '만원', '빵빵', '하게', '주는', '곳',...   \n",
       "4                                       ['빠른', '배송']   \n",
       "\n",
       "                            reviews_for_vectorize  \\\n",
       "0      상세 설명 들어가지 않아도 검색 결과 중량 가격 확인 되면 더 편리하겠습니다   \n",
       "1                           필터 기능 잘 되어있어 편하게 쇼핑 함   \n",
       "2                                   배송 빨라요 할인 많아요   \n",
       "3   50 퍼 쿠폰 만원 빵빵 하게 주는 곳 처음 봄 주문 하면 6시간 만에 옴 앱 뭐   \n",
       "4                                           빠른 배송   \n",
       "\n",
       "                               noun_tokenized_review  \\\n",
       "0  ['상세', '설명', '검색', '결과', '중량', '가격', '바로', '확인...   \n",
       "1                            ['필터', '기능', '쇼핑', '함']   \n",
       "2                                       ['배송', '할인']   \n",
       "3  ['쿠폰', '만원', '빵빵', '곳', '처음', '봄', '주문', '옴', ...   \n",
       "4                                             ['배송']   \n",
       "\n",
       "                       noun_tokenized_removed_review  \\\n",
       "0    ['상세', '설명', '검색', '결과', '중량', '가격', '확인', '더']   \n",
       "1                            ['필터', '기능', '쇼핑', '함']   \n",
       "2                                       ['배송', '할인']   \n",
       "3  ['쿠폰', '만원', '빵빵', '곳', '처음', '봄', '주문', '옴', ...   \n",
       "4                                             ['배송']   \n",
       "\n",
       "  noun_reviews_for_vectorize  rating  label  \n",
       "0     상세 설명 검색 결과 중량 가격 확인 더       5    1.0  \n",
       "1                 필터 기능 쇼핑 함       5    1.0  \n",
       "2                      배송 할인       5    1.0  \n",
       "3   쿠폰 만원 빵빵 곳 처음 봄 주문 옴 앱 뭐       5    1.0  \n",
       "4                         배송       5    1.0  "
      ]
     },
     "execution_count": 3,
     "metadata": {},
     "output_type": "execute_result"
    }
   ],
   "source": [
    "# 파일 불러오기\n",
    "\n",
    "review_df = pd.read_csv('./MK_review_proceed_data.csv', encoding='utf-8', index_col=0) # df_review는 전체년도 리뷰 크롤링 파일\n",
    "review_df.head()"
   ]
  },
  {
   "cell_type": "code",
   "execution_count": 9,
   "id": "5ae5099a",
   "metadata": {
    "ExecuteTime": {
     "end_time": "2023-09-19T15:55:39.356095Z",
     "start_time": "2023-09-19T15:55:39.332121Z"
    }
   },
   "outputs": [
    {
     "data": {
      "text/html": [
       "<div>\n",
       "<style scoped>\n",
       "    .dataframe tbody tr th:only-of-type {\n",
       "        vertical-align: middle;\n",
       "    }\n",
       "\n",
       "    .dataframe tbody tr th {\n",
       "        vertical-align: top;\n",
       "    }\n",
       "\n",
       "    .dataframe thead th {\n",
       "        text-align: right;\n",
       "    }\n",
       "</style>\n",
       "<table border=\"1\" class=\"dataframe\">\n",
       "  <thead>\n",
       "    <tr style=\"text-align: right;\">\n",
       "      <th></th>\n",
       "      <th>date</th>\n",
       "      <th>review</th>\n",
       "      <th>rating</th>\n",
       "      <th>label</th>\n",
       "    </tr>\n",
       "  </thead>\n",
       "  <tbody>\n",
       "    <tr>\n",
       "      <th>0</th>\n",
       "      <td>2023-09-10</td>\n",
       "      <td>상세 설명에 들어가지 않아도 검색 결과에서 중량과 가격이 바로 확인되면 더 편리하겠습니다</td>\n",
       "      <td>5</td>\n",
       "      <td>1.0</td>\n",
       "    </tr>\n",
       "    <tr>\n",
       "      <th>1</th>\n",
       "      <td>2023-09-09</td>\n",
       "      <td>필터 기능 잘 되어있어 편하게 쇼핑함</td>\n",
       "      <td>5</td>\n",
       "      <td>1.0</td>\n",
       "    </tr>\n",
       "    <tr>\n",
       "      <th>2</th>\n",
       "      <td>2023-09-09</td>\n",
       "      <td>배송이 빨라요 그리고 할인이 많아요</td>\n",
       "      <td>5</td>\n",
       "      <td>1.0</td>\n",
       "    </tr>\n",
       "    <tr>\n",
       "      <th>3</th>\n",
       "      <td>2023-09-09</td>\n",
       "      <td>50퍼 쿠폰 만원 빵빵하게 주는 곳 처음 봄 주문하면 6시간 만에 옴 이 앱 뭐지</td>\n",
       "      <td>5</td>\n",
       "      <td>1.0</td>\n",
       "    </tr>\n",
       "    <tr>\n",
       "      <th>4</th>\n",
       "      <td>2023-09-09</td>\n",
       "      <td>빠른 배송</td>\n",
       "      <td>5</td>\n",
       "      <td>1.0</td>\n",
       "    </tr>\n",
       "    <tr>\n",
       "      <th>...</th>\n",
       "      <td>...</td>\n",
       "      <td>...</td>\n",
       "      <td>...</td>\n",
       "      <td>...</td>\n",
       "    </tr>\n",
       "    <tr>\n",
       "      <th>12942</th>\n",
       "      <td>2016-03-02</td>\n",
       "      <td>모바일로 쉽게 살 수 있어서</td>\n",
       "      <td>5</td>\n",
       "      <td>1.0</td>\n",
       "    </tr>\n",
       "    <tr>\n",
       "      <th>12943</th>\n",
       "      <td>2016-03-02</td>\n",
       "      <td>아이를 키우며 좋은 식자재에 대한 갈증이 있는데 이렇게  건강하고 신선한 먹거리를 ...</td>\n",
       "      <td>5</td>\n",
       "      <td>1.0</td>\n",
       "    </tr>\n",
       "    <tr>\n",
       "      <th>12944</th>\n",
       "      <td>2016-03-02</td>\n",
       "      <td>아는 동생 소개로 알게 된 마켓 컬리 늦게 안 게 아쉬울 정도 제품퀄리티완젼좋고포장...</td>\n",
       "      <td>5</td>\n",
       "      <td>1.0</td>\n",
       "    </tr>\n",
       "    <tr>\n",
       "      <th>12945</th>\n",
       "      <td>2016-03-02</td>\n",
       "      <td>샛별 배송 정말 훌륭합니다 컬리라면 무조건 믿고 주문</td>\n",
       "      <td>5</td>\n",
       "      <td>1.0</td>\n",
       "    </tr>\n",
       "    <tr>\n",
       "      <th>12946</th>\n",
       "      <td>2016-03-01</td>\n",
       "      <td>더 이상 밤늦게 슈퍼를 헤매고 다니지 않아도 됨</td>\n",
       "      <td>5</td>\n",
       "      <td>1.0</td>\n",
       "    </tr>\n",
       "  </tbody>\n",
       "</table>\n",
       "<p>11321 rows × 4 columns</p>\n",
       "</div>"
      ],
      "text/plain": [
       "             date                                             review  rating  \\\n",
       "0      2023-09-10  상세 설명에 들어가지 않아도 검색 결과에서 중량과 가격이 바로 확인되면 더 편리하겠습니다       5   \n",
       "1      2023-09-09                               필터 기능 잘 되어있어 편하게 쇼핑함       5   \n",
       "2      2023-09-09                                배송이 빨라요 그리고 할인이 많아요       5   \n",
       "3      2023-09-09      50퍼 쿠폰 만원 빵빵하게 주는 곳 처음 봄 주문하면 6시간 만에 옴 이 앱 뭐지       5   \n",
       "4      2023-09-09                                              빠른 배송       5   \n",
       "...           ...                                                ...     ...   \n",
       "12942  2016-03-02                                    모바일로 쉽게 살 수 있어서       5   \n",
       "12943  2016-03-02  아이를 키우며 좋은 식자재에 대한 갈증이 있는데 이렇게  건강하고 신선한 먹거리를 ...       5   \n",
       "12944  2016-03-02  아는 동생 소개로 알게 된 마켓 컬리 늦게 안 게 아쉬울 정도 제품퀄리티완젼좋고포장...       5   \n",
       "12945  2016-03-02                      샛별 배송 정말 훌륭합니다 컬리라면 무조건 믿고 주문       5   \n",
       "12946  2016-03-01                         더 이상 밤늦게 슈퍼를 헤매고 다니지 않아도 됨       5   \n",
       "\n",
       "       label  \n",
       "0        1.0  \n",
       "1        1.0  \n",
       "2        1.0  \n",
       "3        1.0  \n",
       "4        1.0  \n",
       "...      ...  \n",
       "12942    1.0  \n",
       "12943    1.0  \n",
       "12944    1.0  \n",
       "12945    1.0  \n",
       "12946    1.0  \n",
       "\n",
       "[11321 rows x 4 columns]"
      ]
     },
     "execution_count": 9,
     "metadata": {},
     "output_type": "execute_result"
    }
   ],
   "source": [
    "tmp_df = review_df.iloc[:,[0,1,8,9]]\n",
    "tmp_df"
   ]
  },
  {
   "cell_type": "code",
   "execution_count": 10,
   "id": "a4a12103",
   "metadata": {
    "ExecuteTime": {
     "end_time": "2023-09-19T15:56:05.987331Z",
     "start_time": "2023-09-19T15:56:05.962400Z"
    }
   },
   "outputs": [
    {
     "data": {
      "text/html": [
       "<div>\n",
       "<style scoped>\n",
       "    .dataframe tbody tr th:only-of-type {\n",
       "        vertical-align: middle;\n",
       "    }\n",
       "\n",
       "    .dataframe tbody tr th {\n",
       "        vertical-align: top;\n",
       "    }\n",
       "\n",
       "    .dataframe thead th {\n",
       "        text-align: right;\n",
       "    }\n",
       "</style>\n",
       "<table border=\"1\" class=\"dataframe\">\n",
       "  <thead>\n",
       "    <tr style=\"text-align: right;\">\n",
       "      <th></th>\n",
       "      <th>date</th>\n",
       "      <th>review</th>\n",
       "      <th>rating</th>\n",
       "      <th>label</th>\n",
       "    </tr>\n",
       "  </thead>\n",
       "  <tbody>\n",
       "    <tr>\n",
       "      <th>9</th>\n",
       "      <td>2023-09-08</td>\n",
       "      <td>아니 컬리 팜 초대해도 안 열리던데</td>\n",
       "      <td>1</td>\n",
       "      <td>0.0</td>\n",
       "    </tr>\n",
       "    <tr>\n",
       "      <th>21</th>\n",
       "      <td>2023-09-06</td>\n",
       "      <td>저기요 담당 부서로 개선 요청한다고 말만 그러지 말고 제대로 운영 좀 하세요</td>\n",
       "      <td>1</td>\n",
       "      <td>0.0</td>\n",
       "    </tr>\n",
       "    <tr>\n",
       "      <th>41</th>\n",
       "      <td>2023-08-29</td>\n",
       "      <td>주문 알림 설정 꺼있는데 알림 와요   그리고 컬리는 오타 치면 검색 결과가 아예 ...</td>\n",
       "      <td>2</td>\n",
       "      <td>0.0</td>\n",
       "    </tr>\n",
       "    <tr>\n",
       "      <th>42</th>\n",
       "      <td>2023-08-28</td>\n",
       "      <td>오류가 너무 많음</td>\n",
       "      <td>1</td>\n",
       "      <td>0.0</td>\n",
       "    </tr>\n",
       "    <tr>\n",
       "      <th>52</th>\n",
       "      <td>2023-08-26</td>\n",
       "      <td>상품 중에 배송 불가 상품이 너무 많은데 안되면 안 된다고 표시라도 해줬으면 좋겠네...</td>\n",
       "      <td>2</td>\n",
       "      <td>0.0</td>\n",
       "    </tr>\n",
       "    <tr>\n",
       "      <th>...</th>\n",
       "      <td>...</td>\n",
       "      <td>...</td>\n",
       "      <td>...</td>\n",
       "      <td>...</td>\n",
       "    </tr>\n",
       "    <tr>\n",
       "      <th>12926</th>\n",
       "      <td>2016-03-03</td>\n",
       "      <td>화면전환할 때 렉이 너무 심하고 검색은 아예 되지를 않네요</td>\n",
       "      <td>2</td>\n",
       "      <td>0.0</td>\n",
       "    </tr>\n",
       "    <tr>\n",
       "      <th>12927</th>\n",
       "      <td>2016-03-03</td>\n",
       "      <td>너무 느리고 화면 전환 때 수시로 앱 먹통 돼서 종료도 안돼요 개발자부터 바꾸셔야 할 듯</td>\n",
       "      <td>1</td>\n",
       "      <td>0.0</td>\n",
       "    </tr>\n",
       "    <tr>\n",
       "      <th>12928</th>\n",
       "      <td>2016-03-02</td>\n",
       "      <td>모바일 페이지도 그다지 편하지는 않았는데 이건 훨씬 더 불편   인내심으로 결제까지...</td>\n",
       "      <td>1</td>\n",
       "      <td>0.0</td>\n",
       "    </tr>\n",
       "    <tr>\n",
       "      <th>12930</th>\n",
       "      <td>2016-03-02</td>\n",
       "      <td>아니 앱 반응이 너무 느려요다 좋은데 주문하기가 너무 힘드네요 너무 느려서 핸드폰 ...</td>\n",
       "      <td>1</td>\n",
       "      <td>0.0</td>\n",
       "    </tr>\n",
       "    <tr>\n",
       "      <th>12937</th>\n",
       "      <td>2016-03-02</td>\n",
       "      <td>이벤트 있길래 깔아서 사용하다 인내심의 한계를 느꼈네요 화면 멈추기를 수차례 주문하...</td>\n",
       "      <td>1</td>\n",
       "      <td>0.0</td>\n",
       "    </tr>\n",
       "  </tbody>\n",
       "</table>\n",
       "<p>1754 rows × 4 columns</p>\n",
       "</div>"
      ],
      "text/plain": [
       "             date                                             review  rating  \\\n",
       "9      2023-09-08                                아니 컬리 팜 초대해도 안 열리던데       1   \n",
       "21     2023-09-06         저기요 담당 부서로 개선 요청한다고 말만 그러지 말고 제대로 운영 좀 하세요       1   \n",
       "41     2023-08-29  주문 알림 설정 꺼있는데 알림 와요   그리고 컬리는 오타 치면 검색 결과가 아예 ...       2   \n",
       "42     2023-08-28                                          오류가 너무 많음       1   \n",
       "52     2023-08-26  상품 중에 배송 불가 상품이 너무 많은데 안되면 안 된다고 표시라도 해줬으면 좋겠네...       2   \n",
       "...           ...                                                ...     ...   \n",
       "12926  2016-03-03                   화면전환할 때 렉이 너무 심하고 검색은 아예 되지를 않네요       2   \n",
       "12927  2016-03-03  너무 느리고 화면 전환 때 수시로 앱 먹통 돼서 종료도 안돼요 개발자부터 바꾸셔야 할 듯       1   \n",
       "12928  2016-03-02  모바일 페이지도 그다지 편하지는 않았는데 이건 훨씬 더 불편   인내심으로 결제까지...       1   \n",
       "12930  2016-03-02  아니 앱 반응이 너무 느려요다 좋은데 주문하기가 너무 힘드네요 너무 느려서 핸드폰 ...       1   \n",
       "12937  2016-03-02  이벤트 있길래 깔아서 사용하다 인내심의 한계를 느꼈네요 화면 멈추기를 수차례 주문하...       1   \n",
       "\n",
       "       label  \n",
       "9        0.0  \n",
       "21       0.0  \n",
       "41       0.0  \n",
       "42       0.0  \n",
       "52       0.0  \n",
       "...      ...  \n",
       "12926    0.0  \n",
       "12927    0.0  \n",
       "12928    0.0  \n",
       "12930    0.0  \n",
       "12937    0.0  \n",
       "\n",
       "[1754 rows x 4 columns]"
      ]
     },
     "execution_count": 10,
     "metadata": {},
     "output_type": "execute_result"
    }
   ],
   "source": [
    "tmp_df[tmp_df['rating'] <= 2]"
   ]
  },
  {
   "cell_type": "code",
   "execution_count": null,
   "id": "e96a649f",
   "metadata": {},
   "outputs": [],
   "source": []
  },
  {
   "cell_type": "code",
   "execution_count": null,
   "id": "6f248497",
   "metadata": {},
   "outputs": [],
   "source": []
  },
  {
   "cell_type": "code",
   "execution_count": 4,
   "id": "06c2e00e",
   "metadata": {
    "ExecuteTime": {
     "end_time": "2023-09-15T07:41:32.186957Z",
     "start_time": "2023-09-15T07:41:32.178989Z"
    }
   },
   "outputs": [
    {
     "data": {
      "text/plain": [
       "Index(['date', 'review', 'tokenized_review', 'tokenized_removed_review',\n",
       "       'reviews_for_vectorize', 'noun_tokenized_review',\n",
       "       'noun_tokenized_removed_review', 'noun_reviews_for_vectorize', 'rating',\n",
       "       'label'],\n",
       "      dtype='object')"
      ]
     },
     "execution_count": 4,
     "metadata": {},
     "output_type": "execute_result"
    }
   ],
   "source": [
    "review_df.columns"
   ]
  },
  {
   "cell_type": "markdown",
   "id": "1b982d21",
   "metadata": {},
   "source": [
    "리뷰 -> 토큰화 -> 불용어 처리 -> 벡터화 사전작업\n",
    "```\n",
    "review \n",
    "    -> tokenized_review  (명사+형태소)\n",
    "        -> tokenized_removed_review\n",
    "            -> reviews_for_vectorize\n",
    "            \n",
    "    -> noun_tokenized_review  (명사)\n",
    "        -> noun_tokenized_removed_review\n",
    "            -> noun_reviews_for_vectorize\n",
    "```"
   ]
  },
  {
   "cell_type": "markdown",
   "id": "0ae8bb81",
   "metadata": {},
   "source": [
    "## 명사 + 형태소 기준으로 작업"
   ]
  },
  {
   "cell_type": "markdown",
   "id": "99625886",
   "metadata": {},
   "source": [
    "##### 말뭉치 만들기"
   ]
  },
  {
   "cell_type": "code",
   "execution_count": 5,
   "id": "b44efe42",
   "metadata": {
    "ExecuteTime": {
     "end_time": "2023-09-15T07:50:32.244878Z",
     "start_time": "2023-09-15T07:50:31.791480Z"
    },
    "scrolled": true
   },
   "outputs": [
    {
     "name": "stdout",
     "output_type": "stream",
     "text": [
      "토큰화 말뭉치 개수 : 122378\n",
      "중복을 제거한 말뭉치 개수 : 12527\n"
     ]
    }
   ],
   "source": [
    "## 말뭉치 만들기\n",
    "\n",
    "import ast\n",
    "\n",
    "nouns_list = []\n",
    "\n",
    "for tokens in review_df['tokenized_removed_review']:\n",
    "    \n",
    "    nouns_list.extend(ast.literal_eval(tokens))\n",
    "    \n",
    "nouns_list_set = list(set(nouns_list))\n",
    "print('토큰화 말뭉치 개수 :',len(nouns_list))\n",
    "print('중복을 제거한 말뭉치 개수 :',len(nouns_list_set))"
   ]
  },
  {
   "cell_type": "code",
   "execution_count": 7,
   "id": "a8b9bffa",
   "metadata": {
    "ExecuteTime": {
     "end_time": "2023-09-15T07:50:57.521738Z",
     "start_time": "2023-09-15T07:50:57.506773Z"
    }
   },
   "outputs": [
    {
     "data": {
      "text/plain": [
       "['상세', '설명', '들어가지', '않아도', '검색', '결과', '중량', '가격', '확인', '되면']"
      ]
     },
     "execution_count": 7,
     "metadata": {},
     "output_type": "execute_result"
    }
   ],
   "source": [
    "nouns_list[:10]"
   ]
  },
  {
   "cell_type": "code",
   "execution_count": 6,
   "id": "b56ba573",
   "metadata": {
    "ExecuteTime": {
     "end_time": "2023-09-15T07:50:40.882372Z",
     "start_time": "2023-09-15T07:50:40.870416Z"
    }
   },
   "outputs": [
    {
     "data": {
      "text/plain": [
       "['도시', '퀀리티', '움', '이럼', '없겠지라고', '편하기도', '쑥쑥', '베사', '올리겠습니다', '있는데요']"
      ]
     },
     "execution_count": 6,
     "metadata": {},
     "output_type": "execute_result"
    }
   ],
   "source": [
    "nouns_list_set[:10]"
   ]
  },
  {
   "attachments": {
    "image.png": {
     "image/png": "[encoded data removed]"
    }
   },
   "cell_type": "markdown",
   "id": "360db576",
   "metadata": {},
   "source": [
    "### 로지스틱 베스트 모델\n",
    "![image.png](attachment:image.png)"
   ]
  },
  {
   "cell_type": "code",
   "execution_count": 9,
   "id": "f7fd5029",
   "metadata": {
    "ExecuteTime": {
     "end_time": "2023-09-15T07:55:09.410458Z",
     "start_time": "2023-09-15T07:55:09.270203Z"
    }
   },
   "outputs": [
    {
     "data": {
      "text/plain": [
       "(11321, 12527)"
      ]
     },
     "execution_count": 9,
     "metadata": {},
     "output_type": "execute_result"
    }
   ],
   "source": [
    "# 말뭉치 기준 벡터화\n",
    "tfidf_vectorizer = TfidfVectorizer(min_df=10, decode_error='ignore',vocabulary=nouns_list_set) # max_features=3000\n",
    "\n",
    "contents_for_vectorize = review_df['reviews_for_vectorize']\n",
    "X = tfidf_vectorizer.fit_transform(contents_for_vectorize)\n",
    "X.shape"
   ]
  },
  {
   "cell_type": "code",
   "execution_count": 10,
   "id": "cbf9f6a5",
   "metadata": {
    "ExecuteTime": {
     "end_time": "2023-09-15T07:55:12.154480Z",
     "start_time": "2023-09-15T07:55:12.131566Z"
    }
   },
   "outputs": [
    {
     "data": {
      "text/plain": [
       "(11321,)"
      ]
     },
     "execution_count": 10,
     "metadata": {},
     "output_type": "execute_result"
    }
   ],
   "source": [
    "y = review_df['label']\n",
    "y.shape"
   ]
  },
  {
   "cell_type": "code",
   "execution_count": 12,
   "id": "2ce29cc6",
   "metadata": {
    "ExecuteTime": {
     "end_time": "2023-09-15T07:59:08.223549Z",
     "start_time": "2023-09-15T07:59:08.111179Z"
    }
   },
   "outputs": [
    {
     "name": "stdout",
     "output_type": "stream",
     "text": [
      "Train Acc :  0.9717314487632509\n",
      "Test Acc :  0.9143361789814543\n"
     ]
    }
   ],
   "source": [
    "X_train, X_test, y_train, y_test = train_test_split(X, y, test_size=0.3, random_state=13, stratify=y)\n",
    "\n",
    "Logistic_reg = LogisticRegression(C=5, max_iter=1000, solver='saga', penalty='l2', random_state=13)\n",
    "Logistic_reg.fit(X_train, y_train)\n",
    "\n",
    "y_pred_tr = Logistic_reg.predict(X_train)\n",
    "y_pred_test = Logistic_reg.predict(X_test)\n",
    "\n",
    "print('Train Acc : ', accuracy_score(y_train, y_pred_tr))\n",
    "print('Test Acc : ', accuracy_score(y_test, y_pred_test))"
   ]
  },
  {
   "cell_type": "markdown",
   "id": "b0f1b2ba",
   "metadata": {},
   "source": [
    "## 오즈비 추출"
   ]
  },
  {
   "cell_type": "code",
   "execution_count": 13,
   "id": "e1f74ba8",
   "metadata": {
    "ExecuteTime": {
     "end_time": "2023-09-15T07:59:18.228383Z",
     "start_time": "2023-09-15T07:59:18.212425Z"
    }
   },
   "outputs": [
    {
     "data": {
      "text/plain": [
       "array([[ 0.22515502,  0.        ,  0.        , ...,  0.03121876,\n",
       "        -0.07951363, -0.25428334]])"
      ]
     },
     "execution_count": 13,
     "metadata": {},
     "output_type": "execute_result"
    }
   ],
   "source": [
    "# 학습 결과 선형 계수\n",
    "Logistic_reg.coef_"
   ]
  },
  {
   "cell_type": "code",
   "execution_count": 18,
   "id": "3b5ffa15",
   "metadata": {
    "ExecuteTime": {
     "end_time": "2023-09-15T08:04:42.488330Z",
     "start_time": "2023-09-15T08:04:42.439917Z"
    }
   },
   "outputs": [
    {
     "data": {
      "text/html": [
       "<div>\n",
       "<style scoped>\n",
       "    .dataframe tbody tr th:only-of-type {\n",
       "        vertical-align: middle;\n",
       "    }\n",
       "\n",
       "    .dataframe tbody tr th {\n",
       "        vertical-align: top;\n",
       "    }\n",
       "\n",
       "    .dataframe thead th {\n",
       "        text-align: right;\n",
       "    }\n",
       "</style>\n",
       "<table border=\"1\" class=\"dataframe\">\n",
       "  <thead>\n",
       "    <tr style=\"text-align: right;\">\n",
       "      <th></th>\n",
       "      <th>coef</th>\n",
       "      <th>odds</th>\n",
       "    </tr>\n",
       "  </thead>\n",
       "  <tbody>\n",
       "    <tr>\n",
       "      <th>편하고</th>\n",
       "      <td>5.229586</td>\n",
       "      <td>186.715575</td>\n",
       "    </tr>\n",
       "    <tr>\n",
       "      <th>좋은</th>\n",
       "      <td>4.668544</td>\n",
       "      <td>106.542472</td>\n",
       "    </tr>\n",
       "    <tr>\n",
       "      <th>최고</th>\n",
       "      <td>4.622766</td>\n",
       "      <td>101.775141</td>\n",
       "    </tr>\n",
       "    <tr>\n",
       "      <th>편해요</th>\n",
       "      <td>4.595277</td>\n",
       "      <td>99.015523</td>\n",
       "    </tr>\n",
       "    <tr>\n",
       "      <th>만족합니다</th>\n",
       "      <td>4.585333</td>\n",
       "      <td>98.035814</td>\n",
       "    </tr>\n",
       "  </tbody>\n",
       "</table>\n",
       "</div>"
      ],
      "text/plain": [
       "           coef        odds\n",
       "편하고    5.229586  186.715575\n",
       "좋은     4.668544  106.542472\n",
       "최고     4.622766  101.775141\n",
       "편해요    4.595277   99.015523\n",
       "만족합니다  4.585333   98.035814"
      ]
     },
     "execution_count": 18,
     "metadata": {},
     "output_type": "execute_result"
    }
   ],
   "source": [
    "# row 생략 없이 출력\n",
    "#pd.set_option('display.max_rows', None)\n",
    "# col 생략 없이 출력\n",
    "#pd.set_option('display.max_columns', None)\n",
    "\n",
    "# 키워드와 선형계수\n",
    "df_keywords = pd.DataFrame(Logistic_reg.coef_, columns=tfidf_vectorizer.get_feature_names_out()).transpose()\n",
    "df_keywords = df_keywords.rename(columns={0:'coef'})\n",
    "df_keywords = df_keywords.sort_values(by='coef', ascending=False)\n",
    "\n",
    "# 오즈비 추가\n",
    "df_keywords['odds'] = [ np.exp(coeff) for coeff in df_keywords['coef']]\n",
    "df_keywords.head()"
   ]
  },
  {
   "cell_type": "markdown",
   "id": "cfd0d735",
   "metadata": {},
   "source": [
    "## 오즈비 vs 빈도수 표로 비교"
   ]
  },
  {
   "cell_type": "code",
   "execution_count": 19,
   "id": "6f2d13d0",
   "metadata": {
    "ExecuteTime": {
     "end_time": "2023-09-15T08:06:59.916036Z",
     "start_time": "2023-09-15T08:06:59.899058Z"
    }
   },
   "outputs": [],
   "source": [
    "## display 옆으로 여러개 띄우기\n",
    "from IPython.display import display_html\n",
    "def display_side_by_side(*args):\n",
    "    \"\"\"여러 데이터프레임 비교가 쉽게 옆쪽으로 표시한다\"\"\"\n",
    "    html_str=''\n",
    "    for df in args:\n",
    "        html_str += df.to_html()\n",
    "    display_html(html_str.replace('table','table style=\"display:inline\"'), raw=True)"
   ]
  },
  {
   "cell_type": "code",
   "execution_count": 24,
   "id": "8a8b8ca0",
   "metadata": {
    "ExecuteTime": {
     "end_time": "2023-09-15T08:09:18.099737Z",
     "start_time": "2023-09-15T08:09:18.084143Z"
    }
   },
   "outputs": [
    {
     "name": "stdout",
     "output_type": "stream",
     "text": [
      "--------상위-------- ---------하위--------\n"
     ]
    },
    {
     "data": {
      "text/html": [
       "<table style=\"display:inline\" border=\"1\" class=\"dataframe\">\n",
       "  <thead>\n",
       "    <tr style=\"text-align: right;\">\n",
       "      <th></th>\n",
       "      <th>coef</th>\n",
       "      <th>odds</th>\n",
       "    </tr>\n",
       "  </thead>\n",
       "  <tbody>\n",
       "    <tr>\n",
       "      <th>0</th>\n",
       "      <td>5.229586</td>\n",
       "      <td>186.715575</td>\n",
       "    </tr>\n",
       "    <tr>\n",
       "      <th>1</th>\n",
       "      <td>4.668544</td>\n",
       "      <td>106.542472</td>\n",
       "    </tr>\n",
       "    <tr>\n",
       "      <th>2</th>\n",
       "      <td>4.622766</td>\n",
       "      <td>101.775141</td>\n",
       "    </tr>\n",
       "    <tr>\n",
       "      <th>3</th>\n",
       "      <td>4.595277</td>\n",
       "      <td>99.015523</td>\n",
       "    </tr>\n",
       "    <tr>\n",
       "      <th>4</th>\n",
       "      <td>4.585333</td>\n",
       "      <td>98.035814</td>\n",
       "    </tr>\n",
       "    <tr>\n",
       "      <th>5</th>\n",
       "      <td>4.218113</td>\n",
       "      <td>67.905229</td>\n",
       "    </tr>\n",
       "    <tr>\n",
       "      <th>6</th>\n",
       "      <td>3.849872</td>\n",
       "      <td>46.987049</td>\n",
       "    </tr>\n",
       "    <tr>\n",
       "      <th>7</th>\n",
       "      <td>3.820693</td>\n",
       "      <td>45.635800</td>\n",
       "    </tr>\n",
       "    <tr>\n",
       "      <th>8</th>\n",
       "      <td>3.728983</td>\n",
       "      <td>41.636756</td>\n",
       "    </tr>\n",
       "    <tr>\n",
       "      <th>9</th>\n",
       "      <td>3.542582</td>\n",
       "      <td>34.556037</td>\n",
       "    </tr>\n",
       "  </tbody>\n",
       "</table style=\"display:inline\"><table style=\"display:inline\" border=\"1\" class=\"dataframe\">\n",
       "  <thead>\n",
       "    <tr style=\"text-align: right;\">\n",
       "      <th></th>\n",
       "      <th>coef</th>\n",
       "      <th>odds</th>\n",
       "    </tr>\n",
       "  </thead>\n",
       "  <tbody>\n",
       "    <tr>\n",
       "      <th>0</th>\n",
       "      <td>-5.492317</td>\n",
       "      <td>0.004118</td>\n",
       "    </tr>\n",
       "    <tr>\n",
       "      <th>1</th>\n",
       "      <td>-5.221042</td>\n",
       "      <td>0.005402</td>\n",
       "    </tr>\n",
       "    <tr>\n",
       "      <th>2</th>\n",
       "      <td>-5.113809</td>\n",
       "      <td>0.006013</td>\n",
       "    </tr>\n",
       "    <tr>\n",
       "      <th>3</th>\n",
       "      <td>-4.441362</td>\n",
       "      <td>0.011780</td>\n",
       "    </tr>\n",
       "    <tr>\n",
       "      <th>4</th>\n",
       "      <td>-4.219569</td>\n",
       "      <td>0.014705</td>\n",
       "    </tr>\n",
       "    <tr>\n",
       "      <th>5</th>\n",
       "      <td>-4.177334</td>\n",
       "      <td>0.015339</td>\n",
       "    </tr>\n",
       "    <tr>\n",
       "      <th>6</th>\n",
       "      <td>-4.138195</td>\n",
       "      <td>0.015952</td>\n",
       "    </tr>\n",
       "    <tr>\n",
       "      <th>7</th>\n",
       "      <td>-4.047855</td>\n",
       "      <td>0.017460</td>\n",
       "    </tr>\n",
       "    <tr>\n",
       "      <th>8</th>\n",
       "      <td>-4.012911</td>\n",
       "      <td>0.018081</td>\n",
       "    </tr>\n",
       "    <tr>\n",
       "      <th>9</th>\n",
       "      <td>-3.802273</td>\n",
       "      <td>0.022320</td>\n",
       "    </tr>\n",
       "  </tbody>\n",
       "</table style=\"display:inline\">"
      ]
     },
     "metadata": {},
     "output_type": "display_data"
    }
   ],
   "source": [
    "top10_pos_odds = df_keywords.iloc[:10]\n",
    "top10_neg_odds = df_keywords.iloc[-10:]\n",
    "\n",
    "print('--------상위--------', '---------하위--------')\n",
    "display_side_by_side(top10_pos_odds.sort_values(by='odds', ascending=False, ignore_index=True),\n",
    "                     top10_neg_odds.sort_values(by='odds', ascending=True,ignore_index=True))"
   ]
  },
  {
   "cell_type": "markdown",
   "id": "7ccf6fc3",
   "metadata": {},
   "source": [
    "## 말뭉치의 빈도수"
   ]
  },
  {
   "cell_type": "code",
   "execution_count": 28,
   "id": "6a02c3b7",
   "metadata": {
    "ExecuteTime": {
     "end_time": "2023-09-15T08:11:40.642248Z",
     "start_time": "2023-09-15T08:11:40.393695Z"
    }
   },
   "outputs": [
    {
     "data": {
      "text/html": [
       "<div>\n",
       "<style scoped>\n",
       "    .dataframe tbody tr th:only-of-type {\n",
       "        vertical-align: middle;\n",
       "    }\n",
       "\n",
       "    .dataframe tbody tr th {\n",
       "        vertical-align: top;\n",
       "    }\n",
       "\n",
       "    .dataframe thead th {\n",
       "        text-align: right;\n",
       "    }\n",
       "</style>\n",
       "<table border=\"1\" class=\"dataframe\">\n",
       "  <thead>\n",
       "    <tr style=\"text-align: right;\">\n",
       "      <th></th>\n",
       "      <th>count</th>\n",
       "    </tr>\n",
       "  </thead>\n",
       "  <tbody>\n",
       "    <tr>\n",
       "      <th>상세</th>\n",
       "      <td>68</td>\n",
       "    </tr>\n",
       "    <tr>\n",
       "      <th>설명</th>\n",
       "      <td>122</td>\n",
       "    </tr>\n",
       "    <tr>\n",
       "      <th>들어가지</th>\n",
       "      <td>1</td>\n",
       "    </tr>\n",
       "    <tr>\n",
       "      <th>않아도</th>\n",
       "      <td>22</td>\n",
       "    </tr>\n",
       "    <tr>\n",
       "      <th>검색</th>\n",
       "      <td>278</td>\n",
       "    </tr>\n",
       "  </tbody>\n",
       "</table>\n",
       "</div>"
      ],
      "text/plain": [
       "      count\n",
       "상세       68\n",
       "설명      122\n",
       "들어가지      1\n",
       "않아도      22\n",
       "검색      278"
      ]
     },
     "execution_count": 28,
     "metadata": {},
     "output_type": "execute_result"
    }
   ],
   "source": [
    "from collections import Counter\n",
    "\n",
    "counts_nouns_list = Counter(nouns_list)\n",
    "counts_nouns_df = pd.DataFrame.from_dict([counts_nouns_list]).T\n",
    "counts_nouns_df.columns = ['count']\n",
    "counts_nouns_df.head(5)"
   ]
  },
  {
   "cell_type": "code",
   "execution_count": 29,
   "id": "1f3cc255",
   "metadata": {
    "ExecuteTime": {
     "end_time": "2023-09-15T08:11:43.232159Z",
     "start_time": "2023-09-15T08:11:43.215215Z"
    }
   },
   "outputs": [
    {
     "data": {
      "text/html": [
       "<div>\n",
       "<style scoped>\n",
       "    .dataframe tbody tr th:only-of-type {\n",
       "        vertical-align: middle;\n",
       "    }\n",
       "\n",
       "    .dataframe tbody tr th {\n",
       "        vertical-align: top;\n",
       "    }\n",
       "\n",
       "    .dataframe thead th {\n",
       "        text-align: right;\n",
       "    }\n",
       "</style>\n",
       "<table border=\"1\" class=\"dataframe\">\n",
       "  <thead>\n",
       "    <tr style=\"text-align: right;\">\n",
       "      <th></th>\n",
       "      <th>count</th>\n",
       "    </tr>\n",
       "  </thead>\n",
       "  <tbody>\n",
       "    <tr>\n",
       "      <th>상세</th>\n",
       "      <td>68</td>\n",
       "    </tr>\n",
       "    <tr>\n",
       "      <th>설명</th>\n",
       "      <td>122</td>\n",
       "    </tr>\n",
       "    <tr>\n",
       "      <th>않아도</th>\n",
       "      <td>22</td>\n",
       "    </tr>\n",
       "    <tr>\n",
       "      <th>검색</th>\n",
       "      <td>278</td>\n",
       "    </tr>\n",
       "    <tr>\n",
       "      <th>결과</th>\n",
       "      <td>23</td>\n",
       "    </tr>\n",
       "  </tbody>\n",
       "</table>\n",
       "</div>"
      ],
      "text/plain": [
       "     count\n",
       "상세      68\n",
       "설명     122\n",
       "않아도     22\n",
       "검색     278\n",
       "결과      23"
      ]
     },
     "execution_count": 29,
     "metadata": {},
     "output_type": "execute_result"
    }
   ],
   "source": [
    "## 빈도수 10개 이하 버리기 (벡터화 시킬때 10 이상으로 뽑음!!!!!!)\n",
    "\n",
    "counts_nouns_df = counts_nouns_df[counts_nouns_df['count'] >= 10]\n",
    "counts_nouns_df.head(5)"
   ]
  },
  {
   "cell_type": "code",
   "execution_count": 31,
   "id": "42c5a9c4",
   "metadata": {
    "ExecuteTime": {
     "end_time": "2023-09-15T08:12:13.241879Z",
     "start_time": "2023-09-15T08:12:13.224925Z"
    }
   },
   "outputs": [
    {
     "name": "stdout",
     "output_type": "stream",
     "text": [
      "---상위--- ----하위-----\n"
     ]
    },
    {
     "data": {
      "text/html": [
       "<table style=\"display:inline\" border=\"1\" class=\"dataframe\">\n",
       "  <thead>\n",
       "    <tr style=\"text-align: right;\">\n",
       "      <th></th>\n",
       "      <th>count</th>\n",
       "    </tr>\n",
       "  </thead>\n",
       "  <tbody>\n",
       "    <tr>\n",
       "      <th>배송</th>\n",
       "      <td>3201</td>\n",
       "    </tr>\n",
       "    <tr>\n",
       "      <th>상품</th>\n",
       "      <td>1631</td>\n",
       "    </tr>\n",
       "    <tr>\n",
       "      <th>너무</th>\n",
       "      <td>1568</td>\n",
       "    </tr>\n",
       "    <tr>\n",
       "      <th>앱</th>\n",
       "      <td>1355</td>\n",
       "    </tr>\n",
       "    <tr>\n",
       "      <th>컬리</th>\n",
       "      <td>1270</td>\n",
       "    </tr>\n",
       "    <tr>\n",
       "      <th>주문</th>\n",
       "      <td>1148</td>\n",
       "    </tr>\n",
       "    <tr>\n",
       "      <th>사용</th>\n",
       "      <td>1141</td>\n",
       "    </tr>\n",
       "    <tr>\n",
       "      <th>제품</th>\n",
       "      <td>1071</td>\n",
       "    </tr>\n",
       "    <tr>\n",
       "      <th>잘</th>\n",
       "      <td>1047</td>\n",
       "    </tr>\n",
       "    <tr>\n",
       "      <th>마켓</th>\n",
       "      <td>869</td>\n",
       "    </tr>\n",
       "  </tbody>\n",
       "</table style=\"display:inline\"><table style=\"display:inline\" border=\"1\" class=\"dataframe\">\n",
       "  <thead>\n",
       "    <tr style=\"text-align: right;\">\n",
       "      <th></th>\n",
       "      <th>count</th>\n",
       "    </tr>\n",
       "  </thead>\n",
       "  <tbody>\n",
       "    <tr>\n",
       "      <th>조절</th>\n",
       "      <td>10</td>\n",
       "    </tr>\n",
       "    <tr>\n",
       "      <th>오아시스</th>\n",
       "      <td>10</td>\n",
       "    </tr>\n",
       "    <tr>\n",
       "      <th>입</th>\n",
       "      <td>10</td>\n",
       "    </tr>\n",
       "    <tr>\n",
       "      <th>동일한</th>\n",
       "      <td>10</td>\n",
       "    </tr>\n",
       "    <tr>\n",
       "      <th>파세요</th>\n",
       "      <td>10</td>\n",
       "    </tr>\n",
       "    <tr>\n",
       "      <th>깔았는데</th>\n",
       "      <td>10</td>\n",
       "    </tr>\n",
       "    <tr>\n",
       "      <th>정확</th>\n",
       "      <td>10</td>\n",
       "    </tr>\n",
       "    <tr>\n",
       "      <th>순간</th>\n",
       "      <td>10</td>\n",
       "    </tr>\n",
       "    <tr>\n",
       "      <th>보임</th>\n",
       "      <td>10</td>\n",
       "    </tr>\n",
       "    <tr>\n",
       "      <th>4시</th>\n",
       "      <td>10</td>\n",
       "    </tr>\n",
       "  </tbody>\n",
       "</table style=\"display:inline\">"
      ]
     },
     "metadata": {},
     "output_type": "display_data"
    }
   ],
   "source": [
    "print('---상위---', '----하위-----')\n",
    "display_side_by_side(counts_nouns_df.sort_values(by='count', ascending=False).head(10),\n",
    "                     counts_nouns_df.sort_values(by='count', ascending=True).head(10))"
   ]
  },
  {
   "cell_type": "markdown",
   "id": "1e8de7d0",
   "metadata": {},
   "source": [
    "## 오즈비 vs 빈도수 "
   ]
  },
  {
   "cell_type": "code",
   "execution_count": 34,
   "id": "f20a743c",
   "metadata": {
    "ExecuteTime": {
     "end_time": "2023-09-15T08:13:47.164113Z",
     "start_time": "2023-09-15T08:13:47.136165Z"
    }
   },
   "outputs": [
    {
     "name": "stdout",
     "output_type": "stream",
     "text": [
      "--------------긍정-------------- --------------부정--------------\n",
      "-------------------------------- --------------------------------\n"
     ]
    },
    {
     "data": {
      "text/html": [
       "<table style=\"display:inline\" border=\"1\" class=\"dataframe\">\n",
       "  <thead>\n",
       "    <tr style=\"text-align: right;\">\n",
       "      <th></th>\n",
       "      <th>coef</th>\n",
       "      <th>odds</th>\n",
       "    </tr>\n",
       "  </thead>\n",
       "  <tbody>\n",
       "    <tr>\n",
       "      <th>편하고</th>\n",
       "      <td>5.229586</td>\n",
       "      <td>186.715575</td>\n",
       "    </tr>\n",
       "    <tr>\n",
       "      <th>좋은</th>\n",
       "      <td>4.668544</td>\n",
       "      <td>106.542472</td>\n",
       "    </tr>\n",
       "    <tr>\n",
       "      <th>최고</th>\n",
       "      <td>4.622766</td>\n",
       "      <td>101.775141</td>\n",
       "    </tr>\n",
       "    <tr>\n",
       "      <th>편해요</th>\n",
       "      <td>4.595277</td>\n",
       "      <td>99.015523</td>\n",
       "    </tr>\n",
       "    <tr>\n",
       "      <th>만족합니다</th>\n",
       "      <td>4.585333</td>\n",
       "      <td>98.035814</td>\n",
       "    </tr>\n",
       "    <tr>\n",
       "      <th>좋습니다</th>\n",
       "      <td>4.218113</td>\n",
       "      <td>67.905229</td>\n",
       "    </tr>\n",
       "    <tr>\n",
       "      <th>아주</th>\n",
       "      <td>3.849872</td>\n",
       "      <td>46.987049</td>\n",
       "    </tr>\n",
       "    <tr>\n",
       "      <th>신선하고</th>\n",
       "      <td>3.820693</td>\n",
       "      <td>45.635800</td>\n",
       "    </tr>\n",
       "    <tr>\n",
       "      <th>있어</th>\n",
       "      <td>3.728983</td>\n",
       "      <td>41.636756</td>\n",
       "    </tr>\n",
       "    <tr>\n",
       "      <th>감사합니다</th>\n",
       "      <td>3.542582</td>\n",
       "      <td>34.556037</td>\n",
       "    </tr>\n",
       "  </tbody>\n",
       "</table style=\"display:inline\"><table style=\"display:inline\" border=\"1\" class=\"dataframe\">\n",
       "  <thead>\n",
       "    <tr style=\"text-align: right;\">\n",
       "      <th></th>\n",
       "      <th>count</th>\n",
       "    </tr>\n",
       "  </thead>\n",
       "  <tbody>\n",
       "    <tr>\n",
       "      <th>배송</th>\n",
       "      <td>3201</td>\n",
       "    </tr>\n",
       "    <tr>\n",
       "      <th>상품</th>\n",
       "      <td>1631</td>\n",
       "    </tr>\n",
       "    <tr>\n",
       "      <th>너무</th>\n",
       "      <td>1568</td>\n",
       "    </tr>\n",
       "    <tr>\n",
       "      <th>앱</th>\n",
       "      <td>1355</td>\n",
       "    </tr>\n",
       "    <tr>\n",
       "      <th>컬리</th>\n",
       "      <td>1270</td>\n",
       "    </tr>\n",
       "    <tr>\n",
       "      <th>주문</th>\n",
       "      <td>1148</td>\n",
       "    </tr>\n",
       "    <tr>\n",
       "      <th>사용</th>\n",
       "      <td>1141</td>\n",
       "    </tr>\n",
       "    <tr>\n",
       "      <th>제품</th>\n",
       "      <td>1071</td>\n",
       "    </tr>\n",
       "    <tr>\n",
       "      <th>잘</th>\n",
       "      <td>1047</td>\n",
       "    </tr>\n",
       "    <tr>\n",
       "      <th>마켓</th>\n",
       "      <td>869</td>\n",
       "    </tr>\n",
       "  </tbody>\n",
       "</table style=\"display:inline\"><table style=\"display:inline\" border=\"1\" class=\"dataframe\">\n",
       "  <thead>\n",
       "    <tr style=\"text-align: right;\">\n",
       "      <th></th>\n",
       "      <th>coef</th>\n",
       "      <th>odds</th>\n",
       "    </tr>\n",
       "  </thead>\n",
       "  <tbody>\n",
       "    <tr>\n",
       "      <th>광고</th>\n",
       "      <td>-5.492317</td>\n",
       "      <td>0.004118</td>\n",
       "    </tr>\n",
       "    <tr>\n",
       "      <th>업데이트</th>\n",
       "      <td>-5.221042</td>\n",
       "      <td>0.005402</td>\n",
       "    </tr>\n",
       "    <tr>\n",
       "      <th>문의</th>\n",
       "      <td>-5.113809</td>\n",
       "      <td>0.006013</td>\n",
       "    </tr>\n",
       "    <tr>\n",
       "      <th>최악</th>\n",
       "      <td>-4.441362</td>\n",
       "      <td>0.011780</td>\n",
       "    </tr>\n",
       "    <tr>\n",
       "      <th>짜증</th>\n",
       "      <td>-4.219569</td>\n",
       "      <td>0.014705</td>\n",
       "    </tr>\n",
       "    <tr>\n",
       "      <th>그냥</th>\n",
       "      <td>-4.177334</td>\n",
       "      <td>0.015339</td>\n",
       "    </tr>\n",
       "    <tr>\n",
       "      <th>가입</th>\n",
       "      <td>-4.138195</td>\n",
       "      <td>0.015952</td>\n",
       "    </tr>\n",
       "    <tr>\n",
       "      <th>100원</th>\n",
       "      <td>-4.047855</td>\n",
       "      <td>0.017460</td>\n",
       "    </tr>\n",
       "    <tr>\n",
       "      <th>안됨</th>\n",
       "      <td>-4.012911</td>\n",
       "      <td>0.018081</td>\n",
       "    </tr>\n",
       "    <tr>\n",
       "      <th>오류</th>\n",
       "      <td>-3.802273</td>\n",
       "      <td>0.022320</td>\n",
       "    </tr>\n",
       "  </tbody>\n",
       "</table style=\"display:inline\"><table style=\"display:inline\" border=\"1\" class=\"dataframe\">\n",
       "  <thead>\n",
       "    <tr style=\"text-align: right;\">\n",
       "      <th></th>\n",
       "      <th>count</th>\n",
       "    </tr>\n",
       "  </thead>\n",
       "  <tbody>\n",
       "    <tr>\n",
       "      <th>조절</th>\n",
       "      <td>10</td>\n",
       "    </tr>\n",
       "    <tr>\n",
       "      <th>오아시스</th>\n",
       "      <td>10</td>\n",
       "    </tr>\n",
       "    <tr>\n",
       "      <th>입</th>\n",
       "      <td>10</td>\n",
       "    </tr>\n",
       "    <tr>\n",
       "      <th>동일한</th>\n",
       "      <td>10</td>\n",
       "    </tr>\n",
       "    <tr>\n",
       "      <th>파세요</th>\n",
       "      <td>10</td>\n",
       "    </tr>\n",
       "    <tr>\n",
       "      <th>깔았는데</th>\n",
       "      <td>10</td>\n",
       "    </tr>\n",
       "    <tr>\n",
       "      <th>정확</th>\n",
       "      <td>10</td>\n",
       "    </tr>\n",
       "    <tr>\n",
       "      <th>순간</th>\n",
       "      <td>10</td>\n",
       "    </tr>\n",
       "    <tr>\n",
       "      <th>보임</th>\n",
       "      <td>10</td>\n",
       "    </tr>\n",
       "    <tr>\n",
       "      <th>4시</th>\n",
       "      <td>10</td>\n",
       "    </tr>\n",
       "  </tbody>\n",
       "</table style=\"display:inline\">"
      ]
     },
     "metadata": {},
     "output_type": "display_data"
    }
   ],
   "source": [
    "print('--------------긍정--------------', '--------------부정--------------')\n",
    "print('--------------------------------', '--------------------------------')\n",
    "\n",
    "display_side_by_side(top10_pos_odds.sort_values(by='odds', ascending=False),\n",
    "                     counts_nouns_df.sort_values(by='count', ascending=False).head(10),\n",
    "                     top10_neg_odds.sort_values(by='odds', ascending=True),\n",
    "                    counts_nouns_df.sort_values(by='count', ascending=True).head(10))"
   ]
  },
  {
   "cell_type": "markdown",
   "id": "9efb2f13",
   "metadata": {},
   "source": [
    "- 빈도수가 긍정이냐 부정이냐를 판단할 수는 없다\n",
    "```\n",
    "긍정에 '배송'이 많으면 긍정으로 학습될 것이고\n",
    "부정에 '배송'이 많으면 부정으로 학습되는 것이지 \n",
    "\"빈도수가 많으면 긍정! 빈도수가 적으면 부정!\"이 아니다.\n",
    "```\n",
    "- 빈도수가 많으면 학습에 도움이 되는 것 뿐!"
   ]
  },
  {
   "cell_type": "code",
   "execution_count": 36,
   "id": "bccb059d",
   "metadata": {
    "ExecuteTime": {
     "end_time": "2023-09-15T08:25:32.506230Z",
     "start_time": "2023-09-15T08:25:32.476311Z"
    }
   },
   "outputs": [
    {
     "name": "stdout",
     "output_type": "stream",
     "text": [
      "--------------긍정-------------- --------------부정--------------\n",
      "-------------------------------- --------------------------------\n"
     ]
    },
    {
     "data": {
      "text/html": [
       "<table style=\"display:inline\" border=\"1\" class=\"dataframe\">\n",
       "  <thead>\n",
       "    <tr style=\"text-align: right;\">\n",
       "      <th></th>\n",
       "      <th>coef</th>\n",
       "      <th>odds</th>\n",
       "    </tr>\n",
       "  </thead>\n",
       "  <tbody>\n",
       "    <tr>\n",
       "      <th>편하고</th>\n",
       "      <td>5.229586</td>\n",
       "      <td>186.715575</td>\n",
       "    </tr>\n",
       "    <tr>\n",
       "      <th>좋은</th>\n",
       "      <td>4.668544</td>\n",
       "      <td>106.542472</td>\n",
       "    </tr>\n",
       "    <tr>\n",
       "      <th>최고</th>\n",
       "      <td>4.622766</td>\n",
       "      <td>101.775141</td>\n",
       "    </tr>\n",
       "    <tr>\n",
       "      <th>편해요</th>\n",
       "      <td>4.595277</td>\n",
       "      <td>99.015523</td>\n",
       "    </tr>\n",
       "    <tr>\n",
       "      <th>만족합니다</th>\n",
       "      <td>4.585333</td>\n",
       "      <td>98.035814</td>\n",
       "    </tr>\n",
       "    <tr>\n",
       "      <th>좋습니다</th>\n",
       "      <td>4.218113</td>\n",
       "      <td>67.905229</td>\n",
       "    </tr>\n",
       "    <tr>\n",
       "      <th>아주</th>\n",
       "      <td>3.849872</td>\n",
       "      <td>46.987049</td>\n",
       "    </tr>\n",
       "    <tr>\n",
       "      <th>신선하고</th>\n",
       "      <td>3.820693</td>\n",
       "      <td>45.635800</td>\n",
       "    </tr>\n",
       "    <tr>\n",
       "      <th>있어</th>\n",
       "      <td>3.728983</td>\n",
       "      <td>41.636756</td>\n",
       "    </tr>\n",
       "    <tr>\n",
       "      <th>감사합니다</th>\n",
       "      <td>3.542582</td>\n",
       "      <td>34.556037</td>\n",
       "    </tr>\n",
       "  </tbody>\n",
       "</table style=\"display:inline\"><table style=\"display:inline\" border=\"1\" class=\"dataframe\">\n",
       "  <thead>\n",
       "    <tr style=\"text-align: right;\">\n",
       "      <th></th>\n",
       "      <th>coef</th>\n",
       "      <th>odds</th>\n",
       "    </tr>\n",
       "  </thead>\n",
       "  <tbody>\n",
       "    <tr>\n",
       "      <th>광고</th>\n",
       "      <td>-5.492317</td>\n",
       "      <td>0.004118</td>\n",
       "    </tr>\n",
       "    <tr>\n",
       "      <th>업데이트</th>\n",
       "      <td>-5.221042</td>\n",
       "      <td>0.005402</td>\n",
       "    </tr>\n",
       "    <tr>\n",
       "      <th>문의</th>\n",
       "      <td>-5.113809</td>\n",
       "      <td>0.006013</td>\n",
       "    </tr>\n",
       "    <tr>\n",
       "      <th>최악</th>\n",
       "      <td>-4.441362</td>\n",
       "      <td>0.011780</td>\n",
       "    </tr>\n",
       "    <tr>\n",
       "      <th>짜증</th>\n",
       "      <td>-4.219569</td>\n",
       "      <td>0.014705</td>\n",
       "    </tr>\n",
       "    <tr>\n",
       "      <th>그냥</th>\n",
       "      <td>-4.177334</td>\n",
       "      <td>0.015339</td>\n",
       "    </tr>\n",
       "    <tr>\n",
       "      <th>가입</th>\n",
       "      <td>-4.138195</td>\n",
       "      <td>0.015952</td>\n",
       "    </tr>\n",
       "    <tr>\n",
       "      <th>100원</th>\n",
       "      <td>-4.047855</td>\n",
       "      <td>0.017460</td>\n",
       "    </tr>\n",
       "    <tr>\n",
       "      <th>안됨</th>\n",
       "      <td>-4.012911</td>\n",
       "      <td>0.018081</td>\n",
       "    </tr>\n",
       "    <tr>\n",
       "      <th>오류</th>\n",
       "      <td>-3.802273</td>\n",
       "      <td>0.022320</td>\n",
       "    </tr>\n",
       "  </tbody>\n",
       "</table style=\"display:inline\"><table style=\"display:inline\" border=\"1\" class=\"dataframe\">\n",
       "  <thead>\n",
       "    <tr style=\"text-align: right;\">\n",
       "      <th></th>\n",
       "      <th>count</th>\n",
       "    </tr>\n",
       "  </thead>\n",
       "  <tbody>\n",
       "    <tr>\n",
       "      <th>배송</th>\n",
       "      <td>3201</td>\n",
       "    </tr>\n",
       "    <tr>\n",
       "      <th>상품</th>\n",
       "      <td>1631</td>\n",
       "    </tr>\n",
       "    <tr>\n",
       "      <th>너무</th>\n",
       "      <td>1568</td>\n",
       "    </tr>\n",
       "    <tr>\n",
       "      <th>앱</th>\n",
       "      <td>1355</td>\n",
       "    </tr>\n",
       "    <tr>\n",
       "      <th>컬리</th>\n",
       "      <td>1270</td>\n",
       "    </tr>\n",
       "    <tr>\n",
       "      <th>주문</th>\n",
       "      <td>1148</td>\n",
       "    </tr>\n",
       "    <tr>\n",
       "      <th>사용</th>\n",
       "      <td>1141</td>\n",
       "    </tr>\n",
       "    <tr>\n",
       "      <th>제품</th>\n",
       "      <td>1071</td>\n",
       "    </tr>\n",
       "    <tr>\n",
       "      <th>잘</th>\n",
       "      <td>1047</td>\n",
       "    </tr>\n",
       "    <tr>\n",
       "      <th>마켓</th>\n",
       "      <td>869</td>\n",
       "    </tr>\n",
       "    <tr>\n",
       "      <th>이용</th>\n",
       "      <td>782</td>\n",
       "    </tr>\n",
       "    <tr>\n",
       "      <th>쿠폰</th>\n",
       "      <td>730</td>\n",
       "    </tr>\n",
       "    <tr>\n",
       "      <th>좋은</th>\n",
       "      <td>696</td>\n",
       "    </tr>\n",
       "    <tr>\n",
       "      <th>구매</th>\n",
       "      <td>683</td>\n",
       "    </tr>\n",
       "    <tr>\n",
       "      <th>새벽</th>\n",
       "      <td>654</td>\n",
       "    </tr>\n",
       "    <tr>\n",
       "      <th>장바구니</th>\n",
       "      <td>623</td>\n",
       "    </tr>\n",
       "    <tr>\n",
       "      <th>포장</th>\n",
       "      <td>590</td>\n",
       "    </tr>\n",
       "    <tr>\n",
       "      <th>더</th>\n",
       "      <td>579</td>\n",
       "    </tr>\n",
       "    <tr>\n",
       "      <th>게</th>\n",
       "      <td>555</td>\n",
       "    </tr>\n",
       "    <tr>\n",
       "      <th>하는</th>\n",
       "      <td>544</td>\n",
       "    </tr>\n",
       "  </tbody>\n",
       "</table style=\"display:inline\">"
      ]
     },
     "metadata": {},
     "output_type": "display_data"
    }
   ],
   "source": [
    "print('--------------긍정--------------', '--------------부정--------------')\n",
    "print('--------------------------------', '--------------------------------')\n",
    "\n",
    "display_side_by_side(top10_pos_odds.sort_values(by='odds', ascending=False),\n",
    "                     top10_neg_odds.sort_values(by='odds', ascending=True),\n",
    "                     counts_nouns_df.sort_values(by='count', ascending=False).head(20))\n"
   ]
  },
  {
   "cell_type": "code",
   "execution_count": null,
   "id": "af2e0bce",
   "metadata": {},
   "outputs": [],
   "source": []
  }
 ],
 "metadata": {
  "kernelspec": {
   "display_name": "ds_study",
   "language": "python",
   "name": "ds_study"
  },
  "language_info": {
   "codemirror_mode": {
    "name": "ipython",
    "version": 3
   },
   "file_extension": ".py",
   "mimetype": "text/x-python",
   "name": "python",
   "nbconvert_exporter": "python",
   "pygments_lexer": "ipython3",
   "version": "3.8.16"
  }
 },
 "nbformat": 4,
 "nbformat_minor": 5
}
