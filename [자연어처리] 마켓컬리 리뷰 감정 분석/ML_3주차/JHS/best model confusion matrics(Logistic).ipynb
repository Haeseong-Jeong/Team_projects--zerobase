{
 "cells": [
  {
   "cell_type": "code",
   "execution_count": 1,
   "id": "fa203154",
   "metadata": {
    "ExecuteTime": {
     "end_time": "2023-09-20T07:11:24.782925Z",
     "start_time": "2023-09-20T07:11:20.228639Z"
    }
   },
   "outputs": [],
   "source": [
    "# Basics\n",
    "import numpy as np\n",
    "import pandas as pd\n",
    "import matplotlib.pyplot as plt\n",
    "import seaborn as sns\n",
    "\n",
    "# NLP\n",
    "import nltk\n",
    "from soynlp.normalizer import *\n",
    "from hanspell import spell_checker\n",
    "from konlpy.tag import Okt\n",
    "\n",
    "# ML\n",
    "from sklearn.feature_extraction.text import TfidfVectorizer, CountVectorizer\n",
    "from sklearn.model_selection import train_test_split\n",
    "from sklearn.model_selection import GridSearchCV\n",
    "from sklearn.model_selection import KFold, StratifiedKFold\n",
    "from sklearn.metrics import roc_auc_score, accuracy_score, f1_score"
   ]
  },
  {
   "cell_type": "code",
   "execution_count": 2,
   "id": "32f90862",
   "metadata": {
    "ExecuteTime": {
     "end_time": "2023-09-20T07:11:28.901879Z",
     "start_time": "2023-09-20T07:11:28.766980Z"
    }
   },
   "outputs": [
    {
     "data": {
      "text/html": [
       "<div>\n",
       "<style scoped>\n",
       "    .dataframe tbody tr th:only-of-type {\n",
       "        vertical-align: middle;\n",
       "    }\n",
       "\n",
       "    .dataframe tbody tr th {\n",
       "        vertical-align: top;\n",
       "    }\n",
       "\n",
       "    .dataframe thead th {\n",
       "        text-align: right;\n",
       "    }\n",
       "</style>\n",
       "<table border=\"1\" class=\"dataframe\">\n",
       "  <thead>\n",
       "    <tr style=\"text-align: right;\">\n",
       "      <th></th>\n",
       "      <th>date</th>\n",
       "      <th>review</th>\n",
       "      <th>tokenized_review</th>\n",
       "      <th>tokenized_removed_review</th>\n",
       "      <th>reviews_for_vectorize</th>\n",
       "      <th>noun_tokenized_review</th>\n",
       "      <th>noun_tokenized_removed_review</th>\n",
       "      <th>noun_reviews_for_vectorize</th>\n",
       "      <th>rating</th>\n",
       "      <th>label</th>\n",
       "    </tr>\n",
       "  </thead>\n",
       "  <tbody>\n",
       "    <tr>\n",
       "      <th>0</th>\n",
       "      <td>2023-09-10</td>\n",
       "      <td>상세 설명에 들어가지 않아도 검색 결과에서 중량과 가격이 바로 확인되면 더 편리하겠습니다</td>\n",
       "      <td>['상세', '설명', '에', '들어가지', '않아도', '검색', '결과', '...</td>\n",
       "      <td>['상세', '설명', '들어가지', '않아도', '검색', '결과', '중량', ...</td>\n",
       "      <td>상세 설명 들어가지 않아도 검색 결과 중량 가격 확인 되면 더 편리하겠습니다</td>\n",
       "      <td>['상세', '설명', '검색', '결과', '중량', '가격', '바로', '확인...</td>\n",
       "      <td>['상세', '설명', '검색', '결과', '중량', '가격', '확인', '더']</td>\n",
       "      <td>상세 설명 검색 결과 중량 가격 확인 더</td>\n",
       "      <td>5</td>\n",
       "      <td>1.0</td>\n",
       "    </tr>\n",
       "  </tbody>\n",
       "</table>\n",
       "</div>"
      ],
      "text/plain": [
       "         date                                             review  \\\n",
       "0  2023-09-10  상세 설명에 들어가지 않아도 검색 결과에서 중량과 가격이 바로 확인되면 더 편리하겠습니다   \n",
       "\n",
       "                                    tokenized_review  \\\n",
       "0  ['상세', '설명', '에', '들어가지', '않아도', '검색', '결과', '...   \n",
       "\n",
       "                            tokenized_removed_review  \\\n",
       "0  ['상세', '설명', '들어가지', '않아도', '검색', '결과', '중량', ...   \n",
       "\n",
       "                         reviews_for_vectorize  \\\n",
       "0   상세 설명 들어가지 않아도 검색 결과 중량 가격 확인 되면 더 편리하겠습니다   \n",
       "\n",
       "                               noun_tokenized_review  \\\n",
       "0  ['상세', '설명', '검색', '결과', '중량', '가격', '바로', '확인...   \n",
       "\n",
       "                     noun_tokenized_removed_review noun_reviews_for_vectorize  \\\n",
       "0  ['상세', '설명', '검색', '결과', '중량', '가격', '확인', '더']     상세 설명 검색 결과 중량 가격 확인 더   \n",
       "\n",
       "   rating  label  \n",
       "0       5    1.0  "
      ]
     },
     "execution_count": 2,
     "metadata": {},
     "output_type": "execute_result"
    }
   ],
   "source": [
    "# 파일 불러오기\n",
    "\n",
    "review_df = pd.read_csv('./MK_review_proceed_data.csv', encoding='utf-8', index_col=0) # df_review는 전체년도 리뷰 크롤링 파일\n",
    "review_df.head(1)"
   ]
  },
  {
   "cell_type": "code",
   "execution_count": 4,
   "id": "9d737a34",
   "metadata": {
    "ExecuteTime": {
     "end_time": "2023-09-20T07:11:41.465222Z",
     "start_time": "2023-09-20T07:11:32.830836Z"
    }
   },
   "outputs": [
    {
     "name": "stdout",
     "output_type": "stream",
     "text": [
      "Fitting 5 folds for each of 1 candidates, totalling 5 fits\n",
      "finish\n"
     ]
    },
    {
     "data": {
      "image/png": "[encoded data removed]",
      "text/plain": [
       "<Figure size 2000x1000 with 1 Axes>"
      ]
     },
     "metadata": {},
     "output_type": "display_data"
    }
   ],
   "source": [
    "##### model\n",
    "import lightgbm as lgbm\n",
    "from sklearn.linear_model import LogisticRegression\n",
    "\n",
    "y_train_F = []\n",
    "y_test_T = []\n",
    "y_test_F = []\n",
    "\n",
    "##### sampling\n",
    "from imblearn.over_sampling import SMOTE\n",
    "\n",
    "##### pipeline\n",
    "from imblearn.pipeline import Pipeline\n",
    "\n",
    "\n",
    "##### confusion_matrix\n",
    "from sklearn.metrics import confusion_matrix\n",
    "\n",
    "##### dataset\n",
    "X = review_df['reviews_for_vectorize']; y = review_df['label']\n",
    "\n",
    "\n",
    "##### split train and test data \n",
    "X_train, X_test, y_train, y_test = train_test_split(X, y, test_size=0.2, random_state=13, stratify=y)\n",
    "\n",
    "\n",
    "##### cross-validation\n",
    "skfold = StratifiedKFold(n_splits=5)\n",
    "\n",
    "\n",
    "##### pipeline model\n",
    "pipe_Smote_Logistic = Pipeline([\n",
    "                ('vec', TfidfVectorizer(decode_error='ignore')),\n",
    "                ('sampling', SMOTE(random_state=12)),\n",
    "                ('fit', LogisticRegression(solver='saga'))])\n",
    "\n",
    "\n",
    "##### set grid params\n",
    "grid_params_Smote_Logistic = [{\n",
    "    \"sampling__sampling_strategy\" : [0.3],\n",
    "    \"sampling__k_neighbors\" : [3],\n",
    "    \"vec__min_df\" : [1],\n",
    "    \"fit__C\": [5],\n",
    "    \"fit__solver\" : [\"saga\"],\n",
    "    \"fit__penalty\" : [\"l2\"],\n",
    "    \"fit__max_iter\": [1000]\n",
    "}]\n",
    "\n",
    "\n",
    "##### fit\n",
    "pipe = [pipe_Smote_Logistic ]\n",
    "params = [grid_params_Smote_Logistic]\n",
    "\n",
    "jobs = 20\n",
    "\n",
    "grid_dict = {\n",
    "    0: 'Smote_Logistic',\n",
    "            }\n",
    "\n",
    "model_object = {}; model_acc = {}; model_roc_auc = {}; model_f1 = {}; model_best_params = {}\n",
    "\n",
    "#1. scoring = 'neg_mean_absolute_error' 로 설정.\n",
    "# 일반적으로 scoring을 값이 클 수록 모델 성능이 좋은 것으로 사이킷런에서 인식하는데, \n",
    "# mae는 값이 클 수록 모델 성능이 저하되는 것이므로 Negative 키워드를 붙여서 사용\n",
    "\n",
    "for idx , (param , model) in enumerate(zip(params , pipe)) :\n",
    "    search = GridSearchCV(model, param, scoring  = \"f1\", cv=skfold,\n",
    "                           n_jobs=jobs , verbose=True ) #  verbose가 있으면 함수 수행시 발생하는 상세한 정보 출력\n",
    "    search.fit(X_train , y_train)\n",
    "    \n",
    "    y_pred_train = search.predict(X_train)\n",
    "    y_pred_test = search.predict(X_test)\n",
    "       \n",
    "    model_object[grid_dict.get(idx)] = search\n",
    "    model_acc[grid_dict.get(idx)] = accuracy_score(y_test, y_pred_test)  \n",
    "    model_roc_auc[grid_dict.get(idx)] = roc_auc_score(y_test, y_pred_test)\n",
    "    model_f1[grid_dict.get(idx)] = f1_score(y_test, y_pred_test)\n",
    "\n",
    "    model_confM_train = confusion_matrix(y_train, y_pred_train) # (X_test -> y_pred)\n",
    "    model_confM_test = confusion_matrix(y_test, y_pred_test) # (X_test -> y_pred)\n",
    "\n",
    "    model_best_params[grid_dict.get(idx)] = search.best_params_\n",
    "    \n",
    "print(\"finish\")\n",
    "\n",
    "fig ,ax = plt.subplots(figsize=(20, 10))\n",
    "sns.set(font_scale = 2)\n",
    "output = pd.DataFrame([model_f1.keys() , model_f1.values()], index = [\"algo\",\"f1\"]).T # .T : 행 렬 변환\n",
    "output.sort_values([\"f1\"], ascending= False ,inplace=True)\n",
    "ax = sns.barplot(y=\"algo\", x=\"f1\", data=output)\n",
    "plt.show()"
   ]
  },
  {
   "cell_type": "code",
   "execution_count": 22,
   "id": "24b841ca",
   "metadata": {
    "ExecuteTime": {
     "end_time": "2023-09-19T18:19:27.832878Z",
     "start_time": "2023-09-19T18:19:27.820950Z"
    }
   },
   "outputs": [
    {
     "data": {
      "text/plain": [
       "{'Smote_Logistic': 0.928476821192053}"
      ]
     },
     "execution_count": 22,
     "metadata": {},
     "output_type": "execute_result"
    }
   ],
   "source": [
    "model_acc"
   ]
  },
  {
   "cell_type": "code",
   "execution_count": 23,
   "id": "ff78ab50",
   "metadata": {
    "ExecuteTime": {
     "end_time": "2023-09-19T18:19:28.442221Z",
     "start_time": "2023-09-19T18:19:28.421242Z"
    }
   },
   "outputs": [
    {
     "data": {
      "text/plain": [
       "{'Smote_Logistic': 0.9561451001624255}"
      ]
     },
     "execution_count": 23,
     "metadata": {},
     "output_type": "execute_result"
    }
   ],
   "source": [
    "model_f1"
   ]
  },
  {
   "cell_type": "code",
   "execution_count": 24,
   "id": "9989debf",
   "metadata": {
    "ExecuteTime": {
     "end_time": "2023-09-19T18:19:29.050213Z",
     "start_time": "2023-09-19T18:19:29.036683Z"
    }
   },
   "outputs": [
    {
     "data": {
      "text/plain": [
       "{'Smote_Logistic': 0.8638165205580937}"
      ]
     },
     "execution_count": 24,
     "metadata": {},
     "output_type": "execute_result"
    }
   ],
   "source": [
    "model_roc_auc"
   ]
  },
  {
   "cell_type": "markdown",
   "id": "cc1a0625",
   "metadata": {},
   "source": [
    "## 혼동행렬 train 데이터 기준"
   ]
  },
  {
   "cell_type": "code",
   "execution_count": 44,
   "id": "fbb5724c",
   "metadata": {
    "ExecuteTime": {
     "end_time": "2023-09-19T18:36:31.728608Z",
     "start_time": "2023-09-19T18:36:31.717662Z"
    }
   },
   "outputs": [
    {
     "data": {
      "text/plain": [
       "array([[1645,  133],\n",
       "       [  92, 7186]], dtype=int64)"
      ]
     },
     "execution_count": 44,
     "metadata": {},
     "output_type": "execute_result"
    }
   ],
   "source": [
    "cm_train = model_confM_train\n",
    "cm_train"
   ]
  },
  {
   "cell_type": "code",
   "execution_count": 51,
   "id": "ca5082ac",
   "metadata": {
    "ExecuteTime": {
     "end_time": "2023-09-19T18:45:25.718093Z",
     "start_time": "2023-09-19T18:45:25.702141Z"
    }
   },
   "outputs": [
    {
     "name": "stdout",
     "output_type": "stream",
     "text": [
      "Train Data Accuracy :   0.98\n",
      "Train Data precision :  0.93   (부정 : 0.99 )\n",
      "Train Data recall :     0.95   (부정 : 0.98 )\n",
      "Train Data f1-score :   0.94   (부정 : 0.98 )\n"
     ]
    }
   ],
   "source": [
    "cm_train_acc = (cm_train[0][0] + cm_train[1][1]) / (cm_train[0][0] + cm_train[1][0] + cm_train[0][1] + cm_train[1][1]) #정확도\n",
    "\n",
    "cm_train_prec_T = (cm_train[0][0]) / (cm_train[0][0] + cm_train[0][1]) #정밀도\n",
    "cm_train_prec_F = (cm_train[1][1]) / (cm_train[1][1] + cm_train[1][0]) #정밀도\n",
    "\n",
    "cm_train_recall_T = (cm_train[0][0]) / (cm_train[0][0] + cm_train[1][0]) #재현율\n",
    "cm_train_recall_F = (cm_train[1][1]) / (cm_train[1][1] + cm_train[0][1]) #재현율\n",
    "\n",
    "cm_train_f1_T = 2*((cm_train_prec_T*cm_train_recall_T)/(cm_train_prec_T+cm_train_recall_T))\n",
    "cm_train_f1_F = 2*((cm_train_prec_F*cm_train_recall_F)/(cm_train_prec_F+cm_train_recall_F))\n",
    "\n",
    "print(\"Train Data Accuracy :  \", round(cm_train_acc,2))\n",
    "print(\"Train Data precision : \", round(cm_train_prec_T,2),'  (부정 :', round(cm_train_prec_F,2), ')')\n",
    "print(\"Train Data recall :    \", round(cm_train_recall_T,2), '  (부정 :',round(cm_train_recall_F,2), ')')\n",
    "print(\"Train Data f1-score :  \", round(cm_train_f1_T,2), '  (부정 :',round(cm_train_f1_F,2), ')')"
   ]
  },
  {
   "cell_type": "markdown",
   "id": "ff3b7987",
   "metadata": {
    "ExecuteTime": {
     "end_time": "2023-09-19T18:27:16.412741Z",
     "start_time": "2023-09-19T18:27:16.405788Z"
    }
   },
   "source": [
    "## 혼동행렬 test 데이터 기준"
   ]
  },
  {
   "cell_type": "code",
   "execution_count": 5,
   "id": "e6193c17",
   "metadata": {
    "ExecuteTime": {
     "end_time": "2023-09-20T07:11:50.157416Z",
     "start_time": "2023-09-20T07:11:50.143451Z"
    }
   },
   "outputs": [
    {
     "data": {
      "text/plain": [
       "array([[ 337,  108],\n",
       "       [  54, 1766]], dtype=int64)"
      ]
     },
     "execution_count": 5,
     "metadata": {},
     "output_type": "execute_result"
    }
   ],
   "source": [
    "cm_test = model_confM_test\n",
    "cm_test"
   ]
  },
  {
   "cell_type": "code",
   "execution_count": 53,
   "id": "9f9ccc03",
   "metadata": {
    "ExecuteTime": {
     "end_time": "2023-09-19T18:45:27.488714Z",
     "start_time": "2023-09-19T18:45:27.469076Z"
    }
   },
   "outputs": [
    {
     "name": "stdout",
     "output_type": "stream",
     "text": [
      "Train Data Accuracy :   0.93\n",
      "Train Data precision :  0.76   (부정 : 0.97 )\n",
      "Train Data recall :     0.86   (부정 : 0.94 )\n",
      "Train Data f1-score :   0.81   (부정 : 0.96 )\n"
     ]
    }
   ],
   "source": [
    "cm_test_acc = (cm_test[0][0] + cm_test[1][1]) / (cm_test[0][0] + cm_test[1][0] + cm_test[0][1] + cm_test[1][1]) #정확도\n",
    "\n",
    "cm_test_prec_T = (cm_test[0][0]) / (cm_test[0][0] + cm_test[0][1]) #정밀도\n",
    "cm_test_prec_F = (cm_test[1][1]) / (cm_test[1][1] + cm_test[1][0]) #정밀도\n",
    "\n",
    "cm_test_recall_T = (cm_test[0][0]) / (cm_test[0][0] + cm_test[1][0]) #재현율\n",
    "cm_test_recall_F = (cm_test[1][1]) / (cm_test[1][1] + cm_test[0][1]) #재현율\n",
    "\n",
    "cm_test_f1_T = 2*((cm_test_prec_T*cm_test_recall_T)/(cm_test_prec_T+cm_test_recall_T))\n",
    "cm_test_f1_F = 2*((cm_test_prec_F*cm_test_recall_F)/(cm_test_prec_F+cm_test_recall_F))\n",
    "\n",
    "print(\"Train Data Accuracy :  \", round(cm_test_acc,2))\n",
    "print(\"Train Data precision : \", round(cm_test_prec_T,2),'  (부정 :', round(cm_test_prec_F,2), ')')\n",
    "print(\"Train Data recall :    \", round(cm_test_recall_T,2), '  (부정 :',round(cm_test_recall_F,2), ')')\n",
    "print(\"Train Data f1-score :  \", round(cm_test_f1_T,2), '  (부정 :',round(cm_test_f1_F,2), ')')"
   ]
  },
  {
   "cell_type": "code",
   "execution_count": 6,
   "id": "c30741be",
   "metadata": {
    "ExecuteTime": {
     "end_time": "2023-09-20T07:13:47.779135Z",
     "start_time": "2023-09-20T07:13:47.748977Z"
    }
   },
   "outputs": [
    {
     "data": {
      "text/plain": [
       "(0.7573033707865169, 0.9703296703296703)"
      ]
     },
     "execution_count": 6,
     "metadata": {},
     "output_type": "execute_result"
    }
   ],
   "source": [
    "cm_test_acc_1 = (cm_test[0][0]) / (cm_test[0][0] + cm_test[0][1]) #정확도\n",
    "cm_test_acc_0 = (cm_test[1][1]) / (cm_test[1][0] + cm_test[1][1]) #정확도\n",
    "cm_test_acc_1,cm_test_acc_0"
   ]
  },
  {
   "cell_type": "code",
   "execution_count": null,
   "id": "b0889aa4",
   "metadata": {},
   "outputs": [],
   "source": []
  }
 ],
 "metadata": {
  "kernelspec": {
   "display_name": "ds_study",
   "language": "python",
   "name": "ds_study"
  },
  "language_info": {
   "codemirror_mode": {
    "name": "ipython",
    "version": 3
   },
   "file_extension": ".py",
   "mimetype": "text/x-python",
   "name": "python",
   "nbconvert_exporter": "python",
   "pygments_lexer": "ipython3",
   "version": "3.8.16"
  }
 },
 "nbformat": 4,
 "nbformat_minor": 5
}
