{
 "cells": [
  {
   "cell_type": "code",
   "execution_count": 1,
   "id": "a10148c2",
   "metadata": {
    "ExecuteTime": {
     "end_time": "2023-09-21T09:27:44.438553Z",
     "start_time": "2023-09-21T09:27:32.344594Z"
    }
   },
   "outputs": [],
   "source": [
    "# Basics\n",
    "import numpy as np\n",
    "import pandas as pd\n",
    "import matplotlib.pyplot as plt\n",
    "import seaborn as sns\n",
    "\n",
    "# NLP\n",
    "import nltk\n",
    "from soynlp.normalizer import *\n",
    "from hanspell import spell_checker\n",
    "from konlpy.tag import Okt\n",
    "\n",
    "# ML\n",
    "from sklearn.feature_extraction.text import TfidfVectorizer, CountVectorizer\n",
    "from sklearn.model_selection import train_test_split\n",
    "from sklearn.model_selection import GridSearchCV\n",
    "from sklearn.model_selection import KFold, StratifiedKFold\n",
    "from sklearn.metrics import roc_auc_score, accuracy_score, f1_score"
   ]
  },
  {
   "cell_type": "code",
   "execution_count": 2,
   "id": "2a093146",
   "metadata": {
    "ExecuteTime": {
     "end_time": "2023-09-21T09:27:46.001806Z",
     "start_time": "2023-09-21T09:27:45.827823Z"
    }
   },
   "outputs": [
    {
     "data": {
      "text/html": [
       "<div>\n",
       "<style scoped>\n",
       "    .dataframe tbody tr th:only-of-type {\n",
       "        vertical-align: middle;\n",
       "    }\n",
       "\n",
       "    .dataframe tbody tr th {\n",
       "        vertical-align: top;\n",
       "    }\n",
       "\n",
       "    .dataframe thead th {\n",
       "        text-align: right;\n",
       "    }\n",
       "</style>\n",
       "<table border=\"1\" class=\"dataframe\">\n",
       "  <thead>\n",
       "    <tr style=\"text-align: right;\">\n",
       "      <th></th>\n",
       "      <th>date</th>\n",
       "      <th>review</th>\n",
       "      <th>tokenized_review</th>\n",
       "      <th>tokenized_removed_review</th>\n",
       "      <th>reviews_for_vectorize</th>\n",
       "      <th>noun_tokenized_review</th>\n",
       "      <th>noun_tokenized_removed_review</th>\n",
       "      <th>noun_reviews_for_vectorize</th>\n",
       "      <th>rating</th>\n",
       "      <th>label</th>\n",
       "    </tr>\n",
       "  </thead>\n",
       "  <tbody>\n",
       "    <tr>\n",
       "      <th>0</th>\n",
       "      <td>2023-09-10</td>\n",
       "      <td>상세 설명에 들어가지 않아도 검색 결과에서 중량과 가격이 바로 확인되면 더 편리하겠습니다</td>\n",
       "      <td>['상세', '설명', '에', '들어가지', '않아도', '검색', '결과', '...</td>\n",
       "      <td>['상세', '설명', '들어가지', '않아도', '검색', '결과', '중량', ...</td>\n",
       "      <td>상세 설명 들어가지 않아도 검색 결과 중량 가격 확인 되면 더 편리하겠습니다</td>\n",
       "      <td>['상세', '설명', '검색', '결과', '중량', '가격', '바로', '확인...</td>\n",
       "      <td>['상세', '설명', '검색', '결과', '중량', '가격', '확인', '더']</td>\n",
       "      <td>상세 설명 검색 결과 중량 가격 확인 더</td>\n",
       "      <td>5</td>\n",
       "      <td>1.0</td>\n",
       "    </tr>\n",
       "  </tbody>\n",
       "</table>\n",
       "</div>"
      ],
      "text/plain": [
       "         date                                             review  \\\n",
       "0  2023-09-10  상세 설명에 들어가지 않아도 검색 결과에서 중량과 가격이 바로 확인되면 더 편리하겠습니다   \n",
       "\n",
       "                                    tokenized_review  \\\n",
       "0  ['상세', '설명', '에', '들어가지', '않아도', '검색', '결과', '...   \n",
       "\n",
       "                            tokenized_removed_review  \\\n",
       "0  ['상세', '설명', '들어가지', '않아도', '검색', '결과', '중량', ...   \n",
       "\n",
       "                         reviews_for_vectorize  \\\n",
       "0   상세 설명 들어가지 않아도 검색 결과 중량 가격 확인 되면 더 편리하겠습니다   \n",
       "\n",
       "                               noun_tokenized_review  \\\n",
       "0  ['상세', '설명', '검색', '결과', '중량', '가격', '바로', '확인...   \n",
       "\n",
       "                     noun_tokenized_removed_review noun_reviews_for_vectorize  \\\n",
       "0  ['상세', '설명', '검색', '결과', '중량', '가격', '확인', '더']     상세 설명 검색 결과 중량 가격 확인 더   \n",
       "\n",
       "   rating  label  \n",
       "0       5    1.0  "
      ]
     },
     "execution_count": 2,
     "metadata": {},
     "output_type": "execute_result"
    }
   ],
   "source": [
    "# 파일 불러오기\n",
    "\n",
    "review_df = pd.read_csv('./MK_review_proceed_data.csv', encoding='utf-8', index_col=0) # df_review는 전체년도 리뷰 크롤링 파일\n",
    "review_df.head(1)"
   ]
  },
  {
   "cell_type": "code",
   "execution_count": 34,
   "id": "e0f57ffe",
   "metadata": {
    "ExecuteTime": {
     "end_time": "2023-09-20T08:13:29.788404Z",
     "start_time": "2023-09-20T08:13:28.202564Z"
    },
    "scrolled": false
   },
   "outputs": [
    {
     "name": "stdout",
     "output_type": "stream",
     "text": [
      "Fitting 5 folds for each of 1 candidates, totalling 5 fits\n",
      "[LightGBM] [Info] Number of positive: 6368, number of negative: 1556\n",
      "[LightGBM] [Info] Total Bins 10966\n",
      "[LightGBM] [Info] Number of data points in the train set: 7924, number of used features: 229\n",
      "[LightGBM] [Info] [binary:BoostFromScore]: pavg=0.803635 -> initscore=1.409167\n",
      "[LightGBM] [Info] Start training from score 1.409167\n"
     ]
    },
    {
     "ename": "AttributeError",
     "evalue": "'LGBMClassifier' object has no attribute 'score_samples'",
     "output_type": "error",
     "traceback": [
      "\u001b[1;31m---------------------------------------------------------------------------\u001b[0m",
      "\u001b[1;31mAttributeError\u001b[0m                            Traceback (most recent call last)",
      "Cell \u001b[1;32mIn[34], line 97\u001b[0m\n\u001b[0;32m     92\u001b[0m y_pred_test \u001b[38;5;241m=\u001b[39m search\u001b[38;5;241m.\u001b[39mpredict(X_test)\n\u001b[0;32m     94\u001b[0m model_object[grid_dict\u001b[38;5;241m.\u001b[39mget(idx)] \u001b[38;5;241m=\u001b[39m search\n\u001b[1;32m---> 97\u001b[0m model_feat_nums[grid_dict\u001b[38;5;241m.\u001b[39mget(idx)] \u001b[38;5;241m=\u001b[39m \u001b[43msearch\u001b[49m\u001b[38;5;241;43m.\u001b[39;49m\u001b[43mscore_samples\u001b[49m\n\u001b[0;32m     99\u001b[0m model_cv_result[grid_dict\u001b[38;5;241m.\u001b[39mget(idx)] \u001b[38;5;241m=\u001b[39m search\u001b[38;5;241m.\u001b[39mcv_results_\n\u001b[0;32m    100\u001b[0m model_acc[grid_dict\u001b[38;5;241m.\u001b[39mget(idx)] \u001b[38;5;241m=\u001b[39m accuracy_score(y_test, y_pred_test)  \n",
      "File \u001b[1;32m~\\miniconda3\\envs\\ds_study\\lib\\site-packages\\sklearn\\utils\\_available_if.py:31\u001b[0m, in \u001b[0;36m_AvailableIfDescriptor.__get__\u001b[1;34m(self, obj, owner)\u001b[0m\n\u001b[0;32m     25\u001b[0m attr_err \u001b[38;5;241m=\u001b[39m \u001b[38;5;167;01mAttributeError\u001b[39;00m(\n\u001b[0;32m     26\u001b[0m     \u001b[38;5;124mf\u001b[39m\u001b[38;5;124m\"\u001b[39m\u001b[38;5;124mThis \u001b[39m\u001b[38;5;132;01m{\u001b[39;00m\u001b[38;5;28mrepr\u001b[39m(owner\u001b[38;5;241m.\u001b[39m\u001b[38;5;18m__name__\u001b[39m)\u001b[38;5;132;01m}\u001b[39;00m\u001b[38;5;124m has no attribute \u001b[39m\u001b[38;5;132;01m{\u001b[39;00m\u001b[38;5;28mrepr\u001b[39m(\u001b[38;5;28mself\u001b[39m\u001b[38;5;241m.\u001b[39mattribute_name)\u001b[38;5;132;01m}\u001b[39;00m\u001b[38;5;124m\"\u001b[39m\n\u001b[0;32m     27\u001b[0m )\n\u001b[0;32m     28\u001b[0m \u001b[38;5;28;01mif\u001b[39;00m obj \u001b[38;5;129;01mis\u001b[39;00m \u001b[38;5;129;01mnot\u001b[39;00m \u001b[38;5;28;01mNone\u001b[39;00m:\n\u001b[0;32m     29\u001b[0m     \u001b[38;5;66;03m# delegate only on instances, not the classes.\u001b[39;00m\n\u001b[0;32m     30\u001b[0m     \u001b[38;5;66;03m# this is to allow access to the docstrings.\u001b[39;00m\n\u001b[1;32m---> 31\u001b[0m     \u001b[38;5;28;01mif\u001b[39;00m \u001b[38;5;129;01mnot\u001b[39;00m \u001b[38;5;28;43mself\u001b[39;49m\u001b[38;5;241;43m.\u001b[39;49m\u001b[43mcheck\u001b[49m\u001b[43m(\u001b[49m\u001b[43mobj\u001b[49m\u001b[43m)\u001b[49m:\n\u001b[0;32m     32\u001b[0m         \u001b[38;5;28;01mraise\u001b[39;00m attr_err\n\u001b[0;32m     33\u001b[0m     out \u001b[38;5;241m=\u001b[39m MethodType(\u001b[38;5;28mself\u001b[39m\u001b[38;5;241m.\u001b[39mfn, obj)\n",
      "File \u001b[1;32m~\\miniconda3\\envs\\ds_study\\lib\\site-packages\\sklearn\\model_selection\\_search.py:364\u001b[0m, in \u001b[0;36m_estimator_has.<locals>.check\u001b[1;34m(self)\u001b[0m\n\u001b[0;32m    361\u001b[0m _check_refit(\u001b[38;5;28mself\u001b[39m, attr)\n\u001b[0;32m    362\u001b[0m \u001b[38;5;28;01mif\u001b[39;00m \u001b[38;5;28mhasattr\u001b[39m(\u001b[38;5;28mself\u001b[39m, \u001b[38;5;124m\"\u001b[39m\u001b[38;5;124mbest_estimator_\u001b[39m\u001b[38;5;124m\"\u001b[39m):\n\u001b[0;32m    363\u001b[0m     \u001b[38;5;66;03m# raise an AttributeError if `attr` does not exist\u001b[39;00m\n\u001b[1;32m--> 364\u001b[0m     \u001b[38;5;28;43mgetattr\u001b[39;49m\u001b[43m(\u001b[49m\u001b[38;5;28;43mself\u001b[39;49m\u001b[38;5;241;43m.\u001b[39;49m\u001b[43mbest_estimator_\u001b[49m\u001b[43m,\u001b[49m\u001b[43m \u001b[49m\u001b[43mattr\u001b[49m\u001b[43m)\u001b[49m\n\u001b[0;32m    365\u001b[0m     \u001b[38;5;28;01mreturn\u001b[39;00m \u001b[38;5;28;01mTrue\u001b[39;00m\n\u001b[0;32m    366\u001b[0m \u001b[38;5;66;03m# raise an AttributeError if `attr` does not exist\u001b[39;00m\n",
      "File \u001b[1;32m~\\miniconda3\\envs\\ds_study\\lib\\site-packages\\sklearn\\utils\\_available_if.py:31\u001b[0m, in \u001b[0;36m_AvailableIfDescriptor.__get__\u001b[1;34m(self, obj, owner)\u001b[0m\n\u001b[0;32m     25\u001b[0m attr_err \u001b[38;5;241m=\u001b[39m \u001b[38;5;167;01mAttributeError\u001b[39;00m(\n\u001b[0;32m     26\u001b[0m     \u001b[38;5;124mf\u001b[39m\u001b[38;5;124m\"\u001b[39m\u001b[38;5;124mThis \u001b[39m\u001b[38;5;132;01m{\u001b[39;00m\u001b[38;5;28mrepr\u001b[39m(owner\u001b[38;5;241m.\u001b[39m\u001b[38;5;18m__name__\u001b[39m)\u001b[38;5;132;01m}\u001b[39;00m\u001b[38;5;124m has no attribute \u001b[39m\u001b[38;5;132;01m{\u001b[39;00m\u001b[38;5;28mrepr\u001b[39m(\u001b[38;5;28mself\u001b[39m\u001b[38;5;241m.\u001b[39mattribute_name)\u001b[38;5;132;01m}\u001b[39;00m\u001b[38;5;124m\"\u001b[39m\n\u001b[0;32m     27\u001b[0m )\n\u001b[0;32m     28\u001b[0m \u001b[38;5;28;01mif\u001b[39;00m obj \u001b[38;5;129;01mis\u001b[39;00m \u001b[38;5;129;01mnot\u001b[39;00m \u001b[38;5;28;01mNone\u001b[39;00m:\n\u001b[0;32m     29\u001b[0m     \u001b[38;5;66;03m# delegate only on instances, not the classes.\u001b[39;00m\n\u001b[0;32m     30\u001b[0m     \u001b[38;5;66;03m# this is to allow access to the docstrings.\u001b[39;00m\n\u001b[1;32m---> 31\u001b[0m     \u001b[38;5;28;01mif\u001b[39;00m \u001b[38;5;129;01mnot\u001b[39;00m \u001b[38;5;28;43mself\u001b[39;49m\u001b[38;5;241;43m.\u001b[39;49m\u001b[43mcheck\u001b[49m\u001b[43m(\u001b[49m\u001b[43mobj\u001b[49m\u001b[43m)\u001b[49m:\n\u001b[0;32m     32\u001b[0m         \u001b[38;5;28;01mraise\u001b[39;00m attr_err\n\u001b[0;32m     33\u001b[0m     out \u001b[38;5;241m=\u001b[39m MethodType(\u001b[38;5;28mself\u001b[39m\u001b[38;5;241m.\u001b[39mfn, obj)\n",
      "File \u001b[1;32m~\\miniconda3\\envs\\ds_study\\lib\\site-packages\\sklearn\\pipeline.py:44\u001b[0m, in \u001b[0;36m_final_estimator_has.<locals>.check\u001b[1;34m(self)\u001b[0m\n\u001b[0;32m     42\u001b[0m \u001b[38;5;28;01mdef\u001b[39;00m \u001b[38;5;21mcheck\u001b[39m(\u001b[38;5;28mself\u001b[39m):\n\u001b[0;32m     43\u001b[0m     \u001b[38;5;66;03m# raise original `AttributeError` if `attr` does not exist\u001b[39;00m\n\u001b[1;32m---> 44\u001b[0m     \u001b[38;5;28;43mgetattr\u001b[39;49m\u001b[43m(\u001b[49m\u001b[38;5;28;43mself\u001b[39;49m\u001b[38;5;241;43m.\u001b[39;49m\u001b[43m_final_estimator\u001b[49m\u001b[43m,\u001b[49m\u001b[43m \u001b[49m\u001b[43mattr\u001b[49m\u001b[43m)\u001b[49m\n\u001b[0;32m     45\u001b[0m     \u001b[38;5;28;01mreturn\u001b[39;00m \u001b[38;5;28;01mTrue\u001b[39;00m\n",
      "\u001b[1;31mAttributeError\u001b[0m: 'LGBMClassifier' object has no attribute 'score_samples'"
     ]
    }
   ],
   "source": [
    "##### model\n",
    "import lightgbm as lgbm\n",
    "from lightgbm import LGBMClassifier\n",
    "from sklearn.linear_model import LogisticRegression\n",
    "\n",
    "##### sampling\n",
    "from imblearn.over_sampling import SMOTE\n",
    "\n",
    "##### pipeline\n",
    "from imblearn.pipeline import Pipeline\n",
    "\n",
    "\n",
    "##### confusion_matrix\n",
    "from sklearn.metrics import confusion_matrix\n",
    "\n",
    "##### dataset\n",
    "X = review_df['reviews_for_vectorize']; y = review_df['label']\n",
    "\n",
    "\n",
    "##### split train and test data \n",
    "X_train, X_test, y_train, y_test = train_test_split(X, y, test_size=0.3, random_state=13, stratify=y)\n",
    "\n",
    "\n",
    "##### cross-validation\n",
    "skfold = StratifiedKFold(n_splits=5)\n",
    "\n",
    "\n",
    "##### pipeline model\n",
    "pipe_LGBM = Pipeline([\n",
    "                ('vec', TfidfVectorizer(decode_error='ignore')),\n",
    "                ('fit', LGBMClassifier())])\n",
    "\n",
    "pipe_Smote_LGBM = Pipeline([\n",
    "                ('vec', TfidfVectorizer(decode_error='ignore')),\n",
    "                ('sampling', SMOTE(random_state=12)),\n",
    "                ('fit', LGBMClassifier())])\n",
    "\n",
    "\n",
    "##### set grid params\n",
    "\n",
    "grid_params_LGBM = [{\n",
    "    \"vec__min_df\" : [7],\n",
    "    'fit__objective' : ['binary'],    \n",
    "    'fit__boosting_type' : ['gbdt'],\n",
    "    'fit__metric' : ['binary_logloss'],\n",
    "    'fit__learning_rate' : [0.1],\n",
    "    'fit__n_estimators' : [100],\n",
    "    'fit__max_depth' : [-1],\n",
    "    'fit__num_leaves' : [32],\n",
    "    'fit__min_child_samples' : [50],\n",
    "    'fit__force_col_wise' : ['True']          #or 'fit__force_row_wise' \n",
    "}]\n",
    "\n",
    "grid_params_Smote_LGBM = [{\n",
    "    \"vec__min_df\" : [7],\n",
    "    \"sampling__sampling_strategy\" : ['auto'],\n",
    "    \"sampling__k_neighbors\" : [5],\n",
    "    'fit__objective' : ['binary'],    \n",
    "    'fit__boosting_type' : ['gbdt'],\n",
    "    'fit__metric' : ['binary_logloss'],\n",
    "    'fit__learning_rate' : [0.1],\n",
    "    'fit__n_estimators' : [100],\n",
    "    'fit__max_depth' : [-1],\n",
    "    'fit__num_leaves' : [32],\n",
    "    'fit__min_child_samples' : [50],\n",
    "    'fit__force_col_wise' : ['True']          #or 'fit__force_row_wise' \n",
    "}]\n",
    "\n",
    "##### fit\n",
    "pipe = [pipe_LGBM, pipe_Smote_LGBM ]\n",
    "params = [grid_params_LGBM, grid_params_Smote_LGBM]\n",
    "\n",
    "jobs = 20\n",
    "\n",
    "grid_dict = {\n",
    "    0: 'LGBM',\n",
    "    1: 'Smote_LGBM',\n",
    "            }\n",
    "\n",
    "model_object = {}; model_acc = {}; model_roc_auc = {}; model_f1 = {}; model_best_params = {}; model_CM ={};\n",
    "\n",
    "#1. scoring = 'neg_mean_absolute_error' 로 설정.\n",
    "# 일반적으로 scoring을 값이 클 수록 모델 성능이 좋은 것으로 사이킷런에서 인식하는데, \n",
    "# mae는 값이 클 수록 모델 성능이 저하되는 것이므로 Negative 키워드를 붙여서 사용\n",
    "\n",
    "for idx , (param , model) in enumerate(zip(params , pipe)) :\n",
    "    search = GridSearchCV(model, param, scoring  = \"f1\", cv=skfold,\n",
    "                           n_jobs=jobs , verbose=True ) #  verbose가 있으면 함수 수행시 발생하는 상세한 정보 출력\n",
    "    search.fit(X_train , y_train)\n",
    "    \n",
    "    y_pred_train = search.predict(X_train)\n",
    "    y_pred_test = search.predict(X_test)\n",
    "       \n",
    "    model_object[grid_dict.get(idx)] = search        \n",
    "    model_acc[grid_dict.get(idx)] = accuracy_score(y_test, y_pred_test)  \n",
    "    model_roc_auc[grid_dict.get(idx)] = roc_auc_score(y_test, y_pred_test)\n",
    "    model_f1[grid_dict.get(idx)] = f1_score(y_test, y_pred_test)\n",
    "\n",
    "    #model_confM_train = confusion_matrix(y_train, y_pred_train) # (X_test -> y_pred)\n",
    "    #model_confM_test = confusion_matrix(y_test, y_pred_test) # (X_test -> y_pred)\n",
    "    model_CM[grid_dict.get(idx)] =  confusion_matrix(y_test, y_pred_test) # (X_test -> y_pred)\n",
    "\n",
    "    model_best_params[grid_dict.get(idx)] = search.best_params_\n",
    "    \n",
    "print(\"finish\")\n",
    "\n",
    "fig ,ax = plt.subplots(figsize=(20, 10))\n",
    "sns.set(font_scale = 2)\n",
    "output = pd.DataFrame([model_f1.keys() , model_f1.values()], index = [\"algo\",\"f1\"]).T # .T : 행 렬 변환\n",
    "output.sort_values([\"f1\"], ascending= False ,inplace=True)\n",
    "ax = sns.barplot(y=\"algo\", x=\"f1\", data=output)\n",
    "plt.show()"
   ]
  },
  {
   "cell_type": "code",
   "execution_count": 33,
   "id": "82371daa",
   "metadata": {
    "ExecuteTime": {
     "end_time": "2023-09-20T08:13:00.627115Z",
     "start_time": "2023-09-20T08:13:00.604040Z"
    }
   },
   "outputs": [
    {
     "data": {
      "text/plain": [
       "<bound method BaseEstimator.get_params of GridSearchCV(cv=StratifiedKFold(n_splits=5, random_state=None, shuffle=False),\n",
       "             estimator=Pipeline(steps=[('vec',\n",
       "                                        TfidfVectorizer(decode_error='ignore')),\n",
       "                                       ('fit', LGBMClassifier())]),\n",
       "             n_jobs=20,\n",
       "             param_grid=[{'fit__boosting_type': ['gbdt'],\n",
       "                          'fit__force_col_wise': ['True'],\n",
       "                          'fit__learning_rate': [0.1], 'fit__max_depth': [-1],\n",
       "                          'fit__metric': ['binary_logloss'],\n",
       "                          'fit__min_child_samples': [50],\n",
       "                          'fit__n_estimators': [100], 'fit__num_leaves': [32],\n",
       "                          'fit__objective': ['binary'], 'vec__min_df': [7]}],\n",
       "             scoring='f1', verbose=True)>"
      ]
     },
     "execution_count": 33,
     "metadata": {},
     "output_type": "execute_result"
    }
   ],
   "source": [
    "model_feat_nums['LGBM']"
   ]
  },
  {
   "cell_type": "code",
   "execution_count": 12,
   "id": "eb3bb534",
   "metadata": {
    "ExecuteTime": {
     "end_time": "2023-09-20T07:36:31.070251Z",
     "start_time": "2023-09-20T07:36:31.060296Z"
    }
   },
   "outputs": [
    {
     "data": {
      "text/plain": [
       "{'LGBM': 0.9041942604856512, 'Smote_LGBM': 0.9077262693156732}"
      ]
     },
     "execution_count": 12,
     "metadata": {},
     "output_type": "execute_result"
    }
   ],
   "source": [
    "model_acc"
   ]
  },
  {
   "cell_type": "code",
   "execution_count": 13,
   "id": "ab0fa90f",
   "metadata": {
    "ExecuteTime": {
     "end_time": "2023-09-20T07:36:36.851009Z",
     "start_time": "2023-09-20T07:36:36.843030Z"
    }
   },
   "outputs": [
    {
     "data": {
      "text/plain": [
       "{'LGBM': 0.9421178981061616, 'Smote_LGBM': 0.9430051813471502}"
      ]
     },
     "execution_count": 13,
     "metadata": {},
     "output_type": "execute_result"
    }
   ],
   "source": [
    "model_f1"
   ]
  },
  {
   "cell_type": "code",
   "execution_count": 14,
   "id": "c1c4167e",
   "metadata": {
    "ExecuteTime": {
     "end_time": "2023-09-20T07:36:44.171375Z",
     "start_time": "2023-09-20T07:36:44.157580Z"
    }
   },
   "outputs": [
    {
     "data": {
      "text/plain": [
       "{'LGBM': 0.8020187677491047, 'Smote_LGBM': 0.8424157303370786}"
      ]
     },
     "execution_count": 14,
     "metadata": {},
     "output_type": "execute_result"
    }
   ],
   "source": [
    "model_roc_auc"
   ]
  },
  {
   "cell_type": "code",
   "execution_count": 9,
   "id": "162788ba",
   "metadata": {
    "ExecuteTime": {
     "end_time": "2023-09-20T07:35:08.204058Z",
     "start_time": "2023-09-20T07:35:08.191090Z"
    }
   },
   "outputs": [],
   "source": [
    "CM_LGBM = model_CM['LGBM']\n",
    "CM_Smote_LGBM = model_CM['Smote_LGBM']"
   ]
  },
  {
   "cell_type": "code",
   "execution_count": 10,
   "id": "37a32331",
   "metadata": {
    "ExecuteTime": {
     "end_time": "2023-09-20T07:35:49.855388Z",
     "start_time": "2023-09-20T07:35:49.836420Z"
    }
   },
   "outputs": [
    {
     "data": {
      "text/plain": [
       "(0.9703296703296703, 0.6337078651685393)"
      ]
     },
     "execution_count": 10,
     "metadata": {},
     "output_type": "execute_result"
    }
   ],
   "source": [
    "CM_LGBM_acc_0 = (CM_LGBM[0][0]) / (CM_LGBM[0][0] + CM_LGBM[0][1]) #정확도\n",
    "CM_LGBM_acc_1 = (CM_LGBM[1][1]) / (CM_LGBM[1][0] + CM_LGBM[1][1]) #정확도\n",
    "\n",
    "CM_LGBM_acc_1, CM_LGBM_acc_0"
   ]
  },
  {
   "cell_type": "code",
   "execution_count": 11,
   "id": "6006cb0a",
   "metadata": {
    "ExecuteTime": {
     "end_time": "2023-09-20T07:36:08.423965Z",
     "start_time": "2023-09-20T07:36:08.405016Z"
    }
   },
   "outputs": [
    {
     "data": {
      "text/plain": [
       "(0.95, 0.7348314606741573)"
      ]
     },
     "execution_count": 11,
     "metadata": {},
     "output_type": "execute_result"
    }
   ],
   "source": [
    "CM_Smote_LGBM_acc_0 = (CM_Smote_LGBM[0][0]) / (CM_Smote_LGBM[0][0] + CM_Smote_LGBM[0][1]) #정확도\n",
    "CM_Smote_LGBM_acc_1 = (CM_Smote_LGBM[1][1]) / (CM_Smote_LGBM[1][0] + CM_Smote_LGBM[1][1]) #정확도\n",
    "\n",
    "CM_Smote_LGBM_acc_1, CM_Smote_LGBM_acc_0"
   ]
  },
  {
   "cell_type": "code",
   "execution_count": null,
   "id": "356197be",
   "metadata": {},
   "outputs": [],
   "source": []
  }
 ],
 "metadata": {
  "kernelspec": {
   "display_name": "ds_study",
   "language": "python",
   "name": "ds_study"
  },
  "language_info": {
   "codemirror_mode": {
    "name": "ipython",
    "version": 3
   },
   "file_extension": ".py",
   "mimetype": "text/x-python",
   "name": "python",
   "nbconvert_exporter": "python",
   "pygments_lexer": "ipython3",
   "version": "3.8.16"
  }
 },
 "nbformat": 4,
 "nbformat_minor": 5
}
