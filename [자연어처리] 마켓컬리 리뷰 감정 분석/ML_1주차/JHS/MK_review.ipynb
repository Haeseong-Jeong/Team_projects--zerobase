{
 "cells": [
  {
   "cell_type": "markdown",
   "id": "a29817c6",
   "metadata": {},
   "source": [
    "## 1. 크롤링 후 CSV 파일로 저장"
   ]
  },
  {
   "cell_type": "code",
   "execution_count": 1,
   "id": "3fa0bf79",
   "metadata": {},
   "outputs": [],
   "source": [
    "#!pip install google-play-scraper"
   ]
  },
  {
   "cell_type": "code",
   "execution_count": 5,
   "id": "1247a00e",
   "metadata": {},
   "outputs": [
    {
     "data": {
      "text/html": [
       "<div>\n",
       "<style scoped>\n",
       "    .dataframe tbody tr th:only-of-type {\n",
       "        vertical-align: middle;\n",
       "    }\n",
       "\n",
       "    .dataframe tbody tr th {\n",
       "        vertical-align: top;\n",
       "    }\n",
       "\n",
       "    .dataframe thead th {\n",
       "        text-align: right;\n",
       "    }\n",
       "</style>\n",
       "<table border=\"1\" class=\"dataframe\">\n",
       "  <thead>\n",
       "    <tr style=\"text-align: right;\">\n",
       "      <th></th>\n",
       "      <th>날짜</th>\n",
       "      <th>닉네임</th>\n",
       "      <th>평점</th>\n",
       "      <th>리뷰</th>\n",
       "    </tr>\n",
       "  </thead>\n",
       "  <tbody>\n",
       "    <tr>\n",
       "      <th>0</th>\n",
       "      <td>2021-12-31 20:51:44</td>\n",
       "      <td>안지현</td>\n",
       "      <td>5</td>\n",
       "      <td>편해서 좋은데 자꾸 충동구매를 부르네요</td>\n",
       "    </tr>\n",
       "    <tr>\n",
       "      <th>1</th>\n",
       "      <td>2021-12-31 20:26:23</td>\n",
       "      <td>김재국</td>\n",
       "      <td>5</td>\n",
       "      <td>굳 너무좋고 편리해요</td>\n",
       "    </tr>\n",
       "    <tr>\n",
       "      <th>2</th>\n",
       "      <td>2021-12-31 16:52:36</td>\n",
       "      <td>미노제이MINOJ</td>\n",
       "      <td>5</td>\n",
       "      <td>샛별배송 신세계네요. 감사합니다.</td>\n",
       "    </tr>\n",
       "    <tr>\n",
       "      <th>3</th>\n",
       "      <td>2021-12-31 15:20:45</td>\n",
       "      <td>이진욱</td>\n",
       "      <td>5</td>\n",
       "      <td>배송 빠르고 너무 깔끔하게 와요~</td>\n",
       "    </tr>\n",
       "    <tr>\n",
       "      <th>4</th>\n",
       "      <td>2021-12-31 07:23:05</td>\n",
       "      <td>이숙이</td>\n",
       "      <td>5</td>\n",
       "      <td>빠른배송 만족해요</td>\n",
       "    </tr>\n",
       "    <tr>\n",
       "      <th>5</th>\n",
       "      <td>2021-12-30 23:30:46</td>\n",
       "      <td>미크로네시아</td>\n",
       "      <td>5</td>\n",
       "      <td>동네마트에는 없는 음식들이 많으니까 좋아요!</td>\n",
       "    </tr>\n",
       "    <tr>\n",
       "      <th>6</th>\n",
       "      <td>2021-12-30 22:31:10</td>\n",
       "      <td>전영복</td>\n",
       "      <td>5</td>\n",
       "      <td>빠르고 좋아요</td>\n",
       "    </tr>\n",
       "    <tr>\n",
       "      <th>7</th>\n",
       "      <td>2021-12-30 21:28:40</td>\n",
       "      <td>j p</td>\n",
       "      <td>5</td>\n",
       "      <td>마켓컬리최고</td>\n",
       "    </tr>\n",
       "    <tr>\n",
       "      <th>8</th>\n",
       "      <td>2021-12-30 21:18:59</td>\n",
       "      <td>최보금</td>\n",
       "      <td>5</td>\n",
       "      <td>좋은제품이 많아요</td>\n",
       "    </tr>\n",
       "    <tr>\n",
       "      <th>9</th>\n",
       "      <td>2021-12-30 21:04:49</td>\n",
       "      <td>강원이</td>\n",
       "      <td>5</td>\n",
       "      <td>이벤트별로 정리가 잘 되어있음</td>\n",
       "    </tr>\n",
       "  </tbody>\n",
       "</table>\n",
       "</div>"
      ],
      "text/plain": [
       "                    날짜        닉네임 평점                        리뷰\n",
       "0  2021-12-31 20:51:44        안지현  5     편해서 좋은데 자꾸 충동구매를 부르네요\n",
       "1  2021-12-31 20:26:23        김재국  5               굳 너무좋고 편리해요\n",
       "2  2021-12-31 16:52:36  미노제이MINOJ  5        샛별배송 신세계네요. 감사합니다.\n",
       "3  2021-12-31 15:20:45        이진욱  5        배송 빠르고 너무 깔끔하게 와요~\n",
       "4  2021-12-31 07:23:05        이숙이  5                 빠른배송 만족해요\n",
       "5  2021-12-30 23:30:46     미크로네시아  5  동네마트에는 없는 음식들이 많으니까 좋아요!\n",
       "6  2021-12-30 22:31:10        전영복  5                   빠르고 좋아요\n",
       "7  2021-12-30 21:28:40        j p  5                    마켓컬리최고\n",
       "8  2021-12-30 21:18:59        최보금  5                 좋은제품이 많아요\n",
       "9  2021-12-30 21:04:49        강원이  5          이벤트별로 정리가 잘 되어있음"
      ]
     },
     "execution_count": 5,
     "metadata": {},
     "output_type": "execute_result"
    }
   ],
   "source": [
    "import google_play_scraper as gps\n",
    "import pandas as pd \n",
    "\n",
    "country = 'us'\n",
    "lang = 'ko'\n",
    "id = 'com.dbs.kurly.m2'\n",
    "#id = 'com.simplywerx.compass3d'\n",
    "\n",
    "#com.dbs.kurly.m2&hl=ko&gl=US\n",
    "#https://play.google.com/store/apps/details?id=com.dbs.kurly.m2\n",
    "\n",
    "result_a  = gps.reviews_all(\n",
    "    'com.dbs.kurly.m2',\n",
    "    sleep_milliseconds=100,  # defaults to 0\n",
    "    lang=lang,  # defaults to 'en'\n",
    "    country=country,  # defaults to 'us'\n",
    "    sort=gps.Sort.NEWEST,  # defaults to Sort.MOST_RELEVANT\n",
    "    filter_score_with=None  # defaults to None(means all score)\n",
    ")\n",
    "\n",
    "'''\n",
    "for item in result_a:\n",
    "    print(str(item['at'])+'\\t'+item['userName']+'\\t'+str(item['score'])+'\\t'+item['content'])\n",
    "''';    \n",
    "\n",
    "review_list = []\n",
    "\n",
    "for item in result_a:\n",
    "    if item['at'].year >= 2021 and item['at'].year < 2022:\n",
    "        review_list.append([str(item['at']),item['userName'], str(item['score']), item['content']])\n",
    "        #print(str(item['at'])+'\\t'+item['userName']+'\\t'+str(item['score'])+'\\t'+item['content'])\n",
    "        \n",
    "review_df = pd.DataFrame(review_list, columns=['날짜', '닉네임', '평점', '리뷰']) \n",
    "review_df.head(10)"
   ]
  },
  {
   "cell_type": "code",
   "execution_count": 6,
   "id": "3c9a5668",
   "metadata": {},
   "outputs": [
    {
     "data": {
      "text/html": [
       "<div>\n",
       "<style scoped>\n",
       "    .dataframe tbody tr th:only-of-type {\n",
       "        vertical-align: middle;\n",
       "    }\n",
       "\n",
       "    .dataframe tbody tr th {\n",
       "        vertical-align: top;\n",
       "    }\n",
       "\n",
       "    .dataframe thead th {\n",
       "        text-align: right;\n",
       "    }\n",
       "</style>\n",
       "<table border=\"1\" class=\"dataframe\">\n",
       "  <thead>\n",
       "    <tr style=\"text-align: right;\">\n",
       "      <th></th>\n",
       "      <th>날짜</th>\n",
       "      <th>닉네임</th>\n",
       "      <th>평점</th>\n",
       "      <th>리뷰</th>\n",
       "    </tr>\n",
       "  </thead>\n",
       "  <tbody>\n",
       "    <tr>\n",
       "      <th>4895</th>\n",
       "      <td>2021-01-01 14:45:08</td>\n",
       "      <td>김민지</td>\n",
       "      <td>5</td>\n",
       "      <td>반려용품이 더 늘었으면 합니다.</td>\n",
       "    </tr>\n",
       "    <tr>\n",
       "      <th>4896</th>\n",
       "      <td>2021-01-01 14:05:59</td>\n",
       "      <td>김현임</td>\n",
       "      <td>5</td>\n",
       "      <td>한끼식사편하게주문할수있고제품이다좋아서맘에들어요^^</td>\n",
       "    </tr>\n",
       "    <tr>\n",
       "      <th>4897</th>\n",
       "      <td>2021-01-01 13:06:24</td>\n",
       "      <td>김영주</td>\n",
       "      <td>5</td>\n",
       "      <td>좋아요</td>\n",
       "    </tr>\n",
       "    <tr>\n",
       "      <th>4898</th>\n",
       "      <td>2021-01-01 10:33:41</td>\n",
       "      <td>부의추월선</td>\n",
       "      <td>5</td>\n",
       "      <td>간편하고 빠른배달 좋네요^^</td>\n",
       "    </tr>\n",
       "    <tr>\n",
       "      <th>4899</th>\n",
       "      <td>2021-01-01 10:14:52</td>\n",
       "      <td>JeoungMin Kang</td>\n",
       "      <td>4</td>\n",
       "      <td>새벽배송은 마음에 듭니다. 다만 가격과 질적인 면에서 고민이 될 때가 많아요.</td>\n",
       "    </tr>\n",
       "  </tbody>\n",
       "</table>\n",
       "</div>"
      ],
      "text/plain": [
       "                       날짜             닉네임 평점  \\\n",
       "4895  2021-01-01 14:45:08             김민지  5   \n",
       "4896  2021-01-01 14:05:59             김현임  5   \n",
       "4897  2021-01-01 13:06:24             김영주  5   \n",
       "4898  2021-01-01 10:33:41           부의추월선  5   \n",
       "4899  2021-01-01 10:14:52  JeoungMin Kang  4   \n",
       "\n",
       "                                               리뷰  \n",
       "4895                            반려용품이 더 늘었으면 합니다.  \n",
       "4896                  한끼식사편하게주문할수있고제품이다좋아서맘에들어요^^  \n",
       "4897                                          좋아요  \n",
       "4898                              간편하고 빠른배달 좋네요^^  \n",
       "4899  새벽배송은 마음에 듭니다. 다만 가격과 질적인 면에서 고민이 될 때가 많아요.  "
      ]
     },
     "execution_count": 6,
     "metadata": {},
     "output_type": "execute_result"
    }
   ],
   "source": [
    "review_df.tail()"
   ]
  },
  {
   "cell_type": "code",
   "execution_count": 7,
   "id": "89919276",
   "metadata": {},
   "outputs": [
    {
     "data": {
      "text/plain": [
       "4900"
      ]
     },
     "execution_count": 7,
     "metadata": {},
     "output_type": "execute_result"
    }
   ],
   "source": [
    "len(review_df)"
   ]
  },
  {
   "cell_type": "code",
   "execution_count": 21,
   "id": "83e983a8",
   "metadata": {},
   "outputs": [],
   "source": [
    "review_df.to_csv(\"marketkurly_reviews_2021.csv\", encoding='utf-8')"
   ]
  },
  {
   "cell_type": "markdown",
   "id": "5fd4b403",
   "metadata": {},
   "source": [
    "## 2. CSV 파일 불러오기"
   ]
  },
  {
   "cell_type": "code",
   "execution_count": 1,
   "id": "601cfeae",
   "metadata": {
    "scrolled": true
   },
   "outputs": [
    {
     "data": {
      "text/html": [
       "<div>\n",
       "<style scoped>\n",
       "    .dataframe tbody tr th:only-of-type {\n",
       "        vertical-align: middle;\n",
       "    }\n",
       "\n",
       "    .dataframe tbody tr th {\n",
       "        vertical-align: top;\n",
       "    }\n",
       "\n",
       "    .dataframe thead th {\n",
       "        text-align: right;\n",
       "    }\n",
       "</style>\n",
       "<table border=\"1\" class=\"dataframe\">\n",
       "  <thead>\n",
       "    <tr style=\"text-align: right;\">\n",
       "      <th></th>\n",
       "      <th>날짜</th>\n",
       "      <th>닉네임</th>\n",
       "      <th>평점</th>\n",
       "      <th>리뷰</th>\n",
       "    </tr>\n",
       "  </thead>\n",
       "  <tbody>\n",
       "    <tr>\n",
       "      <th>0</th>\n",
       "      <td>2021-12-31 20:51:44</td>\n",
       "      <td>안지현</td>\n",
       "      <td>5</td>\n",
       "      <td>편해서 좋은데 자꾸 충동구매를 부르네요</td>\n",
       "    </tr>\n",
       "    <tr>\n",
       "      <th>1</th>\n",
       "      <td>2021-12-31 20:26:23</td>\n",
       "      <td>김재국</td>\n",
       "      <td>5</td>\n",
       "      <td>굳 너무좋고 편리해요</td>\n",
       "    </tr>\n",
       "    <tr>\n",
       "      <th>2</th>\n",
       "      <td>2021-12-31 16:52:36</td>\n",
       "      <td>미노제이MINOJ</td>\n",
       "      <td>5</td>\n",
       "      <td>샛별배송 신세계네요. 감사합니다.</td>\n",
       "    </tr>\n",
       "    <tr>\n",
       "      <th>3</th>\n",
       "      <td>2021-12-31 15:20:45</td>\n",
       "      <td>이진욱</td>\n",
       "      <td>5</td>\n",
       "      <td>배송 빠르고 너무 깔끔하게 와요~</td>\n",
       "    </tr>\n",
       "    <tr>\n",
       "      <th>4</th>\n",
       "      <td>2021-12-31 07:23:05</td>\n",
       "      <td>이숙이</td>\n",
       "      <td>5</td>\n",
       "      <td>빠른배송 만족해요</td>\n",
       "    </tr>\n",
       "  </tbody>\n",
       "</table>\n",
       "</div>"
      ],
      "text/plain": [
       "                    날짜        닉네임  평점                     리뷰\n",
       "0  2021-12-31 20:51:44        안지현   5  편해서 좋은데 자꾸 충동구매를 부르네요\n",
       "1  2021-12-31 20:26:23        김재국   5            굳 너무좋고 편리해요\n",
       "2  2021-12-31 16:52:36  미노제이MINOJ   5     샛별배송 신세계네요. 감사합니다.\n",
       "3  2021-12-31 15:20:45        이진욱   5     배송 빠르고 너무 깔끔하게 와요~\n",
       "4  2021-12-31 07:23:05        이숙이   5              빠른배송 만족해요"
      ]
     },
     "execution_count": 1,
     "metadata": {},
     "output_type": "execute_result"
    }
   ],
   "source": [
    "import pandas as pd \n",
    "new_review_df = pd.read_csv(\"./marketkurly_reviews_2021.csv\", encoding='utf-8', index_col=0)\n",
    "new_review_df.head()"
   ]
  },
  {
   "cell_type": "code",
   "execution_count": 2,
   "id": "ed9f785f",
   "metadata": {},
   "outputs": [
    {
     "name": "stdout",
     "output_type": "stream",
     "text": [
      "<class 'pandas.core.series.Series'>\n",
      "Int64Index: 4900 entries, 0 to 4899\n",
      "Series name: 리뷰\n",
      "Non-Null Count  Dtype \n",
      "--------------  ----- \n",
      "4900 non-null   object\n",
      "dtypes: object(1)\n",
      "memory usage: 76.6+ KB\n"
     ]
    }
   ],
   "source": [
    "new_review_df['리뷰'].info()"
   ]
  },
  {
   "cell_type": "code",
   "execution_count": 3,
   "id": "b2eccaaa",
   "metadata": {},
   "outputs": [
    {
     "data": {
      "text/plain": [
       "5    3759\n",
       "4     602\n",
       "1     350\n",
       "3     139\n",
       "2      50\n",
       "Name: 평점, dtype: int64"
      ]
     },
     "execution_count": 3,
     "metadata": {},
     "output_type": "execute_result"
    }
   ],
   "source": [
    "new_review_df['평점'].value_counts()"
   ]
  },
  {
   "cell_type": "code",
   "execution_count": 4,
   "id": "65b9f33c",
   "metadata": {},
   "outputs": [
    {
     "data": {
      "text/html": [
       "<div>\n",
       "<style scoped>\n",
       "    .dataframe tbody tr th:only-of-type {\n",
       "        vertical-align: middle;\n",
       "    }\n",
       "\n",
       "    .dataframe tbody tr th {\n",
       "        vertical-align: top;\n",
       "    }\n",
       "\n",
       "    .dataframe thead th {\n",
       "        text-align: right;\n",
       "    }\n",
       "</style>\n",
       "<table border=\"1\" class=\"dataframe\">\n",
       "  <thead>\n",
       "    <tr style=\"text-align: right;\">\n",
       "      <th></th>\n",
       "      <th>날짜</th>\n",
       "      <th>닉네임</th>\n",
       "      <th>평점</th>\n",
       "      <th>리뷰</th>\n",
       "    </tr>\n",
       "  </thead>\n",
       "  <tbody>\n",
       "    <tr>\n",
       "      <th>122</th>\n",
       "      <td>2021-12-23 00:13:32</td>\n",
       "      <td>sally ju</td>\n",
       "      <td>3</td>\n",
       "      <td>후기 를 한번 더 눌러서 넘어가는게.아니라 빠르게 그냥 주욱 볼수있도록 수정해주세요 .</td>\n",
       "    </tr>\n",
       "    <tr>\n",
       "      <th>171</th>\n",
       "      <td>2021-12-19 19:09:53</td>\n",
       "      <td>권오영</td>\n",
       "      <td>3</td>\n",
       "      <td>소비자편의를 미리헤아려주네요</td>\n",
       "    </tr>\n",
       "    <tr>\n",
       "      <th>203</th>\n",
       "      <td>2021-12-16 23:19:09</td>\n",
       "      <td>박소윤</td>\n",
       "      <td>3</td>\n",
       "      <td>주류 구매하고 싶은데 카테고리를 선택해도 안나와요ㅠㅠ 성인 인증하라는 문구도 안나오구ㅠ</td>\n",
       "    </tr>\n",
       "    <tr>\n",
       "      <th>224</th>\n",
       "      <td>2021-12-15 16:22:44</td>\n",
       "      <td>김지현</td>\n",
       "      <td>3</td>\n",
       "      <td>리뷰를 별점으로 만들어주셨으면해요 리뷰 하나하나 읽고 확인하기 너무 함들어요</td>\n",
       "    </tr>\n",
       "    <tr>\n",
       "      <th>258</th>\n",
       "      <td>2021-12-13 23:54:24</td>\n",
       "      <td>전승순</td>\n",
       "      <td>3</td>\n",
       "      <td>가격이비싸요 빵종류가더 그런거 같아요</td>\n",
       "    </tr>\n",
       "    <tr>\n",
       "      <th>270</th>\n",
       "      <td>2021-12-13 13:01:47</td>\n",
       "      <td>Jee -</td>\n",
       "      <td>3</td>\n",
       "      <td>업데이트좀 작작해요 ㅜㅜㅜ 지겨워요</td>\n",
       "    </tr>\n",
       "    <tr>\n",
       "      <th>271</th>\n",
       "      <td>2021-12-13 12:20:26</td>\n",
       "      <td>오혜리</td>\n",
       "      <td>3</td>\n",
       "      <td>초성검색 가능하게 , 찜한상품 100개이상 할수있도록 개선해주세요. 100개 너무 ...</td>\n",
       "    </tr>\n",
       "    <tr>\n",
       "      <th>305</th>\n",
       "      <td>2021-12-10 11:18:23</td>\n",
       "      <td>맑은바람</td>\n",
       "      <td>3</td>\n",
       "      <td>나쁘진않으나 배송지연 일방적인 상품취소으로 황당한 경험이 몇번이나있어서 불안해하며 ...</td>\n",
       "    </tr>\n",
       "    <tr>\n",
       "      <th>316</th>\n",
       "      <td>2021-12-09 16:42:50</td>\n",
       "      <td>4 9105</td>\n",
       "      <td>3</td>\n",
       "      <td>마켓컬리 2번 이용했지만 조만간 오아시스로 갈아탈예정임.. 일단 새벽배송 좋지만 물...</td>\n",
       "    </tr>\n",
       "    <tr>\n",
       "      <th>349</th>\n",
       "      <td>2021-12-07 16:37:55</td>\n",
       "      <td>hyejin Kim</td>\n",
       "      <td>3</td>\n",
       "      <td>비수도권은 안되는게 많네요..ㅠ 요즘은 쿠팡이랑 병행해요ㅠ</td>\n",
       "    </tr>\n",
       "    <tr>\n",
       "      <th>368</th>\n",
       "      <td>2021-12-07 03:58:10</td>\n",
       "      <td>KJ S</td>\n",
       "      <td>3</td>\n",
       "      <td>왜 휴대폰 결제가 안 돼죠? 한도 남았는데; 자꾸 결제 종료라고 떠요.</td>\n",
       "    </tr>\n",
       "    <tr>\n",
       "      <th>382</th>\n",
       "      <td>2021-12-06 17:00:42</td>\n",
       "      <td>이명옥</td>\n",
       "      <td>3</td>\n",
       "      <td>과대포장이 너무 심해요</td>\n",
       "    </tr>\n",
       "    <tr>\n",
       "      <th>386</th>\n",
       "      <td>2021-12-06 14:50:46</td>\n",
       "      <td>김록연</td>\n",
       "      <td>3</td>\n",
       "      <td>업데이트가 하루종일 안되고 다시제거했다가 깔려고 해도 안되니 이제 사용 못하겠네요?...</td>\n",
       "    </tr>\n",
       "    <tr>\n",
       "      <th>429</th>\n",
       "      <td>2021-12-01 23:17:13</td>\n",
       "      <td>물곡아</td>\n",
       "      <td>3</td>\n",
       "      <td>네이버페이 무한로그인 수정해주세요ㅜ 그리고 검색 기능 개선좀ㅜㅠ</td>\n",
       "    </tr>\n",
       "    <tr>\n",
       "      <th>477</th>\n",
       "      <td>2021-11-26 20:18:29</td>\n",
       "      <td>나메롱</td>\n",
       "      <td>3</td>\n",
       "      <td>네이버페이결제만 사용하는데, 네이버페이로 결제하기 선택하면 자꾸 네이버로 로그인하라...</td>\n",
       "    </tr>\n",
       "    <tr>\n",
       "      <th>482</th>\n",
       "      <td>2021-11-26 18:56:06</td>\n",
       "      <td>최소.</td>\n",
       "      <td>3</td>\n",
       "      <td>품질 좋고 새벽배송되고 다 좋은데 집에 돼지 있으면 사용 못하겠어요 판매하는 제품들...</td>\n",
       "    </tr>\n",
       "    <tr>\n",
       "      <th>522</th>\n",
       "      <td>2021-11-24 07:05:24</td>\n",
       "      <td>희망이</td>\n",
       "      <td>3</td>\n",
       "      <td>샛별배송 좋긴한데 주택사는 사람들은 불편하네요. 문앞에 놓고가면 누가 가져갈지도 모...</td>\n",
       "    </tr>\n",
       "    <tr>\n",
       "      <th>555</th>\n",
       "      <td>2021-11-22 00:47:03</td>\n",
       "      <td>Dianna_nananan</td>\n",
       "      <td>3</td>\n",
       "      <td>리뷰보기가 굉장히 불편하네요. 쿠팡처럼 직관적으로 되면 좋겠어요. 리뷰 보려면 한개...</td>\n",
       "    </tr>\n",
       "    <tr>\n",
       "      <th>580</th>\n",
       "      <td>2021-11-18 16:04:22</td>\n",
       "      <td>Yoonie</td>\n",
       "      <td>3</td>\n",
       "      <td>지금 문의하기 기능이 안 됩니다.. 눌러도 아무 반응이 없어요 그리고 몇년째 나오는...</td>\n",
       "    </tr>\n",
       "    <tr>\n",
       "      <th>584</th>\n",
       "      <td>2021-11-18 11:27:33</td>\n",
       "      <td>함혜경</td>\n",
       "      <td>3</td>\n",
       "      <td>상관없이 보았다</td>\n",
       "    </tr>\n",
       "  </tbody>\n",
       "</table>\n",
       "</div>"
      ],
      "text/plain": [
       "                      날짜             닉네임  평점  \\\n",
       "122  2021-12-23 00:13:32        sally ju   3   \n",
       "171  2021-12-19 19:09:53             권오영   3   \n",
       "203  2021-12-16 23:19:09             박소윤   3   \n",
       "224  2021-12-15 16:22:44             김지현   3   \n",
       "258  2021-12-13 23:54:24             전승순   3   \n",
       "270  2021-12-13 13:01:47           Jee -   3   \n",
       "271  2021-12-13 12:20:26             오혜리   3   \n",
       "305  2021-12-10 11:18:23            맑은바람   3   \n",
       "316  2021-12-09 16:42:50          4 9105   3   \n",
       "349  2021-12-07 16:37:55      hyejin Kim   3   \n",
       "368  2021-12-07 03:58:10            KJ S   3   \n",
       "382  2021-12-06 17:00:42             이명옥   3   \n",
       "386  2021-12-06 14:50:46             김록연   3   \n",
       "429  2021-12-01 23:17:13             물곡아   3   \n",
       "477  2021-11-26 20:18:29             나메롱   3   \n",
       "482  2021-11-26 18:56:06             최소.   3   \n",
       "522  2021-11-24 07:05:24             희망이   3   \n",
       "555  2021-11-22 00:47:03  Dianna_nananan   3   \n",
       "580  2021-11-18 16:04:22          Yoonie   3   \n",
       "584  2021-11-18 11:27:33             함혜경   3   \n",
       "\n",
       "                                                    리뷰  \n",
       "122   후기 를 한번 더 눌러서 넘어가는게.아니라 빠르게 그냥 주욱 볼수있도록 수정해주세요 .  \n",
       "171                                    소비자편의를 미리헤아려주네요  \n",
       "203   주류 구매하고 싶은데 카테고리를 선택해도 안나와요ㅠㅠ 성인 인증하라는 문구도 안나오구ㅠ  \n",
       "224         리뷰를 별점으로 만들어주셨으면해요 리뷰 하나하나 읽고 확인하기 너무 함들어요  \n",
       "258                               가격이비싸요 빵종류가더 그런거 같아요  \n",
       "270                                업데이트좀 작작해요 ㅜㅜㅜ 지겨워요  \n",
       "271  초성검색 가능하게 , 찜한상품 100개이상 할수있도록 개선해주세요. 100개 너무 ...  \n",
       "305  나쁘진않으나 배송지연 일방적인 상품취소으로 황당한 경험이 몇번이나있어서 불안해하며 ...  \n",
       "316  마켓컬리 2번 이용했지만 조만간 오아시스로 갈아탈예정임.. 일단 새벽배송 좋지만 물...  \n",
       "349                   비수도권은 안되는게 많네요..ㅠ 요즘은 쿠팡이랑 병행해요ㅠ  \n",
       "368            왜 휴대폰 결제가 안 돼죠? 한도 남았는데; 자꾸 결제 종료라고 떠요.  \n",
       "382                                       과대포장이 너무 심해요  \n",
       "386  업데이트가 하루종일 안되고 다시제거했다가 깔려고 해도 안되니 이제 사용 못하겠네요?...  \n",
       "429                네이버페이 무한로그인 수정해주세요ㅜ 그리고 검색 기능 개선좀ㅜㅠ  \n",
       "477  네이버페이결제만 사용하는데, 네이버페이로 결제하기 선택하면 자꾸 네이버로 로그인하라...  \n",
       "482  품질 좋고 새벽배송되고 다 좋은데 집에 돼지 있으면 사용 못하겠어요 판매하는 제품들...  \n",
       "522  샛별배송 좋긴한데 주택사는 사람들은 불편하네요. 문앞에 놓고가면 누가 가져갈지도 모...  \n",
       "555  리뷰보기가 굉장히 불편하네요. 쿠팡처럼 직관적으로 되면 좋겠어요. 리뷰 보려면 한개...  \n",
       "580  지금 문의하기 기능이 안 됩니다.. 눌러도 아무 반응이 없어요 그리고 몇년째 나오는...  \n",
       "584                                           상관없이 보았다  "
      ]
     },
     "execution_count": 4,
     "metadata": {},
     "output_type": "execute_result"
    }
   ],
   "source": [
    "new_review_df[new_review_df['평점'] == 3].head(20)"
   ]
  },
  {
   "cell_type": "markdown",
   "id": "30e04bb6",
   "metadata": {},
   "source": [
    "- 3점에서 부정적인 글이 많으므로 1,2,3,점을 부정으로 잡자"
   ]
  },
  {
   "cell_type": "markdown",
   "id": "dc6f9d16",
   "metadata": {},
   "source": [
    "## 전처리 시작\n",
    "- soynlp는 띄어쓰기에 민감하다. 따라서 비교적 띄어쓰기를 부정확하게 하는 한국어 말뭉치를 활용할 때는 PyKoSpacing이나 Py-Hanspell로 올바른 띄어쓰기를 먼저하고 학습과정을 진행하는 것이 좋다."
   ]
  },
  {
   "cell_type": "markdown",
   "id": "a63d6681",
   "metadata": {},
   "source": [
    "soynlp는 이렇게 계산된 통계수치를 사용하여 문자열을 토큰화하는 방법도 제공한다. soynlp가 제공하는 토큰화 방법은 두 가지다.\n",
    "\n",
    "- 띄어쓰기가 잘 되어 있는 경우: L-토큰화\n",
    "\n",
    "- 띄어쓰기가 안되어 있는 경우: Max Score 토큰화\n",
    "\n",
    "L-토큰화\n",
    "한국어의 경우 공백(띄어쓰기)으로 분리된 하나의 문자열은 ‘L 토큰 + R 토큰; 구조인 경우가 많다. 왼쪽에 오는 L 토큰은 체언(명사, 대명사)이나 동사, 형용사 등이고 오른쪽에 오는 R 토큰은 조사, 동사, 형용사 등이다. 여러가지 길이의 L 토큰의 점수를 비교하여 가장 점수가 높 L단어를 찾는 것이 L-토큰화(L-tokenizing)이다. soynlp에서는 LTokenizer 클래스로 제공한다."
   ]
  },
  {
   "cell_type": "markdown",
   "id": "e92cdb0a",
   "metadata": {},
   "source": [
    "순서 \n",
    "- 1. 이모지, 특수문자 제거\n",
    "- 2. hanspell로 띄어쓰기 및 맞춤법 교정\n",
    "- 3. soynlp exator로 WordExtractor 로부터 단어 점수를 학습\n",
    "- 4. 점수 기준으로 문장 토큰화"
   ]
  },
  {
   "cell_type": "code",
   "execution_count": 10,
   "id": "362f0538",
   "metadata": {},
   "outputs": [],
   "source": [
    "tmp_df = new_review_df.copy()"
   ]
  },
  {
   "cell_type": "code",
   "execution_count": 5,
   "id": "4fbdbff3",
   "metadata": {},
   "outputs": [],
   "source": [
    "#!pip install emoji"
   ]
  },
  {
   "cell_type": "code",
   "execution_count": 6,
   "id": "7dc84ee5",
   "metadata": {},
   "outputs": [],
   "source": [
    "#!pip install soynlp"
   ]
  },
  {
   "cell_type": "code",
   "execution_count": 7,
   "id": "e4c55494",
   "metadata": {},
   "outputs": [],
   "source": [
    "#!pip install git+https://github.com/ssut/py-hanspell.git"
   ]
  },
  {
   "cell_type": "markdown",
   "id": "c133e226",
   "metadata": {},
   "source": [
    "## 이모지 , 특수문자, url , 한자 제거"
   ]
  },
  {
   "cell_type": "code",
   "execution_count": 14,
   "id": "4c27a8fb",
   "metadata": {},
   "outputs": [],
   "source": [
    "import re\n",
    "import emoji\n",
    "from soynlp.normalizer import repeat_normalize\n",
    "\n",
    "pattern = re.compile(f'[^ .,?!/@$%~％·∼()\\x00-\\x7Fㄱ-ㅣ가-힣]+')\n",
    "url_pattern = re.compile(\n",
    "    r'https?:\\/\\/(www\\.)?[-a-zA-Z0-9@:%._\\+~#=]{1,256}\\.[a-zA-Z0-9()]{1,6}\\b([-a-zA-Z0-9()@:%_\\+.~#?&//=]*)')\n",
    "\n",
    "def clean(x): \n",
    "    x = pattern.sub(' ', x)\n",
    "    x = emoji.replace_emoji(x, replace='') #emoji 삭제\n",
    "    x = url_pattern.sub('', x)\n",
    "    x = x.strip()\n",
    "    x = repeat_normalize(x, num_repeats=2)\n",
    "    return x"
   ]
  },
  {
   "cell_type": "markdown",
   "id": "f826197e",
   "metadata": {},
   "source": [
    "## 띄어쓰기 + 맞춤법"
   ]
  },
  {
   "cell_type": "code",
   "execution_count": 21,
   "id": "353e99f0",
   "metadata": {},
   "outputs": [
    {
     "name": "stdout",
     "output_type": "stream",
     "text": [
      "맞춤법 틀리면 왜 안돼? 쓰고 싶은 대로 쓰면 되지 \n"
     ]
    }
   ],
   "source": [
    "from hanspell import spell_checker\n",
    "sent = \"맞춤법 틀리면 외 않되? 쓰고싶은대로쓰면돼지 \"\n",
    "spelled_sent = spell_checker.check(sent)\n",
    "hanspell_sent = spelled_sent.checked\n",
    "print(hanspell_sent)"
   ]
  },
  {
   "cell_type": "code",
   "execution_count": 13,
   "id": "edf6bda6",
   "metadata": {},
   "outputs": [
    {
     "data": {
      "application/vnd.jupyter.widget-view+json": {
       "model_id": "80c980ca16944657b641bb1d31a85f58",
       "version_major": 2,
       "version_minor": 0
      },
      "text/plain": [
       "  0%|          | 0/4900 [00:00<?, ?it/s]"
      ]
     },
     "metadata": {},
     "output_type": "display_data"
    },
    {
     "name": "stdout",
     "output_type": "stream",
     "text": [
      "처리안되는 인덱스 : 1623\n",
      "처리안되는 인덱스 : 2612\n",
      "처리안되는 인덱스 : 2718\n",
      "처리안되는 인덱스 : 2999\n"
     ]
    }
   ],
   "source": [
    "from hanspell import spell_checker\n",
    "from tqdm import notebook\n",
    "\n",
    "tmp_list =[]\n",
    "idx = 0\n",
    "for sentence in notebook.tqdm(new_review_df['리뷰']): \n",
    "    try:\n",
    "        hanspell_sent = spell_checker.check(sentence).checked\n",
    "        tmp_list.append(hanspell_sent)\n",
    "        idx += 1\n",
    "    except:\n",
    "        print(f'hanspell 처리가 안 되는 인덱스 : {idx}')\n",
    "        tmp_list.append(None)\n",
    "        idx += 1"
   ]
  },
  {
   "cell_type": "code",
   "execution_count": 22,
   "id": "44f3ae90",
   "metadata": {},
   "outputs": [
    {
     "data": {
      "text/plain": [
       "'신선하고제품&맛있는 음식이 배송이빠르고 좋아요 ㅋㅋ'"
      ]
     },
     "execution_count": 22,
     "metadata": {},
     "output_type": "execute_result"
    }
   ],
   "source": [
    "tmp_df.iloc[2999]['리뷰']"
   ]
  },
  {
   "cell_type": "markdown",
   "id": "bc6b8644",
   "metadata": {},
   "source": [
    "& 들어 있는 문장은 처리가 안된다. &를 빼고 다시 해주자."
   ]
  },
  {
   "cell_type": "code",
   "execution_count": 23,
   "id": "65356703",
   "metadata": {},
   "outputs": [],
   "source": [
    "tmp_df['리뷰'] = tmp_df['리뷰'].str.replace(\"&\",\"\")"
   ]
  },
  {
   "cell_type": "code",
   "execution_count": 24,
   "id": "7259df06",
   "metadata": {},
   "outputs": [
    {
     "data": {
      "application/vnd.jupyter.widget-view+json": {
       "model_id": "7b1405c615d846c0bac6fac27fcff5aa",
       "version_major": 2,
       "version_minor": 0
      },
      "text/plain": [
       "  0%|          | 0/4900 [00:00<?, ?it/s]"
      ]
     },
     "metadata": {},
     "output_type": "display_data"
    }
   ],
   "source": [
    "from hanspell import spell_checker\n",
    "from tqdm import notebook\n",
    "\n",
    "tmp_list =[]\n",
    "idx = 0\n",
    "for sentence in notebook.tqdm(tmp_df['리뷰']): \n",
    "    try:\n",
    "        hanspell_sent = spell_checker.check(sentence).checked\n",
    "        tmp_list.append(hanspell_sent)\n",
    "        idx += 1\n",
    "    except:\n",
    "        print(f'hanspell 처리가 안 되는 인덱스 : {idx}')\n",
    "        tmp_list.append(None)\n",
    "        idx += 1"
   ]
  },
  {
   "cell_type": "code",
   "execution_count": 25,
   "id": "78479a32",
   "metadata": {},
   "outputs": [
    {
     "data": {
      "text/html": [
       "<div>\n",
       "<style scoped>\n",
       "    .dataframe tbody tr th:only-of-type {\n",
       "        vertical-align: middle;\n",
       "    }\n",
       "\n",
       "    .dataframe tbody tr th {\n",
       "        vertical-align: top;\n",
       "    }\n",
       "\n",
       "    .dataframe thead th {\n",
       "        text-align: right;\n",
       "    }\n",
       "</style>\n",
       "<table border=\"1\" class=\"dataframe\">\n",
       "  <thead>\n",
       "    <tr style=\"text-align: right;\">\n",
       "      <th></th>\n",
       "      <th>날짜</th>\n",
       "      <th>닉네임</th>\n",
       "      <th>평점</th>\n",
       "      <th>리뷰</th>\n",
       "      <th>리뷰 hanspell 후</th>\n",
       "    </tr>\n",
       "  </thead>\n",
       "  <tbody>\n",
       "    <tr>\n",
       "      <th>0</th>\n",
       "      <td>2021-12-31 20:51:44</td>\n",
       "      <td>안지현</td>\n",
       "      <td>5</td>\n",
       "      <td>편해서 좋은데 자꾸 충동구매를 부르네요</td>\n",
       "      <td>편해서 좋은데 자꾸 충동구매를 부르네요</td>\n",
       "    </tr>\n",
       "    <tr>\n",
       "      <th>1</th>\n",
       "      <td>2021-12-31 20:26:23</td>\n",
       "      <td>김재국</td>\n",
       "      <td>5</td>\n",
       "      <td>굳 너무좋고 편리해요</td>\n",
       "      <td>굳 너무 좋고 편리해요</td>\n",
       "    </tr>\n",
       "    <tr>\n",
       "      <th>2</th>\n",
       "      <td>2021-12-31 16:52:36</td>\n",
       "      <td>미노제이MINOJ</td>\n",
       "      <td>5</td>\n",
       "      <td>샛별배송 신세계네요. 감사합니다.</td>\n",
       "      <td>샛별 배송 신세계네요. 감사합니다.</td>\n",
       "    </tr>\n",
       "    <tr>\n",
       "      <th>3</th>\n",
       "      <td>2021-12-31 15:20:45</td>\n",
       "      <td>이진욱</td>\n",
       "      <td>5</td>\n",
       "      <td>배송 빠르고 너무 깔끔하게 와요~</td>\n",
       "      <td>배송 빠르고 너무 깔끔하게 와요~</td>\n",
       "    </tr>\n",
       "    <tr>\n",
       "      <th>4</th>\n",
       "      <td>2021-12-31 07:23:05</td>\n",
       "      <td>이숙이</td>\n",
       "      <td>5</td>\n",
       "      <td>빠른배송 만족해요</td>\n",
       "      <td>빠른 배송 만족해요</td>\n",
       "    </tr>\n",
       "  </tbody>\n",
       "</table>\n",
       "</div>"
      ],
      "text/plain": [
       "                    날짜        닉네임  평점                     리뷰  \\\n",
       "0  2021-12-31 20:51:44        안지현   5  편해서 좋은데 자꾸 충동구매를 부르네요   \n",
       "1  2021-12-31 20:26:23        김재국   5            굳 너무좋고 편리해요   \n",
       "2  2021-12-31 16:52:36  미노제이MINOJ   5     샛별배송 신세계네요. 감사합니다.   \n",
       "3  2021-12-31 15:20:45        이진욱   5     배송 빠르고 너무 깔끔하게 와요~   \n",
       "4  2021-12-31 07:23:05        이숙이   5              빠른배송 만족해요   \n",
       "\n",
       "           리뷰 hanspell 후  \n",
       "0  편해서 좋은데 자꾸 충동구매를 부르네요  \n",
       "1           굳 너무 좋고 편리해요  \n",
       "2    샛별 배송 신세계네요. 감사합니다.  \n",
       "3     배송 빠르고 너무 깔끔하게 와요~  \n",
       "4             빠른 배송 만족해요  "
      ]
     },
     "execution_count": 25,
     "metadata": {},
     "output_type": "execute_result"
    }
   ],
   "source": [
    "tmp_df['리뷰 hanspell 후'] = tmp_list\n",
    "tmp_df.head()"
   ]
  },
  {
   "cell_type": "code",
   "execution_count": 26,
   "id": "0b52e3a1",
   "metadata": {},
   "outputs": [
    {
     "name": "stdout",
     "output_type": "stream",
     "text": [
      "<class 'pandas.core.series.Series'>\n",
      "Int64Index: 4900 entries, 0 to 4899\n",
      "Series name: 리뷰 hanspell 후\n",
      "Non-Null Count  Dtype \n",
      "--------------  ----- \n",
      "4900 non-null   object\n",
      "dtypes: object(1)\n",
      "memory usage: 76.6+ KB\n"
     ]
    }
   ],
   "source": [
    "tmp_df['리뷰 hanspell 후'].info()"
   ]
  },
  {
   "cell_type": "markdown",
   "id": "807ca164",
   "metadata": {},
   "source": [
    "### soynlp 작업으로 명사 형태소 분석"
   ]
  },
  {
   "cell_type": "code",
   "execution_count": 41,
   "id": "c9d238d2",
   "metadata": {},
   "outputs": [
    {
     "name": "stdout",
     "output_type": "stream",
     "text": [
      "[Noun Extractor] used default noun predictor; Sejong corpus predictor\n",
      "[Noun Extractor] used noun_predictor_sejong\n",
      "[Noun Extractor] All 2398 r features was loaded\n",
      "[Noun Extractor] scanning was done (L,R) has (2484, 1222) tokens\n",
      "[Noun Extractor] building L-R graph was done\n",
      "[Noun Extractor] 413 nouns are extracted\n",
      "training was done. used memory 0.201 Gbry 0.201 Gb\n",
      "all cohesion probabilities was computed. # words = 242\n",
      "all branching entropies was computed # words = 4732\n",
      "all accessor variety was computed # words = 4732\n"
     ]
    }
   ],
   "source": [
    "import urllib.request\n",
    "from soynlp import DoublespaceLineCorpus\n",
    "from soynlp.noun import LRNounExtractor\n",
    "from soynlp.word import WordExtractor\n",
    "from soynlp.tokenizer import LTokenizer\n",
    "\n",
    "# WordExtractor는 통계를 이용하여 단어의 경계 점수를 학습하는 것일 뿐, 각 단어의 품사를 판단하지는 못합니다. \n",
    "# 명사 추출기의 명사 점수와 Cohesion 을 함께 이용할 수도 있습니다. \n",
    "# 즉, WordExtractor 에서의 \"Cohesion 점수 + LRNounExtractor 에서의 명사 점수\"를 단어 점수로 활용\n",
    "\n",
    "\n",
    "## LRNounExtractor 학습\n",
    "noun_extractor = LRNounExtractor()\n",
    "nouns = noun_extractor.train_extract(list(tmp_df['리뷰 hanspell 후'])) # list of str like\n",
    "\n",
    "\n",
    "## WordExtractor 학습\n",
    "word_extractor = WordExtractor(\n",
    "    min_frequency=50, # example\n",
    "    min_cohesion_forward=0.05, # 응집확률?\n",
    "    min_right_branching_entropy=0.0\n",
    ")\n",
    "word_extractor.train(list(tmp_df['리뷰 hanspell 후']))\n",
    "words = word_extractor.extract()\n",
    "\n",
    "\n",
    "## 다양한 통계 수치 점수 계산 right_branching_entropy\n",
    "\n",
    "cohesion_score = {word:score.cohesion_forward for word, score in words.items()}\n",
    "entropy_score = {word:score.right_branching_entropy for word, score in words.items()}\n",
    "\n",
    "noun_scores = {noun:score.score for noun, score in nouns.items()}\n",
    "\n",
    "\n",
    "combined_scores = {noun:score + cohesion_score.get(noun, 0)\n",
    "    for noun, score in noun_scores.items()}\n",
    "combined_scores.update(\n",
    "    {subword:cohesion for subword, cohesion in cohesion_score.items()\n",
    "    if not (subword in combined_scores)}\n",
    ")\n",
    "\n",
    "combined_scores2 = {noun:score + entropy_score.get(noun, 0)\n",
    "    for noun, score in noun_scores.items()}\n",
    "combined_scores2.update(\n",
    "    {subword:entropy for subword, entropy in entropy_score.items()\n",
    "    if not (subword in combined_scores)}\n",
    ")\n",
    "\n",
    "# 계산된 통계수치에서 원하는 통계수치를 사용하여 문자열을 토큰화\n",
    "tokenizer1 = LTokenizer(scores=cohesion_score)\n",
    "tokenizer2 = LTokenizer(scores=entropy_score)\n",
    "tokenizer3 = LTokenizer(scores=noun_scores)\n",
    "tokenizer4 = LTokenizer(scores=combined_scores)\n",
    "tokenizer5 = LTokenizer(scores=combined_scores2)"
   ]
  },
  {
   "cell_type": "code",
   "execution_count": 47,
   "id": "aa18eea7",
   "metadata": {
    "scrolled": true
   },
   "outputs": [
    {
     "name": "stdout",
     "output_type": "stream",
     "text": [
      "편해서 좋은데 자꾸 충동구매를 부르네요\n",
      "굳 너무 좋고 편리해요\n",
      "['편해', '서', '좋은데', '자꾸', '충동구매를', '부르네요']\n",
      "['굳', '너무', '좋고', '편리해요']\n"
     ]
    }
   ],
   "source": [
    "train_list=list(tmp_df['리뷰 hanspell 후'])\n",
    "print(str(train_list[0]))\n",
    "print(str(train_list[1]))\n",
    "print(tokenizer1.tokenize(str(train_list[0])))\n",
    "print(tokenizer1.tokenize(str(train_list[1])))"
   ]
  },
  {
   "cell_type": "code",
   "execution_count": 48,
   "id": "ee0c1dc7",
   "metadata": {},
   "outputs": [
    {
     "name": "stdout",
     "output_type": "stream",
     "text": [
      "편해서 좋은데 자꾸 충동구매를 부르네요\n",
      "굳 너무 좋고 편리해요\n",
      "['편해서', '좋은', '데', '자꾸', '충동구매를', '부르네요']\n",
      "['굳', '너무', '좋고', '편리해요']\n"
     ]
    }
   ],
   "source": [
    "train_list=list(tmp_df['리뷰 hanspell 후'])\n",
    "print(str(train_list[0]))\n",
    "print(str(train_list[1]))\n",
    "print(tokenizer2.tokenize(str(train_list[0])))\n",
    "print(tokenizer2.tokenize(str(train_list[1])))"
   ]
  },
  {
   "cell_type": "code",
   "execution_count": 49,
   "id": "00077ca9",
   "metadata": {},
   "outputs": [
    {
     "name": "stdout",
     "output_type": "stream",
     "text": [
      "편해서 좋은데 자꾸 충동구매를 부르네요\n",
      "굳 너무 좋고 편리해요\n",
      "['편해서', '좋은데', '자꾸', '충동구매를', '부르네요']\n",
      "['굳', '너무', '좋고', '편리', '해요']\n"
     ]
    }
   ],
   "source": [
    "train_list=list(tmp_df['리뷰 hanspell 후'])\n",
    "print(str(train_list[0]))\n",
    "print(str(train_list[1]))\n",
    "print(tokenizer3.tokenize(str(train_list[0])))\n",
    "print(tokenizer3.tokenize(str(train_list[1])))"
   ]
  },
  {
   "cell_type": "code",
   "execution_count": 50,
   "id": "e2a70853",
   "metadata": {},
   "outputs": [
    {
     "name": "stdout",
     "output_type": "stream",
     "text": [
      "편해서 좋은데 자꾸 충동구매를 부르네요\n",
      "굳 너무 좋고 편리해요\n",
      "['편해', '서', '좋은데', '자꾸', '충동구매를', '부르네요']\n",
      "['굳', '너무', '좋고', '편리', '해요']\n"
     ]
    }
   ],
   "source": [
    "train_list=list(tmp_df['리뷰 hanspell 후'])\n",
    "print(str(train_list[0]))\n",
    "print(str(train_list[1]))\n",
    "print(tokenizer4.tokenize(str(train_list[0])))\n",
    "print(tokenizer4.tokenize(str(train_list[1])))"
   ]
  },
  {
   "cell_type": "code",
   "execution_count": 51,
   "id": "ef17ed67",
   "metadata": {},
   "outputs": [
    {
     "name": "stdout",
     "output_type": "stream",
     "text": [
      "편해서 좋은데 자꾸 충동구매를 부르네요\n",
      "굳 너무 좋고 편리해요\n",
      "['편해서', '좋은데', '자꾸', '충동구매를', '부르네요']\n",
      "['굳', '너무', '좋고', '편리', '해요']\n"
     ]
    }
   ],
   "source": [
    "train_list=list(tmp_df['리뷰 hanspell 후'])\n",
    "print(str(train_list[0]))\n",
    "print(str(train_list[1]))\n",
    "print(tokenizer5.tokenize(str(train_list[0])))\n",
    "print(tokenizer5.tokenize(str(train_list[1])))"
   ]
  },
  {
   "cell_type": "markdown",
   "id": "5b9a04f4",
   "metadata": {},
   "source": [
    "### 원하는 조건의 명사만 추출"
   ]
  },
  {
   "cell_type": "code",
   "execution_count": 30,
   "id": "bab09970",
   "metadata": {
    "scrolled": true
   },
   "outputs": [
    {
     "name": "stdout",
     "output_type": "stream",
     "text": [
      "[Noun Extractor] use default predictors\n",
      "[Noun Extractor] num features: pos=3929, neg=2321, common=107\n",
      "[Noun Extractor] counting eojeols\n",
      "[EojeolCounter] n eojeol = 11525 from 4900 sents. mem=0.198 Gb                    \n",
      "[Noun Extractor] complete eojeol counter -> lr graph\n",
      "[Noun Extractor] has been trained. #eojeols=37004, mem=0.202 Gb\n",
      "[Noun Extractor] batch prediction was completed for 2709 words\n",
      "[Noun Extractor] checked compounds. discovered 180 compounds\n",
      "[Noun Extractor] postprocessing detaching_features : 1241 -> 1153\n",
      "[Noun Extractor] postprocessing ignore_features : 1153 -> 1119\n",
      "[Noun Extractor] postprocessing ignore_NJ : 1119 -> 1118\n",
      "[Noun Extractor] 1118 nouns (180 compounds) with min frequency=1\n",
      "[Noun Extractor] flushing was done. mem=0.208 Gb                    \n",
      "[Noun Extractor] 54.18 % eojeols are covered\n",
      "{'HTTP400': NounScore(frequency=4, score=1.0), '1000캐시': NounScore(frequency=3, score=1.0), '좋아요~신선': NounScore(frequency=2, score=1.0), '100원짜리': NounScore(frequency=2, score=1.0), '배송기사님들': NounScore(frequency=2, score=1.0), '택배기사님들': NounScore(frequency=2, score=1.0), '네이버페이': NounScore(frequency=10, score=1.0), '위시리스트': NounScore(frequency=8, score=1.0), '1:1문의': NounScore(frequency=6, score=1.0), '인터페이스': NounScore(frequency=6, score=1.0), '카카오페이': NounScore(frequency=7, score=1.0), '블랙리스트': NounScore(frequency=14, score=0.8235294117647058), '카테고리별': NounScore(frequency=3, score=1.0), '온라인쇼핑': NounScore(frequency=3, score=1.0), '업그레이드': NounScore(frequency=2, score=1.0), '1000원': NounScore(frequency=4, score=1.0), '구글코리아': NounScore(frequency=2, score=1.0), '배송기사님': NounScore(frequency=4, score=0.8), '종이테이프': NounScore(frequency=3, score=0.75), '장바구니': NounScore(frequency=89, score=1.0), '100개': NounScore(frequency=4, score=1.0), '과대포장': NounScore(frequency=9, score=1.0), '아니라고': NounScore(frequency=3, score=1.0), '업데이트': NounScore(frequency=84, score=0.95), '다이어트': NounScore(frequency=3, score=0.5), '스트레스': NounScore(frequency=3, score=0.75), '카테고리': NounScore(frequency=18, score=1.0), '온라인몰': NounScore(frequency=1, score=0.5), '고객센터': NounScore(frequency=23, score=1.0), '스티로폼': NounScore(frequency=7, score=1.0), '친환경적': NounScore(frequency=4, score=1.0), '무료배송': NounScore(frequency=16, score=1.0), '100원': NounScore(frequency=16, score=1.0), '포장상태': NounScore(frequency=13, score=1.0), '종이박스': NounScore(frequency=5, score=0.6), '인증번호': NounScore(frequency=6, score=1.0), '계좌이체': NounScore(frequency=3, score=1.0), '배송상태': NounScore(frequency=3, score=1.0), '오아시스': NounScore(frequency=3, score=1.0), '일일특가': NounScore(frequency=1, score=1.0), '분리수거': NounScore(frequency=1, score=0.5), '회원가입': NounScore(frequency=22, score=1.0), '신속배달': NounScore(frequency=2, score=0.4), '다운로드': NounScore(frequency=4, score=1.0), '반신반의': NounScore(frequency=2, score=1.0), '디스플레': NounScore(frequency=3, score=1.0), '할인쿠폰': NounScore(frequency=40, score=1.0), '결제수단': NounScore(frequency=8, score=1.0), '충청지역': NounScore(frequency=2, score=1.0), '공단지역': NounScore(frequency=3, score=1.0), '신선식품': NounScore(frequency=18, score=1.0), '신선제품': NounScore(frequency=10, score=0.6), '냉동제품': NounScore(frequency=2, score=1.0), '가공식품': NounScore(frequency=1, score=0.5), '비닐포장': NounScore(frequency=2, score=1.0), '배송시간': NounScore(frequency=2, score=1.0), '비밀번호': NounScore(frequency=11, score=1.0), '마일리지': NounScore(frequency=1, score=1.0), '결재수단': NounScore(frequency=4, score=1.0), '소량포장': NounScore(frequency=2, score=1.0), '냉동식품': NounScore(frequency=10, score=0.75), '유통기한': NounScore(frequency=5, score=1.0), '아이스팩': NounScore(frequency=9, score=1.0), '생활용품': NounScore(frequency=2, score=0.6666666666666666), '직원분들': NounScore(frequency=3, score=1.0), '반품비용': NounScore(frequency=2, score=1.0), '포장박스': NounScore(frequency=2, score=1.0), '메인화면': NounScore(frequency=3, score=1.0), '기사님들': NounScore(frequency=9, score=1.0), '카카오톡': NounScore(frequency=4, score=1.0), '오배송지': NounScore(frequency=1, score=1.0), '요구르트': NounScore(frequency=2, score=1.0), '신선배송': NounScore(frequency=2, score=1.0), '후발주자': NounScore(frequency=2, score=1.0), '대형마트': NounScore(frequency=4, score=1.0), '공동현관': NounScore(frequency=7, score=1.0), '추천상품': NounScore(frequency=3, score=1.0), '신속배송': NounScore(frequency=2, score=1.0), '전화번호': NounScore(frequency=2, score=0.6666666666666666), '신용카드': NounScore(frequency=5, score=1.0), '여기서': NounScore(frequency=9, score=1.0), '20개': NounScore(frequency=3, score=1.0), '포인트': NounScore(frequency=25, score=1.0), '상품들': NounScore(frequency=15, score=1.0), '핸드폰': NounScore(frequency=12, score=1.0), '식재료': NounScore(frequency=19, score=0.8461538461538461), '물품들': NounScore(frequency=3, score=1.0), '대만족': NounScore(frequency=6, score=0.4), '신세계': NounScore(frequency=10, score=0.75), '가성비': NounScore(frequency=16, score=1.0), '서비스': NounScore(frequency=48, score=0.92), '위생적': NounScore(frequency=2, score=1.0), '베리굿': NounScore(frequency=1, score=0.5), '믿을만': NounScore(frequency=4, score=1.0), '좋은듯': NounScore(frequency=2, score=1.0), '불가능': NounScore(frequency=4, score=1.0), '로그인': NounScore(frequency=26, score=1.0), '페이지': NounScore(frequency=32, score=1.0), '냉장고': NounScore(frequency=7, score=1.0), '사이트': NounScore(frequency=12, score=1.0), '쇼핑몰': NounScore(frequency=8, score=1.0), '휴대폰': NounScore(frequency=6, score=1.0), '브랜드': NounScore(frequency=6, score=1.0), '경쟁사': NounScore(frequency=2, score=1.0), '활성화': NounScore(frequency=2, score=1.0), '합리적': NounScore(frequency=10, score=1.0), '직관적': NounScore(frequency=14, score=1.0), '일시적': NounScore(frequency=5, score=1.0), '적극적': NounScore(frequency=2, score=1.0), '시스템': NounScore(frequency=27, score=1.0), '전반적': NounScore(frequency=8, score=1.0), '정상적': NounScore(frequency=3, score=1.0), '느낌적': NounScore(frequency=2, score=1.0), '객관적': NounScore(frequency=2, score=1.0), '월요일': NounScore(frequency=2, score=1.0), '씨제이': NounScore(frequency=1, score=0.5), '일주일': NounScore(frequency=1, score=0.5), '이야기': NounScore(frequency=1, score=1.0), '다음날': NounScore(frequency=38, score=1.0), '사람들': NounScore(frequency=10, score=1.0), '소비자': NounScore(frequency=19, score=1.0), '직장인': NounScore(frequency=2, score=1.0), '상담사': NounScore(frequency=3, score=1.0), '퀄리티': NounScore(frequency=32, score=1.0), '이벤트': NounScore(frequency=57, score=1.0), '쓰레기': NounScore(frequency=6, score=1.0), '가격대': NounScore(frequency=6, score=1.0), '먹거리': NounScore(frequency=21, score=1.0), '밀키트': NounScore(frequency=12, score=0.6666666666666666), '배송비': NounScore(frequency=17, score=1.0), '선택지': NounScore(frequency=2, score=1.0), '신선도': NounScore(frequency=25, score=0.6363636363636364), '이미지': NounScore(frequency=3, score=1.0), '포장지': NounScore(frequency=5, score=1.0), '아이디': NounScore(frequency=27, score=0.8333333333333334), '11시': NounScore(frequency=15, score=1.0), '만족도': NounScore(frequency=4, score=1.0), '식자재': NounScore(frequency=4, score=1.0), '배송료': NounScore(frequency=2, score=1.0), '삼다수': NounScore(frequency=3, score=1.0), '키워드': NounScore(frequency=3, score=1.0), 'sns': NounScore(frequency=2, score=1.0), '이용자': NounScore(frequency=3, score=1.0), '아파트': NounScore(frequency=9, score=1.0), '와이프': NounScore(frequency=2, score=1.0), '세분화': NounScore(frequency=3, score=1.0), '테이프': NounScore(frequency=5, score=1.0), '리스트': NounScore(frequency=5, score=0.5), '화살표': NounScore(frequency=2, score=1.0), '보너스': NounScore(frequency=2, score=1.0), '고객들': NounScore(frequency=3, score=1.0), '최저가': NounScore(frequency=2, score=0.6666666666666666), '네이버': NounScore(frequency=9, score=1.0), '경비실': NounScore(frequency=3, score=1.0), '아무리': NounScore(frequency=6, score=1.0), '카카오': NounScore(frequency=16, score=0.8888888888888888), '재료들': NounScore(frequency=3, score=1.0), '가운데': NounScore(frequency=2, score=1.0), '검색어': NounScore(frequency=8, score=1.0), '이메일': NounScore(frequency=10, score=1.0), '주문서': NounScore(frequency=2, score=1.0), '물건별': NounScore(frequency=1, score=0.5), '모바일': NounScore(frequency=3, score=1.0), '전단계': NounScore(frequency=2, score=1.0), '속상해': NounScore(frequency=1, score=1.0), '재입고': NounScore(frequency=8, score=1.0), '적립금': NounScore(frequency=30, score=1.0), '배송굿': NounScore(frequency=5, score=0.5555555555555556), '어지간': NounScore(frequency=2, score=1.0), '사기꾼': NounScore(frequency=2, score=1.0), '불필요': NounScore(frequency=4, score=1.0), '테스트': NounScore(frequency=3, score=1.0), '디자인': NounScore(frequency=8, score=1.0), '편리함': NounScore(frequency=19, score=0.8636363636363636), '품목들': NounScore(frequency=3, score=1.0), '사진들': NounScore(frequency=3, score=1.0), '직원들': NounScore(frequency=3, score=1.0), '소포장': NounScore(frequency=5, score=1.0), '재활용': NounScore(frequency=6, score=1.0), '보라색': NounScore(frequency=3, score=1.0), '친환경': NounScore(frequency=19, score=1.0), '오배송': NounScore(frequency=10, score=1.0), '자취생': NounScore(frequency=3, score=1.0), '대학생': NounScore(frequency=2, score=1.0), '대용량': NounScore(frequency=3, score=1.0), '화장품': NounScore(frequency=2, score=1.0), '토요일': NounScore(frequency=3, score=1.0), '게시판': NounScore(frequency=3, score=1.0), '지난번': NounScore(frequency=2, score=1.0), '플레이': NounScore(frequency=2, score=0.6666666666666666), '사용자': NounScore(frequency=7, score=1.0), '지역이': NounScore(frequency=5, score=0.8333333333333334), '노동자': NounScore(frequency=5, score=1.0), '럭셔리': NounScore(frequency=2, score=1.0), '제품들': NounScore(frequency=10, score=0.9090909090909091), '스크롤': NounScore(frequency=12, score=1.0), '신선함': NounScore(frequency=3, score=0.6), '음식들': NounScore(frequency=6, score=1.0), '생필품': NounScore(frequency=2, score=1.0), '30분': NounScore(frequency=5, score=1.0), '배송일': NounScore(frequency=5, score=1.0), '피드백': NounScore(frequency=5, score=1.0), '재배송': NounScore(frequency=4, score=1.0), '재설치': NounScore(frequency=8, score=1.0), '24시': NounScore(frequency=1, score=0.3333333333333333), '일요일': NounScore(frequency=3, score=1.0), '생산자': NounScore(frequency=2, score=1.0), '공산품': NounScore(frequency=2, score=1.0), '개인적': NounScore(frequency=3, score=1.0), '실시간': NounScore(frequency=3, score=1.0), '마지막': NounScore(frequency=5, score=1.0), '***': NounScore(frequency=2, score=1.0), '물건들': NounScore(frequency=9, score=1.0), '경쟁력': NounScore(frequency=5, score=1.0), '신상품': NounScore(frequency=2, score=1.0), '식품들': NounScore(frequency=6, score=1.0), '다양성': NounScore(frequency=8, score=1.0), '마케팅': NounScore(frequency=1, score=0.5), '할인율': NounScore(frequency=5, score=1.0), '일부러': NounScore(frequency=3, score=1.0), '너무나': NounScore(frequency=4, score=1.0), '1문의': NounScore(frequency=2, score=1.0), '결제창': NounScore(frequency=3, score=1.0), '간편식': NounScore(frequency=2, score=1.0), '상품평': NounScore(frequency=3, score=1.0), '노동력': NounScore(frequency=2, score=1.0), '잘되어': NounScore(frequency=6, score=1.0), '사라져': NounScore(frequency=3, score=1.0), '검색창': NounScore(frequency=12, score=1.0), '아이템': NounScore(frequency=3, score=1.0), 'ssg': NounScore(frequency=2, score=1.0), '가입자': NounScore(frequency=2, score=1.0), '제시간': NounScore(frequency=2, score=1.0), '샐러드': NounScore(frequency=7, score=0.875), '타이밍': NounScore(frequency=3, score=1.0), '20분': NounScore(frequency=2, score=1.0), '스토어': NounScore(frequency=2, score=1.0), '재구매': NounScore(frequency=5, score=0.7142857142857143), '상담원': NounScore(frequency=4, score=0.8), '가슴살': NounScore(frequency=5, score=1.0), '실용적': NounScore(frequency=2, score=1.0), '효율적': NounScore(frequency=2, score=1.0), '믿음직': NounScore(frequency=2, score=0.5), '향신료': NounScore(frequency=2, score=1.0), '재주문': NounScore(frequency=2, score=1.0), '차별화': NounScore(frequency=2, score=1.0), '대부분': NounScore(frequency=11, score=1.0), '플랫폼': NounScore(frequency=2, score=1.0), '회원가': NounScore(frequency=2, score=1.0), '내용물': NounScore(frequency=4, score=0.8), '과포장': NounScore(frequency=2, score=0.5), '복불복': NounScore(frequency=1, score=0.5), '편의성': NounScore(frequency=4, score=1.0), '10분': NounScore(frequency=2, score=0.6666666666666666), '사용성': NounScore(frequency=2, score=1.0), '기사님': NounScore(frequency=2, score=1.0), '아쉬움': NounScore(frequency=2, score=0.6666666666666666), '가독성': NounScore(frequency=2, score=1.0), '전지현': NounScore(frequency=3, score=1.0), '신뢰감': NounScore(frequency=1, score=0.5), '대표님': NounScore(frequency=4, score=1.0), '문제점': NounScore(frequency=2, score=1.0), '그동안': NounScore(frequency=4, score=1.0), '사장님': NounScore(frequency=3, score=0.75), '고객님': NounScore(frequency=1, score=0.5), '배송지': NounScore(frequency=8, score=1.0), '음식물': NounScore(frequency=3, score=1.0), '고구마': NounScore(frequency=1, score=0.5), '프레시': NounScore(frequency=3, score=1.0), '마인드': NounScore(frequency=1, score=1.0), '불안정': NounScore(frequency=1, score=0.5), '컬리': NounScore(frequency=355, score=0.9629629629629629), '상품': NounScore(frequency=404, score=0.9901477832512315), '제품': NounScore(frequency=281, score=1.0), '화면': NounScore(frequency=20, score=1.0), '쿠팡': NounScore(frequency=58, score=1.0), '이것': NounScore(frequency=4, score=1.0), '박스': NounScore(frequency=47, score=1.0), '리뷰': NounScore(frequency=59, score=0.9090909090909091), '많지': NounScore(frequency=2, score=0.6666666666666666), '로딩': NounScore(frequency=18, score=1.0), '실온': NounScore(frequency=8, score=1.0), '이점': NounScore(frequency=3, score=1.0), '샛별': NounScore(frequency=95, score=1.0), '배송': NounScore(frequency=927, score=1.0), '내용': NounScore(frequency=17, score=1.0), '결제': NounScore(frequency=83, score=1.0), '메뉴': NounScore(frequency=16, score=1.0), '가격': NounScore(frequency=110, score=1.0), '포장': NounScore(frequency=153, score=1.0), '그것': NounScore(frequency=10, score=1.0), '정도': NounScore(frequency=19, score=0.8), '부분': NounScore(frequency=24, score=1.0), '광고': NounScore(frequency=19, score=1.0), '처음': NounScore(frequency=41, score=1.0), '고객': NounScore(frequency=16, score=1.0), '시작': NounScore(frequency=12, score=1.0), '인증': NounScore(frequency=5, score=1.0), '문구': NounScore(frequency=1, score=1.0), '냉동': NounScore(frequency=13, score=0.65), '오류': NounScore(frequency=71, score=0.8709677419354839), '대략': NounScore(frequency=2, score=0.6666666666666666), '버튼': NounScore(frequency=20, score=1.0), '1개': NounScore(frequency=5, score=1.0), '것들': NounScore(frequency=10, score=1.0), '글자': NounScore(frequency=5, score=1.0), '식빵': NounScore(frequency=5, score=1.0), '중간': NounScore(frequency=2, score=1.0), '초심': NounScore(frequency=2, score=1.0), '제목': NounScore(frequency=2, score=1.0), '최고': NounScore(frequency=74, score=0.6585365853658537), '감동': NounScore(frequency=7, score=1.0), '사랑': NounScore(frequency=13, score=1.0), '만족': NounScore(frequency=229, score=1.0), '생각': NounScore(frequency=53, score=1.0), '대박': NounScore(frequency=8, score=1.0), '마켓': NounScore(frequency=273, score=1.0), '지역': NounScore(frequency=19, score=1.0), '기분': NounScore(frequency=18, score=1.0), '혁명': NounScore(frequency=2, score=0.6666666666666666), '실망': NounScore(frequency=7, score=1.0), '기업': NounScore(frequency=16, score=1.0), '다음': NounScore(frequency=8, score=1.0), '편리': NounScore(frequency=305, score=1.0), '신선': NounScore(frequency=298, score=1.0), '불편': NounScore(frequency=67, score=1.0), '깔끔': NounScore(frequency=101, score=1.0), '감사': NounScore(frequency=76, score=0.9722222222222222), '싱싱': NounScore(frequency=43, score=1.0), '이용': NounScore(frequency=208, score=1.0), '유용': NounScore(frequency=27, score=1.0), '꼼꼼': NounScore(frequency=15, score=1.0), '다양': NounScore(frequency=168, score=1.0), '훌륭': NounScore(frequency=6, score=1.0), '부탁': NounScore(frequency=12, score=1.0), '추천': NounScore(frequency=32, score=1.0), '친절': NounScore(frequency=19, score=1.0), '완벽': NounScore(frequency=9, score=1.0), '사용': NounScore(frequency=369, score=1.0), '주문': NounScore(frequency=267, score=1.0), '우수': NounScore(frequency=6, score=1.0), '정확': NounScore(frequency=27, score=1.0), '구매': NounScore(frequency=179, score=0.9831932773109243), '행복': NounScore(frequency=8, score=1.0), '신속': NounScore(frequency=20, score=1.0), '필요': NounScore(frequency=67, score=1.0), '저렴': NounScore(frequency=79, score=1.0), '이상': NounScore(frequency=40, score=1.0), '강추': NounScore(frequency=5, score=1.0), '편안': NounScore(frequency=5, score=1.0), '튼튼': NounScore(frequency=2, score=1.0), '작성': NounScore(frequency=5, score=1.0), '복잡': NounScore(frequency=3, score=1.0), '가득': NounScore(frequency=4, score=1.0), '풍성': NounScore(frequency=4, score=1.0), '존재': NounScore(frequency=1, score=0.3333333333333333), '추가': NounScore(frequency=37, score=1.0), '가입': NounScore(frequency=32, score=1.0), '연락': NounScore(frequency=18, score=1.0), '문의': NounScore(frequency=27, score=1.0), '검증': NounScore(frequency=5, score=1.0), '엉망': NounScore(frequency=3, score=1.0), '소개': NounScore(frequency=10, score=1.0), '칭찬': NounScore(frequency=3, score=1.0), '회수': NounScore(frequency=3, score=1.0), '다녀': NounScore(frequency=2, score=0.3333333333333333), '안심': NounScore(frequency=9, score=1.0), '걱정': NounScore(frequency=9, score=1.0), '중독': NounScore(frequency=4, score=1.0), '분리': NounScore(frequency=2, score=1.0), '도착': NounScore(frequency=34, score=1.0), '가능': NounScore(frequency=43, score=1.0), '등록': NounScore(frequency=10, score=1.0), '설치': NounScore(frequency=17, score=1.0), '삭제': NounScore(frequency=23, score=1.0), '세일': NounScore(frequency=11, score=1.0), '일어': NounScore(frequency=4, score=1.0), '구입': NounScore(frequency=44, score=1.0), '선택': NounScore(frequency=40, score=1.0), '쇼핑': NounScore(frequency=64, score=1.0), '검색': NounScore(frequency=103, score=1.0), '확인': NounScore(frequency=33, score=1.0), '애용': NounScore(frequency=44, score=1.0), '신뢰': NounScore(frequency=17, score=1.0), '수정': NounScore(frequency=27, score=1.0), '출근': NounScore(frequency=11, score=1.0), '취소': NounScore(frequency=21, score=1.0), '개선': NounScore(frequency=51, score=1.0), '결정': NounScore(frequency=4, score=1.0), '배달': NounScore(frequency=68, score=1.0), '대체': NounScore(frequency=18, score=1.0), '비교': NounScore(frequency=6, score=1.0), '발전': NounScore(frequency=9, score=1.0), '미안': NounScore(frequency=6, score=1.0), '위험': NounScore(frequency=4, score=1.0), '이동': NounScore(frequency=5, score=1.0), '행사': NounScore(frequency=7, score=1.0), '수월': NounScore(frequency=2, score=1.0), '탈퇴': NounScore(frequency=7, score=1.0), '입력': NounScore(frequency=19, score=1.0), '나열': NounScore(frequency=6, score=1.0), '비슷': NounScore(frequency=7, score=1.0), '답답': NounScore(frequency=7, score=1.0), '지정': NounScore(frequency=2, score=1.0), '정렬': NounScore(frequency=13, score=1.0), '입금': NounScore(frequency=4, score=1.0), '교환': NounScore(frequency=3, score=1.0), '표현': NounScore(frequency=1, score=0.5), '퇴근': NounScore(frequency=2, score=1.0), '적용': NounScore(frequency=6, score=1.0), '신청': NounScore(frequency=10, score=1.0), '조회': NounScore(frequency=7, score=1.0), '통화': NounScore(frequency=3, score=1.0), '충분': NounScore(frequency=2, score=0.6666666666666666), '공유': NounScore(frequency=3, score=1.0), '마트': NounScore(frequency=54, score=1.0), '내역': NounScore(frequency=10, score=1.0), '세상': NounScore(frequency=13, score=1.0), '목록': NounScore(frequency=10, score=1.0), '입장': NounScore(frequency=11, score=1.0), '주변': NounScore(frequency=8, score=1.0), '경쟁': NounScore(frequency=2, score=0.6666666666666666), '결과': NounScore(frequency=9, score=1.0), '과정': NounScore(frequency=7, score=1.0), '측면': NounScore(frequency=3, score=1.0), '회사': NounScore(frequency=6, score=1.0), '시중': NounScore(frequency=3, score=1.0), '기간': NounScore(frequency=7, score=1.0), '카드': NounScore(frequency=12, score=1.0), '카톡': NounScore(frequency=16, score=1.0), '항목': NounScore(frequency=7, score=1.0), '업계': NounScore(frequency=2, score=1.0), '일본': NounScore(frequency=4, score=1.0), 'CS': NounScore(frequency=2, score=1.0), 'PC': NounScore(frequency=2, score=1.0), '누락': NounScore(frequency=8, score=1.0), '표시': NounScore(frequency=12, score=1.0), '보장': NounScore(frequency=4, score=1.0), '해결': NounScore(frequency=18, score=1.0), '완료': NounScore(frequency=12, score=1.0), '입고': NounScore(frequency=2, score=1.0), '식품': NounScore(frequency=50, score=1.0), '구글': NounScore(frequency=7, score=0.875), '지방': NounScore(frequency=11, score=1.0), '기기': NounScore(frequency=2, score=1.0), '신기': NounScore(frequency=2, score=0.6666666666666666), '요청': NounScore(frequency=3, score=1.0), '불가': NounScore(frequency=14, score=1.0), '품절': NounScore(frequency=19, score=1.0), '최악': NounScore(frequency=4, score=0.6666666666666666), '장점': NounScore(frequency=9, score=1.0), '기능': NounScore(frequency=87, score=1.0), '질적': NounScore(frequency=3, score=1.0), '필수': NounScore(frequency=5, score=0.8333333333333334), '7시': NounScore(frequency=10, score=1.0), '세심': NounScore(frequency=5, score=1.0), '지금': NounScore(frequency=28, score=1.0), '번째': NounScore(frequency=4, score=0.8), '새벽': NounScore(frequency=212, score=1.0), '마감': NounScore(frequency=7, score=1.0), '기본': NounScore(frequency=5, score=1.0), '진입': NounScore(frequency=3, score=1.0), '가구': NounScore(frequency=5, score=0.6), '회원': NounScore(frequency=8, score=1.0), '사람': NounScore(frequency=28, score=1.0), '주부': NounScore(frequency=3, score=1.0), '누구': NounScore(frequency=2, score=1.0), '가족': NounScore(frequency=7, score=1.0), '부부': NounScore(frequency=2, score=1.0), '변경': NounScore(frequency=3, score=1.0), '종류': NounScore(frequency=49, score=1.0), '문제': NounScore(frequency=28, score=0.9047619047619048), '에러': NounScore(frequency=19, score=1.0), '택배': NounScore(frequency=46, score=1.0), '경우': NounScore(frequency=15, score=1.0), '재료': NounScore(frequency=23, score=1.0), '재미': NounScore(frequency=6, score=1.0), '자체': NounScore(frequency=14, score=1.0), '처리': NounScore(frequency=20, score=1.0), '채소': NounScore(frequency=10, score=0.7142857142857143), '정리': NounScore(frequency=10, score=1.0), '정보': NounScore(frequency=10, score=0.7142857142857143), '후기': NounScore(frequency=33, score=0.3333333333333333), '결재': NounScore(frequency=13, score=1.0), '분류': NounScore(frequency=8, score=1.0), 'UI': NounScore(frequency=4, score=1.0), '친구': NounScore(frequency=13, score=1.0), '상태': NounScore(frequency=19, score=1.0), '우유': NounScore(frequency=4, score=1.0), '상자': NounScore(frequency=7, score=1.0), '캐시': NounScore(frequency=13, score=1.0), '야채': NounScore(frequency=22, score=1.0), '기회': NounScore(frequency=3, score=1.0), '성의': NounScore(frequency=2, score=0.6666666666666666), '대우': NounScore(frequency=3, score=1.0), '판매': NounScore(frequency=15, score=1.0), '안내': NounScore(frequency=8, score=1.0), '고기': NounScore(frequency=8, score=1.0), '어디': NounScore(frequency=6, score=0.6666666666666666), '쓸데': NounScore(frequency=5, score=1.0), '기대': NounScore(frequency=14, score=1.0), '식구': NounScore(frequency=2, score=1.0), '5시': NounScore(frequency=2, score=1.0), '업체': NounScore(frequency=6, score=1.0), '유지': NounScore(frequency=1, score=1.0), '수고': NounScore(frequency=4, score=1.0), '속도': NounScore(frequency=7, score=1.0), '인기': NounScore(frequency=2, score=0.3333333333333333), '의사': NounScore(frequency=2, score=1.0), '접수': NounScore(frequency=4, score=1.0), '수거': NounScore(frequency=6, score=1.0), '관리': NounScore(frequency=12, score=1.0), '버그': NounScore(frequency=3, score=0.75), '준비': NounScore(frequency=11, score=1.0), '확대': NounScore(frequency=4, score=1.0), '갔다': NounScore(frequency=1, score=1.0), '우려': NounScore(frequency=2, score=1.0), '개수': NounScore(frequency=2, score=0.6666666666666666), '종이': NounScore(frequency=12, score=0.8571428571428571), '조치': NounScore(frequency=3, score=1.0), '공지': NounScore(frequency=2, score=1.0), '기재': NounScore(frequency=3, score=1.0), '실패': NounScore(frequency=4, score=1.0), '대파': NounScore(frequency=2, score=1.0), '아디': NounScore(frequency=3, score=1.0), '여자': NounScore(frequency=1, score=0.5), '서버': NounScore(frequency=4, score=1.0), '열수': NounScore(frequency=2, score=1.0), '배려': NounScore(frequency=2, score=1.0), '오너': NounScore(frequency=1, score=0.5), '바보': NounScore(frequency=2, score=1.0), '이따': NounScore(frequency=2, score=0.5), '보도': NounScore(frequency=1, score=0.5), '잡채': NounScore(frequency=3, score=1.0), '방법': NounScore(frequency=10, score=1.0), '건강': NounScore(frequency=7, score=1.0), '적절': NounScore(frequency=3, score=0.75), '이후': NounScore(frequency=17, score=1.0), '문자': NounScore(frequency=9, score=1.0), '페이': NounScore(frequency=4, score=0.8), '아래': NounScore(frequency=7, score=1.0), '공짜': NounScore(frequency=3, score=1.0), '순서': NounScore(frequency=3, score=1.0), '실제': NounScore(frequency=3, score=0.75), 'pc': NounScore(frequency=2, score=0.6666666666666666), '폭주': NounScore(frequency=2, score=1.0), '폭설': NounScore(frequency=2, score=1.0), '스티': NounScore(frequency=1, score=0.5), '선물': NounScore(frequency=7, score=1.0), '강제': NounScore(frequency=3, score=1.0), '단위': NounScore(frequency=2, score=1.0), '오늘': NounScore(frequency=31, score=1.0), '출고': NounScore(frequency=2, score=1.0), '고퀄': NounScore(frequency=3, score=1.0), '일부': NounScore(frequency=6, score=1.0), '실수': NounScore(frequency=5, score=1.0), '비닐': NounScore(frequency=1, score=0.5), '별도': NounScore(frequency=2, score=1.0), '환불': NounScore(frequency=23, score=1.0), '이해': NounScore(frequency=3, score=1.0), '장사': NounScore(frequency=4, score=1.0), '반복': NounScore(frequency=7, score=1.0), '참여': NounScore(frequency=2, score=0.6666666666666666), '자리': NounScore(frequency=2, score=1.0), '할인': NounScore(frequency=58, score=1.0), '로켓': NounScore(frequency=4, score=1.0), '무엇': NounScore(frequency=17, score=1.0), '버전': NounScore(frequency=6, score=1.0), '점검': NounScore(frequency=4, score=1.0), '백원': NounScore(frequency=2, score=1.0), '나중': NounScore(frequency=6, score=1.0), '개판': NounScore(frequency=3, score=1.0), '시골': NounScore(frequency=5, score=1.0), '요즘': NounScore(frequency=32, score=1.0), '제공': NounScore(frequency=12, score=1.0), '운영': NounScore(frequency=3, score=1.0), '지속': NounScore(frequency=2, score=0.4), '후회': NounScore(frequency=3, score=1.0), '참고': NounScore(frequency=5, score=1.0), '노력': NounScore(frequency=3, score=1.0), '저장': NounScore(frequency=4, score=0.6666666666666666), '진행': NounScore(frequency=4, score=1.0), '성장': NounScore(frequency=3, score=1.0), '활용': NounScore(frequency=5, score=1.0), '낭비': NounScore(frequency=1, score=0.5), '발송': NounScore(frequency=4, score=1.0), '지연': NounScore(frequency=13, score=1.0), '빨리': NounScore(frequency=47, score=1.0), '접속': NounScore(frequency=8, score=1.0), '발생': NounScore(frequency=11, score=1.0), '바람': NounScore(frequency=2, score=0.4), '설명': NounScore(frequency=31, score=1.0), '적립': NounScore(frequency=12, score=1.0), '연결': NounScore(frequency=6, score=1.0), '클릭': NounScore(frequency=12, score=1.0), '전화': NounScore(frequency=9, score=1.0), '주안': NounScore(frequency=2, score=1.0), '제외': NounScore(frequency=2, score=1.0), '포함': NounScore(frequency=2, score=1.0), '상장': NounScore(frequency=2, score=1.0), '먹통': NounScore(frequency=2, score=0.6666666666666666), '때문': NounScore(frequency=26, score=1.0), '정성': NounScore(frequency=8, score=1.0), '곰팡': NounScore(frequency=2, score=1.0), '반품': NounScore(frequency=7, score=1.0), '간편': NounScore(frequency=58, score=1.0), '관련': NounScore(frequency=14, score=1.0), '엄선': NounScore(frequency=4, score=1.0), '제거': NounScore(frequency=3, score=1.0), '변함': NounScore(frequency=2, score=1.0), '관계': NounScore(frequency=2, score=1.0), '품질': NounScore(frequency=103, score=1.0), '쿠폰': NounScore(frequency=172, score=1.0), '구성': NounScore(frequency=18, score=1.0), '아침': NounScore(frequency=79, score=1.0), '물건': NounScore(frequency=121, score=1.0), '음식': NounScore(frequency=58, score=1.0), '사진': NounScore(frequency=21, score=1.0), '등)': NounScore(frequency=6, score=1.0), '식단': NounScore(frequency=4, score=1.0), '식탁': NounScore(frequency=2, score=1.0), '조심': NounScore(frequency=2, score=1.0), '절약': NounScore(frequency=3, score=1.0), '대구': NounScore(frequency=4, score=1.0), '9시': NounScore(frequency=2, score=1.0), '자정': NounScore(frequency=1, score=0.5), '예전': NounScore(frequency=6, score=1.0), '부담': NounScore(frequency=8, score=1.0), '기억': NounScore(frequency=5, score=1.0), '뛰어': NounScore(frequency=3, score=1.0), '속상': NounScore(frequency=1, score=0.3333333333333333), '안녕': NounScore(frequency=2, score=0.4), '정말': NounScore(frequency=160, score=1.0), '죄송': NounScore(frequency=4, score=1.0), '자취': NounScore(frequency=3, score=1.0), '최근': NounScore(frequency=7, score=1.0), '사전': NounScore(frequency=4, score=1.0), '초반': NounScore(frequency=2, score=1.0), '파손': NounScore(frequency=3, score=1.0), '수입': NounScore(frequency=2, score=1.0), '노출': NounScore(frequency=3, score=1.0), '즐겨': NounScore(frequency=12, score=1.0), '소량': NounScore(frequency=18, score=1.0), '성공': NounScore(frequency=3, score=1.0), '느낌': NounScore(frequency=15, score=1.0), '기준': NounScore(frequency=6, score=1.0), '비용': NounScore(frequency=2, score=1.0), '주말': NounScore(frequency=6, score=1.0), '특이': NounScore(frequency=3, score=1.0), '얼마': NounScore(frequency=8, score=1.0), '적응': NounScore(frequency=3, score=1.0), '조금': NounScore(frequency=39, score=1.0), '시간': NounScore(frequency=40, score=1.0), '물품': NounScore(frequency=24, score=1.0), '대표': NounScore(frequency=2, score=1.0), '비번': NounScore(frequency=11, score=1.0), '이전': NounScore(frequency=10, score=1.0), '일반': NounScore(frequency=16, score=0.9411764705882353), '품목': NounScore(frequency=29, score=1.0), '간식': NounScore(frequency=2, score=1.0), '분실': NounScore(frequency=3, score=1.0), '반찬': NounScore(frequency=3, score=1.0), '시도': NounScore(frequency=5, score=1.0), '고생': NounScore(frequency=5, score=1.0), '도전': NounScore(frequency=1, score=0.5), '앱들': NounScore(frequency=5, score=1.0), '이번': NounScore(frequency=7, score=1.0), '고급': NounScore(frequency=15, score=1.0), '장난': NounScore(frequency=3, score=1.0), '파우': NounScore(frequency=1, score=0.5), '쏠쏠': NounScore(frequency=3, score=0.6), '극찬': NounScore(frequency=2, score=1.0), '용이': NounScore(frequency=6, score=1.0), '확실': NounScore(frequency=10, score=1.0), '부족': NounScore(frequency=8, score=1.0), '불안': NounScore(frequency=3, score=1.0), '홍보': NounScore(frequency=3, score=1.0), '응원': NounScore(frequency=2, score=0.4), '심각': NounScore(frequency=5, score=1.0), '환경': NounScore(frequency=15, score=1.0), '이름': NounScore(frequency=7, score=1.0), '가방': NounScore(frequency=5, score=1.0), '이득': NounScore(frequency=3, score=1.0), '한참': NounScore(frequency=5, score=1.0), '마음': NounScore(frequency=3, score=1.0), '과일': NounScore(frequency=13, score=0.6), '금액': NounScore(frequency=11, score=0.6), '작동': NounScore(frequency=3, score=1.0), '답변': NounScore(frequency=14, score=1.0), '저녁': NounScore(frequency=18, score=1.0), '생활': NounScore(frequency=7, score=1.0), '분들': NounScore(frequency=9, score=1.0), '단점': NounScore(frequency=6, score=1.0), '몇몇': NounScore(frequency=3, score=1.0), '혜택': NounScore(frequency=30, score=1.0), '기록': NounScore(frequency=4, score=1.0), '매력': NounScore(frequency=4, score=1.0), '만점': NounScore(frequency=2, score=1.0), '불만': NounScore(frequency=2, score=0.5), '관심': NounScore(frequency=11, score=0.9166666666666666), '지급': NounScore(frequency=2, score=1.0), '상온': NounScore(frequency=6, score=1.0), '인력': NounScore(frequency=2, score=1.0), '의견': NounScore(frequency=7, score=1.0), '혼밥': NounScore(frequency=2, score=0.3333333333333333), '일정': NounScore(frequency=3, score=1.0), '대책': NounScore(frequency=2, score=1.0), '수단': NounScore(frequency=2, score=1.0), '고민': NounScore(frequency=6, score=1.0), '방문': NounScore(frequency=2, score=1.0), '차별': NounScore(frequency=3, score=1.0), '유효': NounScore(frequency=1, score=0.3333333333333333), '지원': NounScore(frequency=3, score=1.0), '익숙': NounScore(frequency=2, score=0.3333333333333333), '응답': NounScore(frequency=3, score=1.0), '무리': NounScore(frequency=2, score=1.0), '아직': NounScore(frequency=28, score=1.0), '스마': NounScore(frequency=1, score=0.5), '물류': NounScore(frequency=3, score=0.75), '15': NounScore(frequency=1, score=0.3333333333333333), '실행': NounScore(frequency=7, score=1.0), '청소': NounScore(frequency=2, score=1.0), '알람': NounScore(frequency=4, score=1.0), '나아': NounScore(frequency=1, score=0.5), '대충': NounScore(frequency=3, score=1.0), '상단': NounScore(frequency=6, score=1.0), '진심': NounScore(frequency=6, score=1.0), '수준': NounScore(frequency=4, score=1.0), '자동': NounScore(frequency=2, score=1.0), '별점': NounScore(frequency=5, score=1.0), '지인': NounScore(frequency=5, score=1.0), '직장': NounScore(frequency=2, score=0.6666666666666666), '능력': NounScore(frequency=3, score=1.0), '여성': NounScore(frequency=1, score=0.5), '약속': NounScore(frequency=6, score=1.0), '모습': NounScore(frequency=4, score=1.0), '사건': NounScore(frequency=2, score=1.0), '번거': NounScore(frequency=6, score=1.0), '보상': NounScore(frequency=2, score=1.0), '안전': NounScore(frequency=9, score=1.0), '깨끗': NounScore(frequency=10, score=1.0), '자세': NounScore(frequency=10, score=1.0), '알뜰': NounScore(frequency=4, score=0.8), '간결': NounScore(frequency=7, score=1.0), '계속': NounScore(frequency=91, score=1.0), '상세': NounScore(frequency=11, score=0.6666666666666666), '정착': NounScore(frequency=2, score=1.0), '간단': NounScore(frequency=16, score=1.0), '단단': NounScore(frequency=1, score=0.5), '체크': NounScore(frequency=4, score=1.0), '제시': NounScore(frequency=3, score=1.0), '개발': NounScore(frequency=4, score=0.3333333333333333), '고려': NounScore(frequency=2, score=0.6666666666666666), '경험': NounScore(frequency=13, score=1.0), '구분': NounScore(frequency=7, score=1.0), '대응': NounScore(frequency=6, score=1.0), '검토': NounScore(frequency=2, score=1.0), '용서': NounScore(frequency=2, score=1.0), '선별': NounScore(frequency=3, score=1.0), '간혹': NounScore(frequency=2, score=1.0), '그래': NounScore(frequency=1, score=1.0), '않아': NounScore(frequency=7, score=0.5), '응대': NounScore(frequency=2, score=1.0), '대전': NounScore(frequency=3, score=1.0), '너무': NounScore(frequency=564, score=1.0), '슈퍼': NounScore(frequency=3, score=1.0), '편의': NounScore(frequency=2, score=1.0), '적어': NounScore(frequency=4, score=0.4444444444444444), '가게': NounScore(frequency=6, score=0.8571428571428571), '엄마': NounScore(frequency=2, score=1.0), '방금': NounScore(frequency=3, score=1.0), '구색': NounScore(frequency=2, score=1.0), '접근': NounScore(frequency=4, score=1.0), '직원': NounScore(frequency=4, score=1.0), '반응': NounScore(frequency=4, score=1.0), '텐데': NounScore(frequency=3, score=0.75), '패스': NounScore(frequency=3, score=1.0), '치즈': NounScore(frequency=4, score=1.0), '상담': NounScore(frequency=9, score=1.0), '그때': NounScore(frequency=4, score=1.0), '1분': NounScore(frequency=2, score=0.6666666666666666), '모델': NounScore(frequency=5, score=1.0), '요리': NounScore(frequency=5, score=1.0), '송장': NounScore(frequency=2, score=1.0), '출발': NounScore(frequency=3, score=1.0), '그거': NounScore(frequency=6, score=1.0), '구별': NounScore(frequency=4, score=1.0), '절감': NounScore(frequency=2, score=1.0), '손질': NounScore(frequency=1, score=0.5), '연동': NounScore(frequency=2, score=1.0), '한정': NounScore(frequency=2, score=1.0), '진작': NounScore(frequency=4, score=1.0), '알고': NounScore(frequency=8, score=0.8888888888888888), '한편': NounScore(frequency=2, score=1.0), '평소': NounScore(frequency=10, score=1.0), '시대': NounScore(frequency=6, score=1.0), '사이': NounScore(frequency=2, score=0.6666666666666666), '오후': NounScore(frequency=5, score=1.0), '향상': NounScore(frequency=3, score=1.0), '냉장': NounScore(frequency=12, score=0.5714285714285714), '3개': NounScore(frequency=5, score=1.0), '담날': NounScore(frequency=6, score=1.0), '점심': NounScore(frequency=2, score=0.6666666666666666), '1층': NounScore(frequency=5, score=1.0), '위생': NounScore(frequency=2, score=1.0), '기존': NounScore(frequency=3, score=1.0), '댓글': NounScore(frequency=5, score=1.0), '현관': NounScore(frequency=5, score=0.7142857142857143), '주제': NounScore(frequency=1, score=0.5), '입구': NounScore(frequency=2, score=1.0), '날짜': NounScore(frequency=3, score=1.0), 'ui': NounScore(frequency=3, score=1.0), '주위': NounScore(frequency=2, score=1.0), '공급': NounScore(frequency=1, score=0.5), '해명': NounScore(frequency=3, score=1.0), '감탄': NounScore(frequency=2, score=0.6666666666666666), '어쩌': NounScore(frequency=5, score=0.8333333333333334), '궁금': NounScore(frequency=5, score=1.0), '이내': NounScore(frequency=2, score=1.0), '메일': NounScore(frequency=2, score=1.0), '여전': NounScore(frequency=1, score=0.3333333333333333), '주식': NounScore(frequency=2, score=0.6666666666666666), '유익': NounScore(frequency=3, score=1.0), '양호': NounScore(frequency=1, score=0.3333333333333333), '영원': NounScore(frequency=1, score=0.3333333333333333), '캡처': NounScore(frequency=2, score=1.0), '해제': NounScore(frequency=2, score=1.0), '잘못': NounScore(frequency=11, score=1.0), '오래': NounScore(frequency=7, score=0.875), '특화': NounScore(frequency=2, score=0.6666666666666666), '조리': NounScore(frequency=1, score=0.3333333333333333), '소분': NounScore(frequency=1, score=0.3333333333333333), '앞서': NounScore(frequency=2, score=1.0), '막아': NounScore(frequency=3, score=1.0), '어떡': NounScore(frequency=2, score=1.0), '물어': NounScore(frequency=1, score=0.5), '다채': NounScore(frequency=2, score=1.0), '까다': NounScore(frequency=3, score=1.0), '확보': NounScore(frequency=2, score=1.0), '엄청': NounScore(frequency=22, score=1.0), '물량': NounScore(frequency=4, score=1.0), '평점': NounScore(frequency=7, score=1.0), '주민': NounScore(frequency=2, score=0.6666666666666666), '알림': NounScore(frequency=6, score=1.0), '증빙': NounScore(frequency=2, score=0.6666666666666666), '설정': NounScore(frequency=3, score=1.0), '성인': NounScore(frequency=2, score=0.5), '답글': NounScore(frequency=3, score=1.0), '2번': NounScore(frequency=2, score=0.6666666666666666), '3번': NounScore(frequency=5, score=0.625), '현상': NounScore(frequency=2, score=1.0), '어택': NounScore(frequency=2, score=1.0), '매진': NounScore(frequency=4, score=1.0), '이력': NounScore(frequency=3, score=1.0), '있음': NounScore(frequency=12, score=0.75), '본인': NounScore(frequency=3, score=1.0), '너~': NounScore(frequency=1, score=0.5), '구동': NounScore(frequency=2, score=1.0), '기사': NounScore(frequency=4, score=1.0), '연어': NounScore(frequency=3, score=1.0), '불러': NounScore(frequency=2, score=1.0), '약간': NounScore(frequency=7, score=1.0), '유통': NounScore(frequency=1, score=0.3333333333333333), '사장': NounScore(frequency=2, score=1.0), '제일': NounScore(frequency=12, score=1.0), '변질': NounScore(frequency=2, score=1.0), '배열': NounScore(frequency=1, score=0.5), '표기': NounScore(frequency=3, score=1.0), '제도': NounScore(frequency=2, score=1.0), '천지': NounScore(frequency=1, score=0.5), '늘어': NounScore(frequency=4, score=1.0), '사과': NounScore(frequency=4, score=0.6666666666666666), '최신': NounScore(frequency=4, score=0.8), '겁나': NounScore(frequency=3, score=1.0), '자주': NounScore(frequency=132, score=1.0), '짱짱': NounScore(frequency=3, score=0.6), '시선': NounScore(frequency=2, score=1.0), '단순': NounScore(frequency=3, score=1.0), '임박': NounScore(frequency=2, score=1.0), '번호': NounScore(frequency=4, score=0.8), '5개': NounScore(frequency=3, score=1.0), '커피': NounScore(frequency=2, score=1.0), '필터': NounScore(frequency=5, score=0.8333333333333334), '육류': NounScore(frequency=1, score=0.5), '특별': NounScore(frequency=2, score=0.4), '철저': NounScore(frequency=2, score=0.6666666666666666), '진정': NounScore(frequency=2, score=1.0), '소비': NounScore(frequency=2, score=0.5), '푸짐': NounScore(frequency=2, score=1.0), '깜빡': NounScore(frequency=2, score=1.0), '동일': NounScore(frequency=4, score=0.8), '따뜻': NounScore(frequency=1, score=0.5), '간소': NounScore(frequency=1, score=0.5), '세밀': NounScore(frequency=1, score=0.5), '미흡': NounScore(frequency=1, score=0.5), '지긋': NounScore(frequency=1, score=0.5), '심플': NounScore(frequency=1, score=0.5), '완': NounScore(frequency=9, score=0.6428571428571429), '대': NounScore(frequency=36, score=0.6666666666666666), '회': NounScore(frequency=1, score=0.5), '운': NounScore(frequency=1, score=0.5), '것': NounScore(frequency=237, score=1.0), '저': NounScore(frequency=40, score=0.92), '번': NounScore(frequency=60, score=1.0), '4': NounScore(frequency=15, score=0.5555555555555556), '1': NounScore(frequency=18, score=1.0), '5': NounScore(frequency=4, score=0.5), '원': NounScore(frequency=44, score=0.76), '2': NounScore(frequency=17, score=1.0), '잘': NounScore(frequency=337, score=1.0), '3': NounScore(frequency=10, score=0.75), '말': NounScore(frequency=42, score=0.5384615384615384), '개': NounScore(frequency=25, score=0.3333333333333333), '앱': NounScore(frequency=282, score=1.0), '빵': NounScore(frequency=6, score=1.0), '물': NounScore(frequency=11, score=1.0), '창': NounScore(frequency=10, score=1.0), '돈': NounScore(frequency=15, score=1.0), '굿': NounScore(frequency=140, score=1.0), '중': NounScore(frequency=70, score=1.0), '짱': NounScore(frequency=9, score=0.42857142857142855), '편': NounScore(frequency=416, score=1.0), '굳': NounScore(frequency=36, score=1.0), '땡': NounScore(frequency=1, score=0.3333333333333333), '맨': NounScore(frequency=13, score=1.0), '첫': NounScore(frequency=39, score=1.0), '화': NounScore(frequency=2, score=0.3333333333333333), '심': NounScore(frequency=5, score=1.0), '기': NounScore(frequency=7, score=0.6), '장': NounScore(frequency=115, score=1.0), '안': NounScore(frequency=359, score=1.0), '급': NounScore(frequency=13, score=1.0), '구': NounScore(frequency=8, score=1.0), '접': NounScore(frequency=4, score=0.6), '못': NounScore(frequency=91, score=0.9354838709677419), '집': NounScore(frequency=36, score=1.0), '곳': NounScore(frequency=31, score=1.0), '내': NounScore(frequency=40, score=0.3157894736842105), '앞': NounScore(frequency=55, score=1.0), '위': NounScore(frequency=27, score=0.8620689655172413), '쪽': NounScore(frequency=3, score=1.0), '면': NounScore(frequency=2, score=1.0), '벽': NounScore(frequency=2, score=1.0), '쿠': NounScore(frequency=3, score=0.375), '활': NounScore(frequency=1, score=0.3333333333333333), '낚': NounScore(frequency=3, score=1.0), '법': NounScore(frequency=2, score=1.0), '점': NounScore(frequency=26, score=1.0), '분': NounScore(frequency=8, score=1.0), '흠': NounScore(frequency=2, score=1.0), '식': NounScore(frequency=3, score=0.5), '줄': NounScore(frequency=29, score=0.3333333333333333), '0': NounScore(frequency=4, score=1.0), '제': NounScore(frequency=57, score=0.92), '수': NounScore(frequency=316, score=0.875), '때': NounScore(frequency=129, score=1.0), '누': NounScore(frequency=7, score=0.75), '평': NounScore(frequency=9, score=0.8), '배': NounScore(frequency=7, score=0.7), '바': NounScore(frequency=63, score=1.0), '차': NounScore(frequency=7, score=0.5), 'a': NounScore(frequency=5, score=0.45454545454545453), '먼': NounScore(frequency=3, score=0.375), '티': NounScore(frequency=2, score=1.0), '찜': NounScore(frequency=45, score=0.7837837837837838), '뒤': NounScore(frequency=27, score=1.0), '따': NounScore(frequency=10, score=1.0), '별': NounScore(frequency=21, score=0.8076923076923077), '새': NounScore(frequency=13, score=0.3333333333333333), '상': NounScore(frequency=9, score=0.7777777777777778), '후': NounScore(frequency=61, score=1.0), '맘': NounScore(frequency=63, score=1.0), '백': NounScore(frequency=8, score=1.0), '글': NounScore(frequency=14, score=1.0), '피': NounScore(frequency=1, score=0.3333333333333333), '망': NounScore(frequency=5, score=1.0), '취': NounScore(frequency=1, score=0.5), '9': NounScore(frequency=8, score=0.5), '8': NounScore(frequency=2, score=1.0), '딱': NounScore(frequency=14, score=1.0), '웹': NounScore(frequency=2, score=1.0), '똑': NounScore(frequency=2, score=1.0), '(': NounScore(frequency=6, score=0.4), '꿈': NounScore(frequency=1, score=0.5), '툭': NounScore(frequency=2, score=1.0), '코': NounScore(frequency=6, score=0.4), '어': NounScore(frequency=7, score=0.5555555555555556), '종': NounScore(frequency=5, score=0.3333333333333333), '맛': NounScore(frequency=86, score=0.9047619047619048), '속': NounScore(frequency=7, score=1.0), '웬': NounScore(frequency=5, score=1.0), '외': NounScore(frequency=5, score=1.0), '질': NounScore(frequency=58, score=0.9428571428571428), '탭': NounScore(frequency=4, score=1.0), '팩': NounScore(frequency=2, score=1.0), '밖': NounScore(frequency=2, score=1.0), '통': NounScore(frequency=5, score=1.0), '등': NounScore(frequency=33, score=1.0), '김': NounScore(frequency=3, score=1.0), '리': NounScore(frequency=2, score=1.0), '목': NounScore(frequency=1, score=0.5), '년': NounScore(frequency=7, score=1.0), '얍': NounScore(frequency=1, score=0.5), '삶': NounScore(frequency=10, score=1.0), '짓': NounScore(frequency=1, score=0.5), '밑': NounScore(frequency=11, score=1.0), '순': NounScore(frequency=9, score=1.0), '눈': NounScore(frequency=11, score=1.0), '손': NounScore(frequency=3, score=1.0), '홈': NounScore(frequency=5, score=0.625), '밤': NounScore(frequency=18, score=1.0), '변': NounScore(frequency=2, score=1.0), '신': NounScore(frequency=3, score=1.0), '양': NounScore(frequency=14, score=1.0), '폰': NounScore(frequency=7, score=1.0), '값': NounScore(frequency=4, score=1.0), '잔': NounScore(frequency=2, score=0.6666666666666666), '측': NounScore(frequency=2, score=1.0), '첨': NounScore(frequency=6, score=1.0), '낮': NounScore(frequency=8, score=0.3333333333333333), '끝': NounScore(frequency=3, score=1.0), '줌': NounScore(frequency=2, score=0.6666666666666666), '몸': NounScore(frequency=2, score=1.0), '칼': NounScore(frequency=4, score=1.0), '찐': NounScore(frequency=2, score=0.6666666666666666), '뜻': NounScore(frequency=2, score=1.0), '너': NounScore(frequency=2, score=0.5), '풀': NounScore(frequency=2, score=1.0), '괜': NounScore(frequency=10, score=1.0), '멈': NounScore(frequency=3, score=1.0), '답': NounScore(frequency=5, score=0.8333333333333334), '땅': NounScore(frequency=2, score=1.0), '렉': NounScore(frequency=3, score=0.75), '꽃': NounScore(frequency=2, score=1.0), '귀': NounScore(frequency=2, score=1.0), '홀': NounScore(frequency=1, score=0.5), '권': NounScore(frequency=4, score=1.0), '듯': NounScore(frequency=24, score=1.0), '군': NounScore(frequency=1, score=0.5), '착': NounScore(frequency=9, score=0.6923076923076923), '또': NounScore(frequency=29, score=0.9666666666666667), '덜': NounScore(frequency=6, score=0.8571428571428571), '황': NounScore(frequency=2, score=0.4), '너무너무너무너무': NounScore(frequency=1.0, score=1), '할인쿠폰지급': NounScore(frequency=1.0, score=1), '주식상장': NounScore(frequency=1.0, score=1), '플레이스토어': NounScore(frequency=1.0, score=1), '상품페이지': NounScore(frequency=1.0, score=1), '너무너무너무': NounScore(frequency=1.0, score=3), '배달기사분들': NounScore(frequency=1.0, score=1), '식품신선도': NounScore(frequency=1.0, score=1), '다이어트식품': NounScore(frequency=1.0, score=1), '배송직원분들': NounScore(frequency=1.0, score=1), '조심조심': NounScore(frequency=1.0, score=1), 'pc버전': NounScore(frequency=1.0, score=1), '배달기사님': NounScore(frequency=1.0, score=1), '성인인증': NounScore(frequency=1.0, score=2), '부담금액': NounScore(frequency=1.0, score=1), '상단부분': NounScore(frequency=1.0, score=1), '회원혜택': NounScore(frequency=1.0, score=1), '배송물품': NounScore(frequency=1.0, score=1), '고구마치즈': NounScore(frequency=1.0, score=1), '조리방법': NounScore(frequency=1.0, score=1), '컬리중독': NounScore(frequency=1.0, score=0), '배송조회': NounScore(frequency=1.0, score=1), '냉장제품': NounScore(frequency=1.0, score=1), '냉장식품': NounScore(frequency=1.0, score=1), '배달기사': NounScore(frequency=1.0, score=1), '쇼핑앱들': NounScore(frequency=1.0, score=1), '결제방법': NounScore(frequency=1.0, score=1), '자주이용': NounScore(frequency=1.0, score=0), '고객지원': NounScore(frequency=1.0, score=1), '경쟁회사': NounScore(frequency=1.0, score=1), '화면구성': NounScore(frequency=1.0, score=1), '이용불가': NounScore(frequency=1.0, score=0), '결제금액': NounScore(frequency=1.0, score=1), '상담사분들': NounScore(frequency=1.0, score=0), '유통기간': NounScore(frequency=1.0, score=1), '할인행사': NounScore(frequency=1.0, score=2), '제품품질': NounScore(frequency=1.0, score=1), '주문번호': NounScore(frequency=1.0, score=1), '상세내역': NounScore(frequency=1.0, score=1), '택배기사님': NounScore(frequency=1.0, score=0), '상품설명': NounScore(frequency=1.0, score=1), '구매내역': NounScore(frequency=1.0, score=1), '환경문제': NounScore(frequency=1.0, score=1), '품질관리': NounScore(frequency=1.0, score=1), '가격비교': NounScore(frequency=1.0, score=0), '배송기사': NounScore(frequency=1.0, score=0), '너무너무': NounScore(frequency=1.0, score=21), '주문금액': NounScore(frequency=1.0, score=1), '품질만족': NounScore(frequency=1.0, score=1), '확인기능': NounScore(frequency=1.0, score=1), '그때그때': NounScore(frequency=1.0, score=3), '종이가방': NounScore(frequency=1.0, score=1), '배송만족': NounScore(frequency=1.0, score=0), '중간중간': NounScore(frequency=1.0, score=1), '가입선물': NounScore(frequency=1.0, score=1), '식품신선': NounScore(frequency=1.0, score=0), '배송직원': NounScore(frequency=1.0, score=0), '여자친구': NounScore(frequency=1.0, score=1), '깔끔포장': NounScore(frequency=1.0, score=2), '택배회사': NounScore(frequency=1.0, score=1), '주문취소': NounScore(frequency=1.0, score=1), '조리식품': NounScore(frequency=1.0, score=0), '오류수정': NounScore(frequency=1.0, score=1), '간편조리': NounScore(frequency=1.0, score=1), '안전배송': NounScore(frequency=1.0, score=0), '유통식품': NounScore(frequency=1.0, score=1), '상온제품': NounScore(frequency=1.0, score=1), '오류발생': NounScore(frequency=1.0, score=0), '결제시도': NounScore(frequency=1.0, score=1), '유효기간': NounScore(frequency=1.0, score=1), '주문내역': NounScore(frequency=1.0, score=1), '상온식품': NounScore(frequency=1.0, score=0), '택배기사': NounScore(frequency=1.0, score=0), '간편결제': NounScore(frequency=1.0, score=2), '강추강추': NounScore(frequency=1.0, score=1)}\n",
      "====================================================================================================\n",
      "전체 1118 개의 명사 중 조건을 충족하는 143 개의 명사가 추출됨\n"
     ]
    }
   ],
   "source": [
    "from soynlp.noun import LRNounExtractor_v2, LRNounExtractor, NewsNounExtractor  \n",
    "\n",
    "noun_extractor = LRNounExtractor_v2() #사용하고 싶은 툴로 변경하며 사용\n",
    "train_list=list(tmp_df['리뷰 hanspell 후'])\n",
    "\n",
    "\n",
    "nouns = noun_extractor.train_extract(train_list) # list of str like\n",
    "\n",
    "#print (nouns) #명사 빈도수, 점수 \n",
    "#print (len(nouns)) #추출된 명사의 개수 \n",
    "\n",
    "noun_list = [] #추출된 명사를 담을 리스트\n",
    "noun_freq = [] #추출된 명사의 빈도수를 담을 리스트\n",
    "count = 0\n",
    "\n",
    "#명사로 20번이상 등장 and 점수가 0.5이상 (원하는 )\n",
    "for noun in nouns:\n",
    "    if (nouns[noun][0] >= 20) and (nouns[noun][1]) >= 0.5: \n",
    "        noun_list.append(noun)  #명사 리스트에 추가\n",
    "        noun_freq.append(nouns[noun][0]) #빈도수 추가\n",
    "        #print (noun)\n",
    "        #print (nouns[noun][0])\n",
    "        count +=1 #조건에 맞는 명사 개수 count\n",
    "df_noun = pd.DataFrame (noun_list,columns=['noun'])\n",
    "df_noun['freq'] = noun_freq \n",
    "df_noun = pd.DataFrame(df_noun) # 명사와 리스트로 df만듦\n",
    "#display(df_noun.head())\n",
    "print (\"==\"*50) \n",
    "print (\"전체 %d 개의 명사 중 조건을 충족하는 %d 개의 명사가 추출됨\"%(len(nouns),count)) "
   ]
  },
  {
   "cell_type": "code",
   "execution_count": 31,
   "id": "41fae785",
   "metadata": {},
   "outputs": [
    {
     "data": {
      "text/html": [
       "<div>\n",
       "<style scoped>\n",
       "    .dataframe tbody tr th:only-of-type {\n",
       "        vertical-align: middle;\n",
       "    }\n",
       "\n",
       "    .dataframe tbody tr th {\n",
       "        vertical-align: top;\n",
       "    }\n",
       "\n",
       "    .dataframe thead th {\n",
       "        text-align: right;\n",
       "    }\n",
       "</style>\n",
       "<table border=\"1\" class=\"dataframe\">\n",
       "  <thead>\n",
       "    <tr style=\"text-align: right;\">\n",
       "      <th></th>\n",
       "      <th>noun</th>\n",
       "      <th>freq</th>\n",
       "    </tr>\n",
       "  </thead>\n",
       "  <tbody>\n",
       "    <tr>\n",
       "      <th>25</th>\n",
       "      <td>배송</td>\n",
       "      <td>927</td>\n",
       "    </tr>\n",
       "    <tr>\n",
       "      <th>105</th>\n",
       "      <td>너무</td>\n",
       "      <td>564</td>\n",
       "    </tr>\n",
       "    <tr>\n",
       "      <th>118</th>\n",
       "      <td>편</td>\n",
       "      <td>416</td>\n",
       "    </tr>\n",
       "    <tr>\n",
       "      <th>18</th>\n",
       "      <td>상품</td>\n",
       "      <td>404</td>\n",
       "    </tr>\n",
       "    <tr>\n",
       "      <th>47</th>\n",
       "      <td>사용</td>\n",
       "      <td>369</td>\n",
       "    </tr>\n",
       "    <tr>\n",
       "      <th>...</th>\n",
       "      <td>...</td>\n",
       "      <td>...</td>\n",
       "    </tr>\n",
       "    <tr>\n",
       "      <th>96</th>\n",
       "      <td>사진</td>\n",
       "      <td>21</td>\n",
       "    </tr>\n",
       "    <tr>\n",
       "      <th>81</th>\n",
       "      <td>처리</td>\n",
       "      <td>20</td>\n",
       "    </tr>\n",
       "    <tr>\n",
       "      <th>20</th>\n",
       "      <td>화면</td>\n",
       "      <td>20</td>\n",
       "    </tr>\n",
       "    <tr>\n",
       "      <th>51</th>\n",
       "      <td>신속</td>\n",
       "      <td>20</td>\n",
       "    </tr>\n",
       "    <tr>\n",
       "      <th>32</th>\n",
       "      <td>버튼</td>\n",
       "      <td>20</td>\n",
       "    </tr>\n",
       "  </tbody>\n",
       "</table>\n",
       "<p>143 rows × 2 columns</p>\n",
       "</div>"
      ],
      "text/plain": [
       "    noun  freq\n",
       "25    배송   927\n",
       "105   너무   564\n",
       "118    편   416\n",
       "18    상품   404\n",
       "47    사용   369\n",
       "..   ...   ...\n",
       "96    사진    21\n",
       "81    처리    20\n",
       "20    화면    20\n",
       "51    신속    20\n",
       "32    버튼    20\n",
       "\n",
       "[143 rows x 2 columns]"
      ]
     },
     "metadata": {},
     "output_type": "display_data"
    }
   ],
   "source": [
    "display(df_noun.sort_values(by='freq',ascending=False))"
   ]
  },
  {
   "cell_type": "markdown",
   "id": "2776606c",
   "metadata": {},
   "source": [
    "## L 토큰화 \n",
    "- https://datascienceschool.net/03%20machine%20learning/03.01.04%20soynlp.html"
   ]
  },
  {
   "cell_type": "code",
   "execution_count": 60,
   "id": "ed73f433",
   "metadata": {},
   "outputs": [
    {
     "ename": "NameError",
     "evalue": "name 'word_score' is not defined",
     "output_type": "error",
     "traceback": [
      "\u001b[1;31m---------------------------------------------------------------------------\u001b[0m",
      "\u001b[1;31mNameError\u001b[0m                                 Traceback (most recent call last)",
      "Cell \u001b[1;32mIn[60], line 3\u001b[0m\n\u001b[0;32m      1\u001b[0m \u001b[38;5;28;01mfrom\u001b[39;00m \u001b[38;5;21;01msoynlp\u001b[39;00m\u001b[38;5;21;01m.\u001b[39;00m\u001b[38;5;21;01mtokenizer\u001b[39;00m \u001b[38;5;28;01mimport\u001b[39;00m LTokenizer\n\u001b[1;32m----> 3\u001b[0m scores \u001b[38;5;241m=\u001b[39m {word:score\u001b[38;5;241m.\u001b[39mcohesion_forward \u001b[38;5;28;01mfor\u001b[39;00m word, score \u001b[38;5;129;01min\u001b[39;00m \u001b[43mword_score\u001b[49m\u001b[38;5;241m.\u001b[39mitems()}\n\u001b[0;32m      4\u001b[0m L_tokenizer \u001b[38;5;241m=\u001b[39m LTokenizer(scores\u001b[38;5;241m=\u001b[39mscores)\n\u001b[0;32m      6\u001b[0m L_tokenizer\u001b[38;5;241m.\u001b[39mtokenize(\u001b[38;5;124m\"\u001b[39m\u001b[38;5;124m안전성에 문제있는 스마트폰을 휴대하고 탑승할 경우에 압수한다\u001b[39m\u001b[38;5;124m\"\u001b[39m, flatten\u001b[38;5;241m=\u001b[39m\u001b[38;5;28;01mFalse\u001b[39;00m)\n",
      "\u001b[1;31mNameError\u001b[0m: name 'word_score' is not defined"
     ]
    }
   ],
   "source": [
    "from soynlp.tokenizer import LTokenizer\n",
    "\n",
    "scores = {word:score.cohesion_forward for word, score in word_score.items()}\n",
    "L_tokenizer = LTokenizer(scores=scores)\n",
    "\n",
    "L_tokenizer.tokenize(\"안전성에 문제있는 스마트폰을 휴대하고 탑승할 경우에 압수한다\", flatten=False)"
   ]
  },
  {
   "cell_type": "code",
   "execution_count": null,
   "id": "48394efb",
   "metadata": {},
   "outputs": [],
   "source": []
  }
 ],
 "metadata": {
  "kernelspec": {
   "display_name": "ds_study",
   "language": "python",
   "name": "ds_study"
  },
  "language_info": {
   "codemirror_mode": {
    "name": "ipython",
    "version": 3
   },
   "file_extension": ".py",
   "mimetype": "text/x-python",
   "name": "python",
   "nbconvert_exporter": "python",
   "pygments_lexer": "ipython3",
   "version": "3.8.16"
  }
 },
 "nbformat": 4,
 "nbformat_minor": 5
}
